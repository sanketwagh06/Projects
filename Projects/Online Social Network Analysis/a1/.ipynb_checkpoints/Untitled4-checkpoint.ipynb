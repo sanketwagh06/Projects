{
 "cells": [
  {
   "cell_type": "code",
   "execution_count": 45,
   "metadata": {
    "collapsed": true
   },
   "outputs": [],
   "source": [
    "# Imports you'll need.\n",
    "from collections import Counter\n",
    "import ConfigParser\n",
    "import matplotlib.pyplot as plt\n",
    "import networkx as nx\n",
    "import sys\n",
    "import time\n",
    "from TwitterAPI import TwitterAPI\n",
    "\n",
    "%matplotlib inline"
   ]
  },
  {
   "cell_type": "code",
   "execution_count": 46,
   "metadata": {
    "collapsed": false
   },
   "outputs": [
    {
     "name": "stdout",
     "output_type": "stream",
     "text": [
      "Established a Twitter connection.\n"
     ]
    }
   ],
   "source": [
    "# This method is done for you. Make sure to put your credentials in twitter.cfg.\n",
    "def get_twitter(config_file):\n",
    "    \"\"\" Read the config_file and construct an instance of TwitterAPI.\n",
    "    Args:\n",
    "      config_file ... A config file in ConfigParser format with Twitter credentials\n",
    "    Returns:\n",
    "      An instance of TwitterAPI.\n",
    "    \"\"\"\n",
    "    config = ConfigParser.ConfigParser()\n",
    "    config.read(config_file)\n",
    "    twitter = TwitterAPI(\n",
    "                   config.get('twitter', 'consumer_key'),\n",
    "                   config.get('twitter', 'consumer_secret'),\n",
    "                   config.get('twitter', 'access_token'),\n",
    "                   config.get('twitter', 'access_token_secret'))\n",
    "    return twitter\n",
    "\n",
    "twitter = get_twitter('twitter.cfg')\n",
    "print('Established a Twitter connection.')"
   ]
  },
  {
   "cell_type": "code",
   "execution_count": 47,
   "metadata": {
    "collapsed": false
   },
   "outputs": [
    {
     "name": "stdout",
     "output_type": "stream",
     "text": [
      "Read 15 candidates\n",
      "('HillaryClinton', 'D')\n",
      "('BernieSanders', 'D')\n",
      "('MartinOMalley', 'D')\n",
      "('JoeBiden', 'D')\n",
      "('JimWebbUSA', 'D')\n",
      "('realDonaldTrump', 'R')\n",
      "('JebBush', 'R')\n",
      "('RealBenCarson', 'R')\n",
      "('marcorubio', 'R')\n",
      "('ScottWalker', 'R')\n",
      "('tedcruz', 'R')\n",
      "('CarlyFiorina', 'R')\n",
      "('GovMikeHuckabee', 'R')\n",
      "('govchristie', 'R')\n",
      "('DrRandPaul', 'R')\n"
     ]
    }
   ],
   "source": [
    "def read_candidates(filename):\n",
    "    \"\"\" Read a list of usernames for U.S. presedential candidates\n",
    "    Args:\n",
    "      filename: The name of the text file containing in format:\n",
    "         <twitter handle> <R or D for Republican or Democrat>\n",
    "    Returns:\n",
    "      A list of (string, string) tuples representing each (handle, party) pair.\n",
    "    \"\"\"\n",
    "    # TODO\n",
    "    candidate_file = open(\"candidates.txt\", \"r\")\n",
    "    candidate_temp1 = []\n",
    "    candidate_temp1 =  candidate_file.read().splitlines()\n",
    "    candidate_temp2 = []\n",
    "    for x in range(len(candidate_temp1)):\n",
    "        candidate_temp2.append(candidate_temp1[x].split())\n",
    "    candidate_list = []\n",
    "    for i in range(len(candidate_temp2)):\n",
    "        x = candidate_temp2[i][0]\n",
    "        y = candidate_temp2[i][1]\n",
    "        candidate_list.append((x,y))\n",
    "    candidate_file.close()\n",
    "    return candidate_list\n",
    "    \n",
    "    \n",
    "candidates = read_candidates('candidates.txt')\n",
    "print('Read %d candidates' % len(candidates))\n",
    "print('\\n'.join(str(x) for x in candidates))"
   ]
  },
  {
   "cell_type": "code",
   "execution_count": 48,
   "metadata": {
    "collapsed": false
   },
   "outputs": [
    {
     "name": "stdout",
     "output_type": "stream",
     "text": [
      "10 republicans, 5 democrats\n"
     ]
    }
   ],
   "source": [
    "#separate candidates by party.\n",
    "republicans = [c[0] for c in candidates if c[1] == 'R']\n",
    "democrats = [c[0] for c in candidates if c[1] == 'D']\n",
    "print('%d republicans, %d democrats' % (len(republicans), len(democrats)))\n"
   ]
  },
  {
   "cell_type": "code",
   "execution_count": 49,
   "metadata": {
    "collapsed": true
   },
   "outputs": [],
   "source": [
    "# I've provided the method below to handle Twitter's rate limiting.\n",
    "def robust_request(twitter, resource, params, max_tries=5):\n",
    "    \"\"\" If a Twitter request fails, sleep for 15 minutes.\n",
    "    Do this at most max_tries times before quitting.\n",
    "    Args:\n",
    "      twitter .... A TwitterAPI object.\n",
    "      resource ... A resource string to request.\n",
    "      params ..... A parameter dictionary for the request.\n",
    "      max_tries .. The maximum number of tries to attempt.\n",
    "    Returns:\n",
    "      A TwitterResponse object, or None if failed.\n",
    "    \"\"\"\n",
    "    for i in range(max_tries):\n",
    "        request = twitter.request(resource, params)\n",
    "        print request.status_code\n",
    "        if request.status_code == 200:\n",
    "            return request\n",
    "        else:\n",
    "            print >> sys.stderr, 'Got error:', request.text, '\\nsleeping for 15 minutes.'\n",
    "            sys.stderr.flush()\n",
    "            time.sleep(61 * 15)"
   ]
  },
  {
   "cell_type": "code",
   "execution_count": 52,
   "metadata": {
    "collapsed": false
   },
   "outputs": [
    {
     "ename": "IndentationError",
     "evalue": "unexpected indent (<ipython-input-52-4528651d4555>, line 19)",
     "output_type": "error",
     "traceback": [
      "\u001b[1;36m  File \u001b[1;32m\"<ipython-input-52-4528651d4555>\"\u001b[1;36m, line \u001b[1;32m19\u001b[0m\n\u001b[1;33m    for i in range(len(friend_follow)):\u001b[0m\n\u001b[1;37m    ^\u001b[0m\n\u001b[1;31mIndentationError\u001b[0m\u001b[1;31m:\u001b[0m unexpected indent\n"
     ]
    }
   ],
   "source": [
    "def get_friends(screen_name):\n",
    "    \"\"\" Return a list of the users that this person follows on Twitter, up to 200.\n",
    "    See https://dev.twitter.com/rest/reference/get/friends/list\n",
    "    Note, because of rate limits, it's best to test this method for one candidate before trying\n",
    "    on all candidates.\n",
    "\n",
    "    Args:\n",
    "        screen_name: a string of a Twitter screen name\n",
    "    Returns:\n",
    "        A list of strings, one per friend.\n",
    "    Note: Many users follow more than 200 accounts; we will limit ourselves to\n",
    "    the first 200 accounts returned.\n",
    "    \"\"\"\n",
    "    # TODO\n",
    "    #Using the example request on the dev.twitter.com\n",
    "    friend_list_dictionary = robust_request(twitter,'friends/list',{'screen_name' : screen_name, 'count':200})\n",
    "    friend_follow = [i for i in friend_list_dictionary]\n",
    "    screenname = []\n",
    "    for i in range(len(friend_follow)):\n",
    "            x = friend_follow[i]['screen_name']\n",
    "            screenname.append(x)\n",
    "    return friend_follow "
   ]
  },
  {
   "cell_type": "code",
   "execution_count": 51,
   "metadata": {
    "collapsed": false
   },
   "outputs": [
    {
     "name": "stdout",
     "output_type": "stream",
     "text": [
      "{'count': 200, 'screen_name': 'HillaryClinton'}\n",
      "200\n",
      "{'count': 200, 'screen_name': 'BernieSanders'}"
     ]
    },
    {
     "name": "stderr",
     "output_type": "stream",
     "text": [
      "WARNING:root:<class 'requests.exceptions.ConnectionError'> HTTPSConnectionPool(host='api.twitter.com', port=443): Read timed out.\n"
     ]
    },
    {
     "name": "stdout",
     "output_type": "stream",
     "text": [
      "\n"
     ]
    },
    {
     "ename": "TwitterConnectionError",
     "evalue": "HTTPSConnectionPool(host='api.twitter.com', port=443): Read timed out.",
     "output_type": "error",
     "traceback": [
      "\u001b[1;31m---------------------------------------------------------------------------\u001b[0m",
      "\u001b[1;31mTwitterConnectionError\u001b[0m                    Traceback (most recent call last)",
      "\u001b[1;32m<ipython-input-51-18e1c000a1c0>\u001b[0m in \u001b[0;36m<module>\u001b[1;34m()\u001b[0m\n\u001b[0;32m      9\u001b[0m \u001b[1;33m\u001b[0m\u001b[0m\n\u001b[0;32m     10\u001b[0m     \u001b[1;32mreturn\u001b[0m \u001b[1;33m{\u001b[0m\u001b[0mn\u001b[0m\u001b[1;33m:\u001b[0m \u001b[0mget_friends\u001b[0m\u001b[1;33m(\u001b[0m\u001b[0mn\u001b[0m\u001b[1;33m)\u001b[0m \u001b[1;32mfor\u001b[0m \u001b[0mn\u001b[0m \u001b[1;32min\u001b[0m \u001b[0mscreen_names\u001b[0m\u001b[1;33m}\u001b[0m\u001b[1;33m\u001b[0m\u001b[0m\n\u001b[1;32m---> 11\u001b[1;33m \u001b[0mcandidate2friends\u001b[0m \u001b[1;33m=\u001b[0m \u001b[0mget_all_friends\u001b[0m\u001b[1;33m(\u001b[0m\u001b[0mc\u001b[0m\u001b[1;33m[\u001b[0m\u001b[1;36m0\u001b[0m\u001b[1;33m]\u001b[0m \u001b[1;32mfor\u001b[0m \u001b[0mc\u001b[0m \u001b[1;32min\u001b[0m \u001b[0mcandidates\u001b[0m\u001b[1;33m)\u001b[0m\u001b[1;33m\u001b[0m\u001b[0m\n\u001b[0m",
      "\u001b[1;32m<ipython-input-51-18e1c000a1c0>\u001b[0m in \u001b[0;36mget_all_friends\u001b[1;34m(screen_names)\u001b[0m\n\u001b[0;32m      8\u001b[0m     \"\"\"\n\u001b[0;32m      9\u001b[0m \u001b[1;33m\u001b[0m\u001b[0m\n\u001b[1;32m---> 10\u001b[1;33m     \u001b[1;32mreturn\u001b[0m \u001b[1;33m{\u001b[0m\u001b[0mn\u001b[0m\u001b[1;33m:\u001b[0m \u001b[0mget_friends\u001b[0m\u001b[1;33m(\u001b[0m\u001b[0mn\u001b[0m\u001b[1;33m)\u001b[0m \u001b[1;32mfor\u001b[0m \u001b[0mn\u001b[0m \u001b[1;32min\u001b[0m \u001b[0mscreen_names\u001b[0m\u001b[1;33m}\u001b[0m\u001b[1;33m\u001b[0m\u001b[0m\n\u001b[0m\u001b[0;32m     11\u001b[0m \u001b[0mcandidate2friends\u001b[0m \u001b[1;33m=\u001b[0m \u001b[0mget_all_friends\u001b[0m\u001b[1;33m(\u001b[0m\u001b[0mc\u001b[0m\u001b[1;33m[\u001b[0m\u001b[1;36m0\u001b[0m\u001b[1;33m]\u001b[0m \u001b[1;32mfor\u001b[0m \u001b[0mc\u001b[0m \u001b[1;32min\u001b[0m \u001b[0mcandidates\u001b[0m\u001b[1;33m)\u001b[0m\u001b[1;33m\u001b[0m\u001b[0m\n",
      "\u001b[1;32m<ipython-input-51-18e1c000a1c0>\u001b[0m in \u001b[0;36m<dictcomp>\u001b[1;34m((n,))\u001b[0m\n\u001b[0;32m      8\u001b[0m     \"\"\"\n\u001b[0;32m      9\u001b[0m \u001b[1;33m\u001b[0m\u001b[0m\n\u001b[1;32m---> 10\u001b[1;33m     \u001b[1;32mreturn\u001b[0m \u001b[1;33m{\u001b[0m\u001b[0mn\u001b[0m\u001b[1;33m:\u001b[0m \u001b[0mget_friends\u001b[0m\u001b[1;33m(\u001b[0m\u001b[0mn\u001b[0m\u001b[1;33m)\u001b[0m \u001b[1;32mfor\u001b[0m \u001b[0mn\u001b[0m \u001b[1;32min\u001b[0m \u001b[0mscreen_names\u001b[0m\u001b[1;33m}\u001b[0m\u001b[1;33m\u001b[0m\u001b[0m\n\u001b[0m\u001b[0;32m     11\u001b[0m \u001b[0mcandidate2friends\u001b[0m \u001b[1;33m=\u001b[0m \u001b[0mget_all_friends\u001b[0m\u001b[1;33m(\u001b[0m\u001b[0mc\u001b[0m\u001b[1;33m[\u001b[0m\u001b[1;36m0\u001b[0m\u001b[1;33m]\u001b[0m \u001b[1;32mfor\u001b[0m \u001b[0mc\u001b[0m \u001b[1;32min\u001b[0m \u001b[0mcandidates\u001b[0m\u001b[1;33m)\u001b[0m\u001b[1;33m\u001b[0m\u001b[0m\n",
      "\u001b[1;32m<ipython-input-50-9a2bc49a8968>\u001b[0m in \u001b[0;36mget_friends\u001b[1;34m(screen_name)\u001b[0m\n\u001b[0;32m     14\u001b[0m     \u001b[1;31m# TODO\u001b[0m\u001b[1;33m\u001b[0m\u001b[1;33m\u001b[0m\u001b[0m\n\u001b[0;32m     15\u001b[0m     \u001b[1;31m#Using the example request on the dev.twitter.com\u001b[0m\u001b[1;33m\u001b[0m\u001b[1;33m\u001b[0m\u001b[0m\n\u001b[1;32m---> 16\u001b[1;33m     \u001b[0mfriend_list_dictionary\u001b[0m \u001b[1;33m=\u001b[0m \u001b[0mrobust_request\u001b[0m\u001b[1;33m(\u001b[0m\u001b[0mtwitter\u001b[0m\u001b[1;33m,\u001b[0m\u001b[1;34m'friends/list'\u001b[0m\u001b[1;33m,\u001b[0m\u001b[1;33m{\u001b[0m\u001b[1;34m'screen_name'\u001b[0m \u001b[1;33m:\u001b[0m \u001b[0mscreen_name\u001b[0m\u001b[1;33m,\u001b[0m \u001b[1;34m'count'\u001b[0m\u001b[1;33m:\u001b[0m\u001b[1;36m200\u001b[0m\u001b[1;33m}\u001b[0m\u001b[1;33m)\u001b[0m\u001b[1;33m\u001b[0m\u001b[0m\n\u001b[0m\u001b[0;32m     17\u001b[0m     \u001b[0mfriend_follow\u001b[0m \u001b[1;33m=\u001b[0m \u001b[1;33m[\u001b[0m\u001b[0mi\u001b[0m \u001b[1;32mfor\u001b[0m \u001b[0mi\u001b[0m \u001b[1;32min\u001b[0m \u001b[0mfriend_list_dictionary\u001b[0m\u001b[1;33m]\u001b[0m\u001b[1;33m\u001b[0m\u001b[0m\n\u001b[0;32m     18\u001b[0m     \"\"\"\"screenname = []\n",
      "\u001b[1;32m<ipython-input-49-9dbcd99886b9>\u001b[0m in \u001b[0;36mrobust_request\u001b[1;34m(twitter, resource, params, max_tries)\u001b[0m\n\u001b[0;32m     13\u001b[0m     \u001b[1;32mprint\u001b[0m \u001b[0mparams\u001b[0m\u001b[1;33m\u001b[0m\u001b[0m\n\u001b[0;32m     14\u001b[0m     \u001b[1;32mfor\u001b[0m \u001b[0mi\u001b[0m \u001b[1;32min\u001b[0m \u001b[0mrange\u001b[0m\u001b[1;33m(\u001b[0m\u001b[0mmax_tries\u001b[0m\u001b[1;33m)\u001b[0m\u001b[1;33m:\u001b[0m\u001b[1;33m\u001b[0m\u001b[0m\n\u001b[1;32m---> 15\u001b[1;33m         \u001b[0mrequest\u001b[0m \u001b[1;33m=\u001b[0m \u001b[0mtwitter\u001b[0m\u001b[1;33m.\u001b[0m\u001b[0mrequest\u001b[0m\u001b[1;33m(\u001b[0m\u001b[0mresource\u001b[0m\u001b[1;33m,\u001b[0m \u001b[0mparams\u001b[0m\u001b[1;33m)\u001b[0m\u001b[1;33m\u001b[0m\u001b[0m\n\u001b[0m\u001b[0;32m     16\u001b[0m         \u001b[1;32mprint\u001b[0m \u001b[0mrequest\u001b[0m\u001b[1;33m.\u001b[0m\u001b[0mstatus_code\u001b[0m\u001b[1;33m\u001b[0m\u001b[0m\n\u001b[0;32m     17\u001b[0m         \u001b[1;32mif\u001b[0m \u001b[0mrequest\u001b[0m\u001b[1;33m.\u001b[0m\u001b[0mstatus_code\u001b[0m \u001b[1;33m==\u001b[0m \u001b[1;36m200\u001b[0m\u001b[1;33m:\u001b[0m\u001b[1;33m\u001b[0m\u001b[0m\n",
      "\u001b[1;32mC:\\Anaconda\\lib\\site-packages\\TwitterAPI\\TwitterAPI.pyc\u001b[0m in \u001b[0;36mrequest\u001b[1;34m(self, resource, params, files)\u001b[0m\n\u001b[0;32m    122\u001b[0m         except (ConnectionError, ProtocolError, ReadTimeout, ReadTimeoutError, \n\u001b[0;32m    123\u001b[0m                 SSLError, ssl.SSLError, socket.error) as e:\n\u001b[1;32m--> 124\u001b[1;33m             \u001b[1;32mraise\u001b[0m \u001b[0mTwitterConnectionError\u001b[0m\u001b[1;33m(\u001b[0m\u001b[0me\u001b[0m\u001b[1;33m)\u001b[0m\u001b[1;33m\u001b[0m\u001b[0m\n\u001b[0m\u001b[0;32m    125\u001b[0m         \u001b[1;32mreturn\u001b[0m \u001b[0mTwitterResponse\u001b[0m\u001b[1;33m(\u001b[0m\u001b[0mr\u001b[0m\u001b[1;33m,\u001b[0m \u001b[0msession\u001b[0m\u001b[1;33m.\u001b[0m\u001b[0mstream\u001b[0m\u001b[1;33m)\u001b[0m\u001b[1;33m\u001b[0m\u001b[0m\n\u001b[0;32m    126\u001b[0m \u001b[1;33m\u001b[0m\u001b[0m\n",
      "\u001b[1;31mTwitterConnectionError\u001b[0m: HTTPSConnectionPool(host='api.twitter.com', port=443): Read timed out."
     ]
    }
   ],
   "source": [
    "def get_all_friends(screen_names):\n",
    "    \"\"\" Get the friends for all the users in usernames.\n",
    "    I.e., call get_friends for all 15 candidates.\n",
    "    Args:\n",
    "        screen_names: a list of Twitter screen names, one per candidate\n",
    "    Returns:\n",
    "        a dict mapping each candidate's username (string) to a list of his/her friends (strings)\n",
    "    \"\"\"\n",
    "    \n",
    "    return {n: get_friends(n) for n in screen_names}\n",
    "candidate2friends = get_all_friends(c[0] for c in candidates)\n"
   ]
  },
  {
   "cell_type": "code",
   "execution_count": null,
   "metadata": {
    "collapsed": true
   },
   "outputs": [],
   "source": [
    "def print_num_friends(candidate2friends):\n",
    "    # TODO\n",
    "    for i in sorted(candidate2friends):\n",
    "        x = len(candidate2friends[i])\n",
    "        print \"%s %d\" %(i,x)\n",
    "    \n",
    "print_num_friends(candidate2friends)"
   ]
  },
  {
   "cell_type": "code",
   "execution_count": null,
   "metadata": {
    "collapsed": true
   },
   "outputs": [],
   "source": [
    "# Who is the most popular friend? (i.e., which friend is followed by the most number of candidates?\n",
    "def count_friends(candidate2friends):\n",
    "    \"\"\" Count how often each friend is followed.\n",
    "    Args:\n",
    "        candidate2friends: a dict mapping each candidate to a list of friends\n",
    "    Returns:\n",
    "        a Counter object mapping each friend to the number of candidates who follow them.\n",
    "        Counter documentation: https://docs.python.org/dev/library/collections.html#collections.Counter\n",
    "    \"\"\"\n",
    "    # TODO\n",
    "    counter = Counter()\n",
    "    for x in candidate2friends.values():\n",
    "        counter.values()\n",
    "        return counter\n",
    "\n",
    "friend_counts = count_friends(candidate2friends)\n",
    "print friend_counts.most_common(5)"
   ]
  }
 ],
 "metadata": {
  "kernelspec": {
   "display_name": "Python 2",
   "language": "python",
   "name": "python2"
  },
  "language_info": {
   "codemirror_mode": {
    "name": "ipython",
    "version": 2
   },
   "file_extension": ".py",
   "mimetype": "text/x-python",
   "name": "python",
   "nbconvert_exporter": "python",
   "pygments_lexer": "ipython2",
   "version": "2.7.10"
  }
 },
 "nbformat": 4,
 "nbformat_minor": 0
}
