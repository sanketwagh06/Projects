{
 "cells": [
  {
   "cell_type": "code",
   "execution_count": 1,
   "metadata": {
    "collapsed": false
   },
   "outputs": [
    {
     "data": {
      "image/png": "[encoded data removed]",
      "text/plain": [
       "<matplotlib.figure.Figure at 0x14d9ffd0>"
      ]
     },
     "metadata": {},
     "output_type": "display_data"
    }
   ],
   "source": [
    "import networkx as nx\n",
    "%matplotlib inline\n",
    "def create_example_graph():\n",
    "    graph = nx.Graph()\n",
    "    graph.add_edges_from([('A', 'B'), ('A', 'C'), ('B', 'C'),\n",
    "                          ('B', 'D'), ('D', 'E'), ('D', 'F'),\n",
    "                          ('D', 'G'), ('E', 'F'), ('G', 'F')])\n",
    "    return graph\n",
    "\n",
    "graph = create_example_graph()\n",
    "nx.draw(graph, with_labels=True)"
   ]
  },
  {
   "cell_type": "code",
   "execution_count": 2,
   "metadata": {
    "collapsed": false
   },
   "outputs": [
    {
     "data": {
      "text/plain": [
       "{('A', 'B'): 0.23809523809523808,\n",
       " ('A', 'C'): 0.047619047619047616,\n",
       " ('B', 'D'): 0.5714285714285714,\n",
       " ('C', 'B'): 0.23809523809523808,\n",
       " ('D', 'F'): 0.19047619047619047,\n",
       " ('D', 'G'): 0.21428571428571427,\n",
       " ('E', 'D'): 0.21428571428571427,\n",
       " ('E', 'F'): 0.07142857142857142,\n",
       " ('G', 'F'): 0.07142857142857142}"
      ]
     },
     "execution_count": 2,
     "metadata": {},
     "output_type": "execute_result"
    }
   ],
   "source": [
    "nx.edge_betweenness_centrality(graph)"
   ]
  },
  {
   "cell_type": "code",
   "execution_count": 3,
   "metadata": {
    "collapsed": true
   },
   "outputs": [],
   "source": [
    "def girvan_newman(G, depth=0):\n",
    "    \"\"\" Recursive implementation of the girvan_newman algorithm.\n",
    "    See http://www-rohan.sdsu.edu/~gawron/python_for_ss/course_core/book_draft/Social_Networks/Networkx.html\n",
    "    \n",
    "    Args:\n",
    "    G.....a networkx graph\n",
    "\n",
    "    Returns:\n",
    "    A list of all discovered communities.\"\"\"\n",
    "\n",
    "    if G.order() == 1:\n",
    "        return [G.nodes()]\n",
    "    \n",
    "    def find_best_edge(G0):\n",
    "        eb = nx.edge_betweenness_centrality(G0)\n",
    "        # eb is dict of (edge, score) pairs, where higher is better\n",
    "        # Return the edge with the highest score.\n",
    "        return sorted(eb.items(), key=lambda x: x[1], reverse=True)[0][0]\n",
    "\n",
    "    # Each component is a separate community. We cluster each of these.\n",
    "    components = [c for c in nx.connected_component_subgraphs(G)]\n",
    "    indent = '   ' * depth  # for printing\n",
    "    while len(components) == 1:\n",
    "        edge_to_remove = find_best_edge(G)\n",
    "        print indent + 'removing', edge_to_remove\n",
    "        G.remove_edge(*edge_to_remove)\n",
    "        components = [c for c in nx.connected_component_subgraphs(G)]\n",
    "\n",
    "    result = [c.nodes() for c in components]\n",
    "    print  indent + 'components=', result\n",
    "    for c in components:\n",
    "        result.extend(girvan_newman(c, depth + 1))\n",
    "\n",
    "    return result\n"
   ]
  },
  {
   "cell_type": "code",
   "execution_count": 4,
   "metadata": {
    "collapsed": false
   },
   "outputs": [
    {
     "name": "stdout",
     "output_type": "stream",
     "text": [
      "removing ('B', 'D')\n",
      "components= [['A', 'C', 'B'], ['E', 'D', 'G', 'F']]\n",
      "   removing ('C', 'B')\n",
      "   removing ('A', 'B')\n",
      "   components= [['A', 'C'], ['B']]\n",
      "      removing ('A', 'C')\n",
      "      components= [['A'], ['C']]\n",
      "   removing ('E', 'F')\n",
      "   removing ('E', 'D')\n",
      "   components= [['E'], ['D', 'G', 'F']]\n",
      "      removing ('G', 'F')\n",
      "      removing ('D', 'G')\n",
      "      components= [['D', 'F'], ['G']]\n",
      "         removing ('D', 'F')\n",
      "         components= [['D'], ['F']]\n"
     ]
    }
   ],
   "source": [
    "result = girvan_newman(create_example_graph())"
   ]
  }
 ],
 "metadata": {
  "kernelspec": {
   "display_name": "Python 2",
   "language": "python",
   "name": "python2"
  },
  "language_info": {
   "codemirror_mode": {
    "name": "ipython",
    "version": 2
   },
   "file_extension": ".py",
   "mimetype": "text/x-python",
   "name": "python",
   "nbconvert_exporter": "python",
   "pygments_lexer": "ipython2",
   "version": "2.7.10"
  }
 },
 "nbformat": 4,
 "nbformat_minor": 0
}
