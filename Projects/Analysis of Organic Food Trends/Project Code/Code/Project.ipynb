{
 "metadata": {
  "kernelspec": {
   "display_name": "Python 2",
   "language": "python",
   "name": "python2"
  },
  "language_info": {
   "codemirror_mode": {
    "name": "ipython",
    "version": 2
   },
   "file_extension": ".py",
   "mimetype": "text/x-python",
   "name": "python",
   "nbconvert_exporter": "python",
   "pygments_lexer": "ipython2",
   "version": "2.7.10"
  },
  "name": "",
  "signature": "sha256:67847adb046c7ba8fe7a5f3ab76be24dfe2175c8726683c34e6094f097019dbd"
 },
 "nbformat": 3,
 "nbformat_minor": 0,
 "worksheets": [
  {
   "cells": [
    {
     "cell_type": "heading",
     "level": 3,
     "metadata": {},
     "source": [
      "Food Habbits of the People Of Chicago\n"
     ]
    },
    {
     "cell_type": "heading",
     "level": 4,
     "metadata": {},
     "source": [
      "[Analysis of Organic Food Trends using Twitter Data]"
     ]
    },
    {
     "cell_type": "heading",
     "level": 5,
     "metadata": {},
     "source": [
      "Shashank Sharma[A20330372]\n",
      "Sanket Nitin Wagh[A20330391]"
     ]
    },
    {
     "cell_type": "code",
     "collapsed": false,
     "input": [
      "from collections import Counter\n",
      "import ConfigParser\n",
      "import networkx as nx\n",
      "import io\n",
      "import sys, os\n",
      "import time\n",
      "import json\n",
      "from TwitterAPI import TwitterAPI\n",
      "from ConfigParser import SafeConfigParser\n",
      "from urlparse import urlparse\n",
      "from datetime import datetime, timedelta\n",
      "import math\n",
      "import matplotlib.pyplot as plt\n",
      "import numpy as np\n",
      "import pymongo\n",
      "from pymongo import MongoClient\n",
      "from sklearn.cross_validation import KFold\n",
      "from sklearn.feature_extraction.text import CountVectorizer\n",
      "from sklearn.linear_model import LogisticRegression\n",
      "from sklearn.metrics import accuracy_score\n",
      "from sklearn.svm import LinearSVC\n",
      "import hashlib\n",
      "import random\n",
      "import re\n",
      "\n",
      "%matplotlib inline\n",
      "from pylab import *\n",
      "\n",
      "useMongoDB=False"
     ],
     "language": "python",
     "metadata": {},
     "outputs": [],
     "prompt_number": 1284
    },
    {
     "cell_type": "heading",
     "level": 5,
     "metadata": {},
     "source": [
      "Collect City Data from MongoDB"
     ]
    },
    {
     "cell_type": "code",
     "collapsed": false,
     "input": [
      "allTweet=[]\n",
      "organicTweets=[]\n",
      "\n",
      "if useMongoDB:\n",
      "    client = MongoClient(\"localhost\", 27017)\n",
      "    db = client.test_database\n",
      "    tweetDB=[]\n",
      "    x=[str(x) for x in db.collection_names() if str(x) not in ['system.indexes']]\n",
      "    tweetDB=[db.get_collection(i) for i in x]\n",
      "    cityDB={}\n",
      "    for i in x:\n",
      "        cityDB[i]=db.get_collection(i)\n",
      "else:\n",
      "    fObj=open(\"sampleData.txt\",\"r\")\n",
      "    allTweet=fObj.read().split(\"\\n\")\n",
      "    fObj.close()\n",
      "    fObj=open(\"organicData.txt\",\"r\")\n",
      "    organicTweets=fObj.read().split(\"\\n\")\n",
      "    fObj.close()\n",
      "    \n"
     ],
     "language": "python",
     "metadata": {},
     "outputs": [],
     "prompt_number": 1285
    },
    {
     "cell_type": "heading",
     "level": 5,
     "metadata": {},
     "source": [
      "Get All Tweets"
     ]
    },
    {
     "cell_type": "code",
     "collapsed": false,
     "input": [
      "if useMongoDB:\n",
      "    for x in tweetDB:\n",
      "        c=x.find()\n",
      "        for i in c:\n",
      "            allTweet.append(i[\"text\"])\n",
      "\n"
     ],
     "language": "python",
     "metadata": {},
     "outputs": [],
     "prompt_number": 1286
    },
    {
     "cell_type": "heading",
     "level": 5,
     "metadata": {},
     "source": [
      "Get Organic Tweet"
     ]
    },
    {
     "cell_type": "code",
     "collapsed": false,
     "input": [
      "if useMongoDB:\n",
      "    ODB=db.get_collection(\"Organic\")\n",
      "    c=ODB.find()\n",
      "    for i in c:\n",
      "        organicTweets.append(i[\"text\"])\n",
      "\n"
     ],
     "language": "python",
     "metadata": {},
     "outputs": [],
     "prompt_number": 1287
    },
    {
     "cell_type": "heading",
     "level": 5,
     "metadata": {},
     "source": [
      "Tokenize Organic Tweets \n"
     ]
    },
    {
     "cell_type": "code",
     "collapsed": true,
     "input": [
      "def tokenize(string):\n",
      "    lowercase=True\n",
      "    keep_punctuation=True\n",
      "    prefix=\"\"\n",
      "    collapse_urls=True\n",
      "    collapse_mentions=True\n",
      "\n",
      "    \"\"\" Split a tweet into tokens.\"\"\"\n",
      "    \n",
      "    string = re.sub('#', '', string) #\"This_is_a_url\"\n",
      "#     string =re.sub('[^A-Z a-z 0-9]+', '', string)\n",
      "    if not string:\n",
      "        return []\n",
      "    if lowercase:\n",
      "        string = string.lower()\n",
      "    tokens = []\n",
      "    if collapse_urls:\n",
      "        string = re.sub('http\\S+', '', string) #\"This_is_a_url\"\n",
      "    if collapse_mentions:\n",
      "        string = re.sub('@\\S+', '', string) #\"This_is_a_mention\"\n",
      "    if keep_punctuation:\n",
      "        tokens = string.split()\n",
      "    else:\n",
      "        tokens = re.sub('\\W+', ' ', string).split()\n",
      "        \n",
      "    if prefix:\n",
      "        tokens = ['%s%s' % (t) for t in tokens]\n",
      "    return tokens"
     ],
     "language": "python",
     "metadata": {},
     "outputs": [],
     "prompt_number": 1288
    },
    {
     "cell_type": "code",
     "collapsed": true,
     "input": [
      "def tweet2tokens(tweet, use_descr=False, lowercase=True,\n",
      "                 keep_punctuation=True, descr_prefix='',\n",
      "                 collapse_urls=True, collapse_mentions=True):\n",
      "    \"\"\" Convert a tweet into a list of tokens, from the tweet text and optionally the\n",
      "    user description. \"\"\"\n",
      "    tokens = tokenize(tweet)\n",
      "    if use_descr:\n",
      "        tokens.extend(tokenize(tweet['user']['description']))\n",
      "    return tokens\n"
     ],
     "language": "python",
     "metadata": {},
     "outputs": [],
     "prompt_number": 1289
    },
    {
     "cell_type": "code",
     "collapsed": false,
     "input": [
      "# Let's tokenize all tweets.\n",
      "def tokenizeTweet(tweets):\n",
      "    tokens_list = [tweet2tokens(t, use_descr=False, lowercase=True,\n",
      "                            keep_punctuation=False, descr_prefix='d=',\n",
      "                            collapse_urls=True, collapse_mentions=True)\n",
      "              for t in tweets]\n",
      "    return tokens_list\n",
      "tokens_list=tokenizeTweet(organicTweets)"
     ],
     "language": "python",
     "metadata": {},
     "outputs": [],
     "prompt_number": 1290
    },
    {
     "cell_type": "code",
     "collapsed": false,
     "input": [
      "fObj=open(\"stopWords.txt\",\"r\")\n",
      "data=fObj.read()\n",
      "stopWords=data.split(\";\")\n",
      "\n",
      "def removeStopWordsperTweet(tokenizedTweets):\n",
      "    \n",
      "    tweets_list=[]\n",
      "    for i in tokenizedTweets:\n",
      "        temp=[]\n",
      "        for tag in i:\n",
      "            if tag not in stopWords:\n",
      "                temp.append(tag)\n",
      "        tweets_list.append(temp)\n",
      "    return tweets_list\n",
      "\n",
      "tweets_list=removeStopWordsperTweet(tokens_list)\n"
     ],
     "language": "python",
     "metadata": {},
     "outputs": [],
     "prompt_number": 1291
    },
    {
     "cell_type": "heading",
     "level": 5,
     "metadata": {},
     "source": [
      "Grade OrganicTweets"
     ]
    },
    {
     "cell_type": "code",
     "collapsed": true,
     "input": [
      "tweetweight = {}\n",
      "obj= open('training_data.txt','r')\n",
      "for line in obj:\n",
      "    arg= line.split(':')\n",
      "    tweetweight[arg[0]] = arg[1].replace(\"\\n\", \"\")\n",
      "\n"
     ],
     "language": "python",
     "metadata": {},
     "outputs": [],
     "prompt_number": 1292
    },
    {
     "cell_type": "code",
     "collapsed": false,
     "input": [
      "def gradeTweets(tList):\n",
      "    testLabel=[]\n",
      "    for i in tList:\n",
      "        items=[]\n",
      "        for tag in i:\n",
      "            if tag in tweetweight.keys():\n",
      "                items.append(float(tweetweight[tag]))\n",
      "        if items:        \n",
      "            testLabel.append(sum(items)/len(items))        \n",
      "        else:\n",
      "            testLabel.append(0.0)        \n",
      "    return testLabel\n",
      "\n",
      "allData=gradeTweets(tweets_list)"
     ],
     "language": "python",
     "metadata": {},
     "outputs": [],
     "prompt_number": 1293
    },
    {
     "cell_type": "heading",
     "level": 5,
     "metadata": {},
     "source": [
      "Label Tweets based on Threshold value"
     ]
    },
    {
     "cell_type": "code",
     "collapsed": false,
     "input": [
      "def labelTweets(threshold,data):\n",
      "    labeledTweets=[(0,1)[j>threshold] for i,j in enumerate(data)]\n",
      "    return np.array(labeledTweets)\n",
      "labeledTweets=labelTweets(0.6,allData)"
     ],
     "language": "python",
     "metadata": {},
     "outputs": [],
     "prompt_number": 1331
    },
    {
     "cell_type": "code",
     "collapsed": false,
     "input": [],
     "language": "python",
     "metadata": {},
     "outputs": [],
     "prompt_number": 1331
    },
    {
     "cell_type": "heading",
     "level": 5,
     "metadata": {},
     "source": [
      "Vectorize Organic Tweets[\"Training Data\"]"
     ]
    },
    {
     "cell_type": "code",
     "collapsed": false,
     "input": [
      "#adding count vectorizer for tweets\n",
      "def do_vectorize(filenames, tokenizer_fn=tokenize, min_df=2,\n",
      "                 max_df=2., binary=False, ngram_range=(1,1)):\n",
      "    \n",
      "    local_matrix = CountVectorizer(input = 'content' ,tokenizer=tokenize, min_df=min_df,max_df=max_df, binary=binary, ngram_range=ngram_range,dtype=int)\n",
      "    X = local_matrix.fit_transform(x for x in filenames)\n",
      "    return X, local_matrix\n",
      "matrix, vec = do_vectorize(organicTweets)"
     ],
     "language": "python",
     "metadata": {},
     "outputs": [],
     "prompt_number": 1332
    },
    {
     "cell_type": "heading",
     "level": 5,
     "metadata": {},
     "source": [
      "Shuffle Data"
     ]
    },
    {
     "cell_type": "code",
     "collapsed": false,
     "input": [
      "def repeatable_random(seed):\n",
      "    hash = str(seed)\n",
      "    while True:\n",
      "        hash = hashlib.md5(hash).digest()\n",
      "        for c in hash:\n",
      "            yield ord(c)\n",
      "\n",
      "def repeatable_shuffle(X, y, filenames):\n",
      "    r = repeatable_random(42) \n",
      "    indices = sorted(range(X.shape[0]), key=lambda x: next(r))\n",
      "    return X[indices], y[indices], np.array(filenames)[indices]\n",
      "\n",
      "X, y, filenames = repeatable_shuffle(matrix, labeledTweets, organicTweets)"
     ],
     "language": "python",
     "metadata": {},
     "outputs": [],
     "prompt_number": 1333
    },
    {
     "cell_type": "heading",
     "level": 5,
     "metadata": {},
     "source": [
      "Select Classifier"
     ]
    },
    {
     "cell_type": "code",
     "collapsed": true,
     "input": [
      "def get_clf():\n",
      "    return LogisticRegression(random_state=42)\n",
      "\n",
      "\n",
      "def get_SVCObject():\n",
      "    return LinearSVC(random_state=42)\n"
     ],
     "language": "python",
     "metadata": {},
     "outputs": [],
     "prompt_number": 1334
    },
    {
     "cell_type": "code",
     "collapsed": false,
     "input": [
      "def do_cross_validation(X, y,clf_Obj, n_folds=5, verbose=False):\n",
      "    cv = KFold(len(y), n_folds)\n",
      "    accuracies = []\n",
      "    index=0\n",
      "    for train_idx, test_idx in cv:\n",
      "        clf_Obj.fit(X[train_idx], y[train_idx])\n",
      "        predicted = clf.predict(X[test_idx])\n",
      "        acc = accuracy_score(y[test_idx], predicted)\n",
      "        if verbose==True:\n",
      "            print \"fold\",index,\" accuracy=%.4f\"%acc\n",
      "            \n",
      "        index=index+1\n",
      "        accuracies.append(acc)\n",
      "    return sum(accuracies)/n_folds,accuracies"
     ],
     "language": "python",
     "metadata": {},
     "outputs": [],
     "prompt_number": 1335
    },
    {
     "cell_type": "code",
     "collapsed": false,
     "input": [
      "def plotLineGraph(val,labels):\n",
      "    plt.plot(labels, val, 'bo-')\n",
      "    plt.xlabel(\"n_folds\")\n",
      "    plt.ylabel(\"Accuracy\")\n",
      "    plt.show()"
     ],
     "language": "python",
     "metadata": {},
     "outputs": [],
     "prompt_number": 1336
    },
    {
     "cell_type": "heading",
     "level": 5,
     "metadata": {},
     "source": [
      "    Logistic Regression"
     ]
    },
    {
     "cell_type": "code",
     "collapsed": false,
     "input": [
      "n=5\n",
      "clf = get_clf()\n",
      "clf.fit(X, y)\n",
      "lr,acc=do_cross_validation(matrix, labeledTweets,clf, n_folds=n, verbose=True)\n",
      "print \"Average Logistric Regression Accuracy:\",lr"
     ],
     "language": "python",
     "metadata": {},
     "outputs": [
      {
       "output_type": "stream",
       "stream": "stdout",
       "text": [
        "fold 0  accuracy=0.6364\n",
        "fold 1  accuracy=0.7105\n",
        "fold 2  accuracy=0.5789\n",
        "fold 3  accuracy=0.8421\n",
        "fold 4  accuracy=0.7105\n",
        "Average Logistric Regression Accuracy: 0.695693779904\n"
       ]
      }
     ],
     "prompt_number": 1337
    },
    {
     "cell_type": "code",
     "collapsed": false,
     "input": [],
     "language": "python",
     "metadata": {},
     "outputs": [],
     "prompt_number": 1337
    },
    {
     "cell_type": "code",
     "collapsed": false,
     "input": [
      "plotLineGraph(acc,range(1,n+1))"
     ],
     "language": "python",
     "metadata": {},
     "outputs": [
      {
       "metadata": {},
       "output_type": "display_data",
       "png": "[encoded data removed]",
       "text": [
        "<matplotlib.figure.Figure at 0x7f8e51c598d0>"
       ]
      }
     ],
     "prompt_number": 1338
    },
    {
     "cell_type": "heading",
     "level": 5,
     "metadata": {},
     "source": [
      "Support Vector Machine"
     ]
    },
    {
     "cell_type": "code",
     "collapsed": false,
     "input": [
      "svm=get_SVCObject();\n",
      "svm.fit(matrix,labeledTweets)\n",
      "svc,acc=do_cross_validation(matrix, labeledTweets,svm, n_folds=n, verbose=True)\n",
      "print \"Average SVM Accuracy:\",svc"
     ],
     "language": "python",
     "metadata": {},
     "outputs": [
      {
       "output_type": "stream",
       "stream": "stdout",
       "text": [
        "fold 0  accuracy=0.9481\n",
        "fold 1  accuracy=0.9868\n",
        "fold 2  accuracy=0.9737\n",
        "fold 3  accuracy=1.0000\n",
        "fold 4  accuracy=0.7105\n",
        "Average SVM Accuracy: 0.923820915926\n"
       ]
      }
     ],
     "prompt_number": 1339
    },
    {
     "cell_type": "code",
     "collapsed": false,
     "input": [
      "plotLineGraph(acc,range(1,n+1))"
     ],
     "language": "python",
     "metadata": {},
     "outputs": [
      {
       "metadata": {},
       "output_type": "display_data",
       "png": "[encoded data removed]",
       "text": [
        "<matplotlib.figure.Figure at 0x7f8e530d77d0>"
       ]
      }
     ],
     "prompt_number": 1340
    },
    {
     "cell_type": "heading",
     "level": 5,
     "metadata": {},
     "source": [
      "Transform and Validate Test Data"
     ]
    },
    {
     "cell_type": "code",
     "collapsed": false,
     "input": [
      "sample=allTweet\n",
      "test_matrix = vec.transform(x for x in sample)\n"
     ],
     "language": "python",
     "metadata": {},
     "outputs": [],
     "prompt_number": 1341
    },
    {
     "cell_type": "heading",
     "level": 5,
     "metadata": {},
     "source": [
      "Predict"
     ]
    },
    {
     "cell_type": "code",
     "collapsed": false,
     "input": [
      "lr_prediction=clf.predict(test_matrix)\n",
      "svm_prediction=svm.predict(test_matrix)"
     ],
     "language": "python",
     "metadata": {},
     "outputs": [],
     "prompt_number": 1342
    },
    {
     "cell_type": "heading",
     "level": 5,
     "metadata": {},
     "source": [
      "Grade and Label Test Data"
     ]
    },
    {
     "cell_type": "code",
     "collapsed": false,
     "input": [
      "\n",
      "sampleTokens=removeStopWordsperTweet(tokenizeTweet(sample))\n",
      "gradedetweets=gradeTweets(sampleTokens)\n",
      "labeledTweets=labelTweets(.6,gradedetweets)"
     ],
     "language": "python",
     "metadata": {},
     "outputs": [],
     "prompt_number": 1343
    },
    {
     "cell_type": "heading",
     "level": 5,
     "metadata": {},
     "source": [
      "Validate with Logistic Regression Prediction"
     ]
    },
    {
     "cell_type": "code",
     "collapsed": false,
     "input": [
      "count=0\n",
      "for i,j in zip(lr_prediction,labeledTweets):\n",
      "    if i!=j:\n",
      "        count=count+1\n",
      "labelled=100-(count/(len(labeledTweets)*1.0)*100)\n",
      "\n",
      "accuracyLR=[lr*100,labelled]\n",
      "print accuracyLR"
     ],
     "language": "python",
     "metadata": {},
     "outputs": [
      {
       "output_type": "stream",
       "stream": "stdout",
       "text": [
        "[69.569377990430624, 85.63810224347186]\n"
       ]
      }
     ],
     "prompt_number": 1344
    },
    {
     "cell_type": "heading",
     "level": 5,
     "metadata": {},
     "source": [
      "Validate with SVM Prediction"
     ]
    },
    {
     "cell_type": "code",
     "collapsed": false,
     "input": [
      "count=0\n",
      "for i,j in zip(svm_prediction,labeledTweets):\n",
      "    if i!=j:\n",
      "        count=count+1\n",
      "labelled=100-(count/(len(labeledTweets)*1.0)*100)\n",
      "accuracySVM=[svc*100,labelled]\n",
      "print accuracySVM"
     ],
     "language": "python",
     "metadata": {},
     "outputs": [
      {
       "output_type": "stream",
       "stream": "stdout",
       "text": [
        "[92.382091592617911, 86.66789260757632]\n"
       ]
      }
     ],
     "prompt_number": 1345
    },
    {
     "cell_type": "code",
     "collapsed": false,
     "input": [
      "def plotBarGraph(accuracy,labels):\n",
      "    n_groups=len(accuracy)\n",
      "    fig, ax = plt.subplots()\n",
      "    index = np.arange(n_groups)\n",
      "    bar_width = 0.30\n",
      "\n",
      "    opacity = 0.4\n",
      "    error_config = {'ecolor': '0.3'}\n",
      "    rects1 = plt.bar(index, accuracy, bar_width,\n",
      "                     alpha=opacity,\n",
      "                     color='b',\n",
      "                     yerr=5,\n",
      "                     error_kw=error_config\n",
      "                     )\n",
      "    plt.xlabel('Method')\n",
      "    plt.ylabel('Accuracy')\n",
      "    plt.title('Accuracy for Different Classification method')\n",
      "    plt.xticks(index , labels)\n",
      "    plt.legend()\n",
      "    plt.tight_layout()\n",
      "    plt.show()\n",
      "    \n",
      "plotBarGraph(accuracyLR,['LR_trained',\"LR_Test Data\"])\n",
      "plotBarGraph(accuracySVM,['SVM_trained',\"SVM_Test Data\"])"
     ],
     "language": "python",
     "metadata": {},
     "outputs": [
      {
       "metadata": {},
       "output_type": "display_data",
       "png": "[encoded data removed]",
       "text": [
        "<matplotlib.figure.Figure at 0x7f8e5f508ed0>"
       ]
      },
      {
       "metadata": {},
       "output_type": "display_data",
       "png": "[encoded data removed]",
       "text": [
        "<matplotlib.figure.Figure at 0x7f8e504aff90>"
       ]
      }
     ],
     "prompt_number": 1346
    },
    {
     "cell_type": "code",
     "collapsed": false,
     "input": [],
     "language": "python",
     "metadata": {},
     "outputs": [],
     "prompt_number": 1346
    },
    {
     "cell_type": "code",
     "collapsed": false,
     "input": [],
     "language": "python",
     "metadata": {},
     "outputs": []
    },
    {
     "cell_type": "code",
     "collapsed": false,
     "input": [],
     "language": "python",
     "metadata": {},
     "outputs": []
    }
   ],
   "metadata": {}
  }
 ]
}