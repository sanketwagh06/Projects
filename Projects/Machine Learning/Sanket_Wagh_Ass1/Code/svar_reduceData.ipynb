{
 "cells": [
  {
   "cell_type": "code",
   "execution_count": 1,
   "metadata": {},
   "outputs": [],
   "source": [
    "import io\n",
    "import numpy as np\n",
    "import matplotlib.pyplot as plt\n",
    "from sklearn import linear_model\n",
    "from sklearn.linear_model import LinearRegression\n",
    "#from sympy.solvers import solve\n",
    "%matplotlib inline\n",
    "filename = \"svar-set2.dat.txt\"\n",
    "X = []\n",
    "Y = []\n",
    "for line in open(filename):\n",
    "    li=line.strip()\n",
    "    if not li.startswith(\"#\"):\n",
    "        var = line.split()\n",
    "        Y.append([float(var[-1])])\n",
    "        X.append([float(i) for i in var[0:len(var)-1]])"
   ]
  },
  {
   "cell_type": "code",
   "execution_count": 2,
   "metadata": {},
   "outputs": [],
   "source": [
    "Z = []\n",
    "Z = X\n",
    "for i in Z:\n",
    "    i.insert(0,1)"
   ]
  },
  {
   "cell_type": "code",
   "execution_count": 3,
   "metadata": {},
   "outputs": [
    {
     "name": "stdout",
     "output_type": "stream",
     "text": [
      "50\n"
     ]
    }
   ],
   "source": [
    "Z_chunk1_train = X[0:150]\n",
    "Z_chunk2_train = X[0:100]\n",
    "Z_chunk3_train = X[0:60]\n",
    "Z_chunk_test = Z[-50:]\n",
    "Y_chunk1_train =Y[0:150]\n",
    "Y_chunk2_train = Y[0:100]\n",
    "Y_chunk3_train = Y[0:60]\n",
    "Y_chunk_test = Y[-50:]\n",
    "\n",
    "print len(Z_chunk_test)"
   ]
  },
  {
   "cell_type": "code",
   "execution_count": 4,
   "metadata": {},
   "outputs": [
    {
     "name": "stdout",
     "output_type": "stream",
     "text": [
      "[[ 0.32615745]\n",
      " [-0.07842592]]\n"
     ]
    }
   ],
   "source": [
    "theta_chunk1 = np.linalg.solve((np.dot(np.array(Z_chunk1_train).transpose(),np.array(Z_chunk1_train))),\n",
    "                           (np.dot(np.array(Z_chunk1_train).transpose(),np.array(Y_chunk1_train))))\n",
    "\n",
    "print theta_chunk1"
   ]
  },
  {
   "cell_type": "code",
   "execution_count": 5,
   "metadata": {},
   "outputs": [
    {
     "name": "stdout",
     "output_type": "stream",
     "text": [
      "[[ 0.35441417]\n",
      " [-0.08161208]]\n"
     ]
    }
   ],
   "source": [
    "theta_chunk2 = np.linalg.solve((np.dot(np.array(Z_chunk2_train).transpose(),np.array(Z_chunk2_train))),\n",
    "                           (np.dot(np.array(Z_chunk2_train).transpose(),np.array(Y_chunk2_train))))\n",
    "\n",
    "print theta_chunk2"
   ]
  },
  {
   "cell_type": "code",
   "execution_count": 6,
   "metadata": {},
   "outputs": [
    {
     "name": "stdout",
     "output_type": "stream",
     "text": [
      "[[ 0.27967643]\n",
      " [-0.06469691]]\n"
     ]
    }
   ],
   "source": [
    "theta_chunk3 = np.linalg.solve((np.dot(np.array(Z_chunk3_train).transpose(),np.array(Z_chunk3_train))),\n",
    "                           (np.dot(np.array(Z_chunk3_train).transpose(),np.array(Y_chunk3_train))))\n",
    "\n",
    "print theta_chunk3"
   ]
  },
  {
   "cell_type": "code",
   "execution_count": 7,
   "metadata": {},
   "outputs": [],
   "source": [
    "predict1 = []\n",
    "for i in Z_chunk_test:\n",
    "    predict1.append(np.dot(np.array(theta_chunk1).transpose(),np.array(i)))\n",
    "    \n",
    "predict2 = []\n",
    "for j in Z_chunk_test:\n",
    "    predict2.append(np.dot(np.array(theta_chunk2).transpose(),np.array(j)))\n",
    "\n",
    "predict3 = []\n",
    "for k in Z_chunk_test:\n",
    "    predict3.append(np.dot(np.array(theta_chunk3).transpose(),np.array(k)))"
   ]
  },
  {
   "cell_type": "code",
   "execution_count": 8,
   "metadata": {},
   "outputs": [],
   "source": [
    "for i in Y_chunk_test:\n",
    "    sumd = 0\n",
    "    for m,n in zip(predict1,Y_chunk_test):\n",
    "        sumd = sumd + (m[0]-n[0])**2\n",
    "    MSE_test1 = sumd/len(predict1)\n",
    "    \n",
    "for j in Y_chunk_test:\n",
    "    sumd = 0\n",
    "    for m,n in zip(predict2,Y_chunk_test):\n",
    "        sumd = sumd + (m[0]-n[0])**2\n",
    "    MSE_test2 = sumd/len(predict2)\n",
    "    \n",
    "for k in Y_chunk_test:\n",
    "    sumd = 0\n",
    "    for m,n in zip(predict3,Y_chunk_test):\n",
    "        sumd = sumd + (m[0]-n[0])**2\n",
    "    MSE_test3 = sumd/len(predict3)"
   ]
  },
  {
   "cell_type": "code",
   "execution_count": 10,
   "metadata": {},
   "outputs": [
    {
     "name": "stdout",
     "output_type": "stream",
     "text": [
      "MSEtest for 150 items tested on 50 items: 0.0531134130605\n",
      "MSEtest for 100 items tested on 50 items: 0.0522352162825\n",
      "MSEtest for 60 items tested on 50 items: 0.0537518240839\n"
     ]
    }
   ],
   "source": [
    "print \"MSEtest for 150 items tested on 50 items:\", MSE_test1\n",
    "print \"MSEtest for 100 items tested on 50 items:\", MSE_test2\n",
    "print \"MSEtest for 60 items tested on 50 items:\", MSE_test3"
   ]
  },
  {
   "cell_type": "code",
   "execution_count": null,
   "metadata": {},
   "outputs": [],
   "source": [
    ""
   ]
  }
 ],
 "metadata": {
  "kernelspec": {
   "display_name": "Python 2",
   "language": "python",
   "name": "python2"
  },
  "language_info": {
   "codemirror_mode": {
    "name": "ipython",
    "version": 2.0
   },
   "file_extension": ".py",
   "mimetype": "text/x-python",
   "name": "python",
   "nbconvert_exporter": "python",
   "pygments_lexer": "ipython2",
   "version": "2.7.10"
  }
 },
 "nbformat": 4,
 "nbformat_minor": 0
}