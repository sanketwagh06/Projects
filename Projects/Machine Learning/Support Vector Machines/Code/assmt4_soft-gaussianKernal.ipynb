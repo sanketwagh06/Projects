{
 "cells": [
  {
   "cell_type": "code",
   "execution_count": 9,
   "metadata": {
    "collapsed": false
   },
   "outputs": [],
   "source": [
    "import numpy as np\n",
    "import math\n",
    "from math import exp\n",
    "import numpy.linalg as linalg\n",
    "from sklearn import metrics\n",
    "import random\n",
    "from sklearn.datasets import fetch_mldata\n",
    "import cvxopt\n",
    "from cvxopt import solvers\n",
    "from cvxopt.base import matrix as mat\n",
    "from scipy.spatial.distance import cdist\n",
    "from pylab import *\n",
    "%matplotlib inline"
   ]
  },
  {
   "cell_type": "code",
   "execution_count": 10,
   "metadata": {
    "collapsed": false
   },
   "outputs": [],
   "source": [
    "def data(size,features,deviation):\n",
    "    w = np.array([0.6,0.6])\n",
    "    w0 = np.array([0])\n",
    "    n = size/2\n",
    "    #Normalized distributed data:\n",
    "    X = np.append((np.random.randn(n,features)+deviation),(np.random.randn(n,features)-deviation),axis =0)\n",
    "    #print X\n",
    "    Y = []\n",
    "    for i in range(len(X)):\n",
    "        if (w0 + np.dot(w,X[i])) > 0:\n",
    "            Y.append([1.0])\n",
    "        elif (w0 + np.dot(w,X[i])) < 0:\n",
    "            Y.append([-1.0])\n",
    "    #print Y\n",
    "    Y = np.array(Y)\n",
    "    #lists used to plot the data\n",
    "    X_pos = []\n",
    "    X_neg = []\n",
    "    x_neg = []\n",
    "    y_neg = []\n",
    "    x_pos = []\n",
    "    y_pos = []\n",
    "    #separating based on features.\n",
    "    for i in range(len(Y)):\n",
    "        if Y[i] == 1:\n",
    "            X_pos.append(X[i])\n",
    "            #print X[i]\n",
    "        elif Y[i] == -1:\n",
    "            X_neg.append(X[i])\n",
    "    #print X_pos\n",
    "    #print X_neg\n",
    "    \n",
    "    for j in range(len(X_pos)):\n",
    "        x_pos.append(X_pos[j][0])\n",
    "        y_pos.append(X_pos[j][1])\n",
    "    #print x_pos\n",
    "    #print y_pos\n",
    "\n",
    "    for j in range(len(X_neg)):\n",
    "        x_neg.append(X_neg[j][0])\n",
    "        y_neg.append(X_neg[j][1])\n",
    "        \n",
    "    \n",
    "    plt.plot(x_neg,y_neg,'ro')\n",
    "    plt.plot(x_pos,y_pos,'bo')\n",
    "    plt.xlabel(\"X\")\n",
    "    plt.ylabel(\"Y\")\n",
    "    plt.show()\n",
    "    return X,Y"
   ]
  },
  {
   "cell_type": "code",
   "execution_count": 11,
   "metadata": {
    "collapsed": false
   },
   "outputs": [
    {
     "data": {
      "image/png": "[encoded data removed]",
      "text/plain": [
       "<matplotlib.figure.Figure at 0x1cab8908>"
      ]
     },
     "metadata": {},
     "output_type": "display_data"
    }
   ],
   "source": [
    "#linearly separable data\n",
    "X_lin,Y_lin = data(120,2,2.0)"
   ]
  },
  {
   "cell_type": "code",
   "execution_count": 12,
   "metadata": {
    "collapsed": false
   },
   "outputs": [
    {
     "data": {
      "image/png": "[encoded data removed]",
      "text/plain": [
       "<matplotlib.figure.Figure at 0x1cd495f8>"
      ]
     },
     "metadata": {},
     "output_type": "display_data"
    }
   ],
   "source": [
    "#linearly non separable data\n",
    "X_non,Y_non = data(150,2,0.5)"
   ]
  },
  {
   "cell_type": "code",
   "execution_count": 13,
   "metadata": {
    "collapsed": false
   },
   "outputs": [],
   "source": [
    "def soft(x,y):\n",
    "    sigma = 0.1\n",
    "    eud = cdist(x,x,'sqeuclidean')\n",
    "    ker = np.exp((-1/2)*(eud/sigma**2))\n",
    "    W = 0\n",
    "    W0 = 0\n",
    "    var = x.shape[0]\n",
    "    epsilon = 0\n",
    "    c = 1.0\n",
    "    p = cvxopt.base.matrix(np.ndarray.tolist(np.dot(y,y.T) * ker))\n",
    "    q = cvxopt.base.matrix([-1.0] * var)\n",
    "    gtemp1 = np.zeros((var, var), float)\n",
    "    gtemp2 = np.zeros((var, var), float)\n",
    "    np.fill_diagonal(gtemp1, -1.0)\n",
    "    np.fill_diagonal(gtemp2, 1.0)\n",
    "    g = cvxopt.base.matrix(np.ndarray.tolist(np.append(gtemp1,gtemp2,axis=0).T))\n",
    "    print g.size\n",
    "    h = cvxopt.base.matrix(([0.0] * var + [c] * var))\n",
    "    a = cvxopt.base.matrix(np.ndarray.tolist(y))\n",
    "    b = cvxopt.base.matrix([1.0])\n",
    "    ld = solvers.qp(p,q,g,h,a,b) #dual problem minimization\n",
    "    alpha_val = cvxopt.base.matrix(ld['x'])\n",
    "    support_vector = []\n",
    "    for i in range(len(alpha_val)):\n",
    "        if alpha_val[i] > epsilon and alpha_val[i] < c :\n",
    "            support_vector.append(x[i])\n",
    "    support_vector = np.matrix(support_vector)\n",
    "    for j in range(len(alpha_val)):\n",
    "        W = W + (alpha_val[j] * y[j] * x[j])\n",
    "    for k in range((len(y))):\n",
    "        W0 = W0 + (y[k] - np.dot(W,x[k]))\n",
    "    W0 = W0 / len(support_vector)\n",
    "    \n",
    "    return W, W0, support_vector\n",
    "    "
   ]
  },
  {
   "cell_type": "code",
   "execution_count": 14,
   "metadata": {
    "collapsed": false
   },
   "outputs": [],
   "source": [
    "def predict(x,w,w0):\n",
    "    predict = []\n",
    "    for i in range(len(x)):\n",
    "        var1 = np.dot(w,x[i]) + w0\n",
    "        if var1 > 0:\n",
    "            predict.append([1])\n",
    "        if var1 < 0:\n",
    "            predict.append([-1])\n",
    "    return np.array(predict)        "
   ]
  },
  {
   "cell_type": "code",
   "execution_count": 15,
   "metadata": {
    "collapsed": true
   },
   "outputs": [],
   "source": [
    "def accuracy(labels,predicted):\n",
    "    return metrics.accuracy_score(labels, predicted)"
   ]
  },
  {
   "cell_type": "code",
   "execution_count": 16,
   "metadata": {
    "collapsed": false
   },
   "outputs": [
    {
     "name": "stdout",
     "output_type": "stream",
     "text": [
      "(240, 120)\n",
      "     pcost       dcost       gap    pres   dres\n",
      " 0: -4.6980e+01 -1.8302e+02  1e+02  9e-15  4e-16\n",
      " 1: -4.9030e+01 -5.7717e+01  9e+00  9e-15  2e-16\n",
      " 2: -5.1114e+01 -5.2542e+01  1e+00  4e-15  9e-17\n",
      " 3: -5.1500e+01 -5.1663e+01  2e-01  6e-15  9e-17\n",
      " 4: -5.1550e+01 -5.1569e+01  2e-02  1e-14  9e-17\n",
      " 5: -5.1557e+01 -5.1559e+01  1e-03  2e-14  8e-17\n",
      " 6: -5.1558e+01 -5.1558e+01  4e-05  2e-14  9e-17\n",
      "Optimal solution found.\n"
     ]
    }
   ],
   "source": [
    "W_lin, W0_lin, sv_lin = soft(X_lin,Y_lin)"
   ]
  },
  {
   "cell_type": "code",
   "execution_count": 17,
   "metadata": {
    "collapsed": false
   },
   "outputs": [],
   "source": [
    "predict_lin = predict(X_lin, W_lin,  W0_lin)"
   ]
  },
  {
   "cell_type": "code",
   "execution_count": 18,
   "metadata": {
    "collapsed": false
   },
   "outputs": [
    {
     "name": "stdout",
     "output_type": "stream",
     "text": [
      "Accuracy: 1.0\n"
     ]
    }
   ],
   "source": [
    "acc = accuracy(Y_lin,predict_lin)\n",
    "print \"Accuracy:\", acc"
   ]
  },
  {
   "cell_type": "code",
   "execution_count": 19,
   "metadata": {
    "collapsed": false
   },
   "outputs": [
    {
     "name": "stdout",
     "output_type": "stream",
     "text": [
      "(300, 150)\n",
      "     pcost       dcost       gap    pres   dres\n",
      " 0: -6.0208e+01 -2.3693e+02  2e+02  2e-15  4e-16\n",
      " 1: -6.2727e+01 -7.5062e+01  1e+01  1e-14  2e-16\n",
      " 2: -6.5363e+01 -6.6922e+01  2e+00  2e-14  1e-16\n",
      " 3: -6.5795e+01 -6.5945e+01  2e-01  2e-14  9e-17\n",
      " 4: -6.5851e+01 -6.5862e+01  1e-02  6e-15  9e-17\n",
      " 5: -6.5856e+01 -6.5857e+01  5e-04  1e-14  1e-16\n",
      " 6: -6.5857e+01 -6.5857e+01  3e-05  5e-15  1e-16\n",
      "Optimal solution found.\n"
     ]
    }
   ],
   "source": [
    "W_non, W0_non, sv_non = soft(X_non,Y_non)"
   ]
  },
  {
   "cell_type": "code",
   "execution_count": 20,
   "metadata": {
    "collapsed": true
   },
   "outputs": [],
   "source": [
    "predict_non = predict(X_non, W_non,  W0_non)"
   ]
  },
  {
   "cell_type": "code",
   "execution_count": 21,
   "metadata": {
    "collapsed": false
   },
   "outputs": [
    {
     "name": "stdout",
     "output_type": "stream",
     "text": [
      "Accuracy: 0.986666666667\n"
     ]
    }
   ],
   "source": [
    "acc_non = accuracy(Y_non,predict_non)\n",
    "print \"Accuracy:\", acc_non"
   ]
  },
  {
   "cell_type": "code",
   "execution_count": 22,
   "metadata": {
    "collapsed": true
   },
   "outputs": [],
   "source": [
    "def plotsupportvector(sv,x,y):\n",
    "    xsv = []\n",
    "    ysv = []\n",
    "    X_pos = []\n",
    "    X_neg = []\n",
    "    x_neg = []\n",
    "    y_neg = []\n",
    "    x_pos = []\n",
    "    y_pos = []\n",
    "    sv = np.array(sv)\n",
    "    for i in range(len(sv)):\n",
    "        xsv.append(sv[0])\n",
    "        ysv.append(sv[1])\n",
    "    \n",
    "    for j in range(len(y)):\n",
    "        if y[j] == 1:\n",
    "            X_pos.append(x[j])\n",
    "            #print X[i]\n",
    "        elif y[j] == -1:\n",
    "            X_neg.append(x[j])\n",
    "    \n",
    "    for k in range(len(X_pos)):\n",
    "        x_pos.append(X_pos[k][0])\n",
    "        y_pos.append(X_pos[k][1])\n",
    "    \n",
    "    for l in range(len(X_neg)):\n",
    "        x_neg.append(X_neg[l][0])\n",
    "        y_neg.append(X_neg[l][1])\n",
    "            \n",
    "    plt.plot(x_neg,y_neg,'ro')\n",
    "    plt.plot(x_pos,y_pos,'bo')\n",
    "    plt.plot(xsv,ysv,'g^')\n",
    "    plt.xlabel(\"X\")\n",
    "    plt.ylabel(\"Y\")\n",
    "    plt.show()"
   ]
  },
  {
   "cell_type": "code",
   "execution_count": 23,
   "metadata": {
    "collapsed": false
   },
   "outputs": [
    {
     "data": {
      "image/png": "[encoded data removed]",
      "text/plain": [
       "<matplotlib.figure.Figure at 0x1cceaa58>"
      ]
     },
     "metadata": {},
     "output_type": "display_data"
    }
   ],
   "source": [
    "SVplot1 = plotsupportvector(sv_lin,X_lin,Y_lin)"
   ]
  },
  {
   "cell_type": "code",
   "execution_count": 24,
   "metadata": {
    "collapsed": false
   },
   "outputs": [
    {
     "data": {
      "image/png": "[encoded data removed]",
      "text/plain": [
       "<matplotlib.figure.Figure at 0x1c78a7f0>"
      ]
     },
     "metadata": {},
     "output_type": "display_data"
    }
   ],
   "source": [
    "SVplot2 = plotsupportvector(sv_non,X_non,Y_non)"
   ]
  },
  {
   "cell_type": "code",
   "execution_count": null,
   "metadata": {
    "collapsed": true
   },
   "outputs": [],
   "source": []
  }
 ],
 "metadata": {
  "kernelspec": {
   "display_name": "Python 2",
   "language": "python",
   "name": "python2"
  },
  "language_info": {
   "codemirror_mode": {
    "name": "ipython",
    "version": 2
   },
   "file_extension": ".py",
   "mimetype": "text/x-python",
   "name": "python",
   "nbconvert_exporter": "python",
   "pygments_lexer": "ipython2",
   "version": "2.7.11"
  }
 },
 "nbformat": 4,
 "nbformat_minor": 0
}
