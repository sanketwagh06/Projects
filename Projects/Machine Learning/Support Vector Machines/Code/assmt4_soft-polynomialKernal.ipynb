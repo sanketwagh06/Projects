{
 "cells": [
  {
   "cell_type": "code",
   "execution_count": 1,
   "metadata": {
    "collapsed": false
   },
   "outputs": [],
   "source": [
    "import numpy as np\n",
    "import math\n",
    "from math import exp\n",
    "import numpy.linalg as linalg\n",
    "from sklearn import metrics\n",
    "import random\n",
    "from sklearn.datasets import fetch_mldata\n",
    "import cvxopt\n",
    "from cvxopt import solvers\n",
    "from cvxopt.base import matrix as mat\n",
    "from pylab import *\n",
    "%matplotlib inline"
   ]
  },
  {
   "cell_type": "code",
   "execution_count": 2,
   "metadata": {
    "collapsed": false
   },
   "outputs": [],
   "source": [
    "def data(size,features,deviation):\n",
    "    w = np.array([0.6,0.6])\n",
    "    w0 = np.array([0])\n",
    "    n = size/2\n",
    "    #Normalized distributed data:\n",
    "    X = np.append((np.random.randn(n,features)+deviation),(np.random.randn(n,features)-deviation),axis =0)\n",
    "    #print X\n",
    "    Y = []\n",
    "    for i in range(len(X)):\n",
    "        if (w0 + np.dot(w,X[i])) > 0:\n",
    "            Y.append([1.0])\n",
    "        elif (w0 + np.dot(w,X[i])) < 0:\n",
    "            Y.append([-1.0])\n",
    "    #print Y\n",
    "    Y = np.array(Y)\n",
    "    #lists used to plot the data\n",
    "    X_pos = []\n",
    "    X_neg = []\n",
    "    x_neg = []\n",
    "    y_neg = []\n",
    "    x_pos = []\n",
    "    y_pos = []\n",
    "    #separating based on features.\n",
    "    for i in range(len(Y)):\n",
    "        if Y[i] == 1:\n",
    "            X_pos.append(X[i])\n",
    "            #print X[i]\n",
    "        elif Y[i] == -1:\n",
    "            X_neg.append(X[i])\n",
    "    #print X_pos\n",
    "    #print X_neg\n",
    "    \n",
    "    for j in range(len(X_pos)):\n",
    "        x_pos.append(X_pos[j][0])\n",
    "        y_pos.append(X_pos[j][1])\n",
    "    #print x_pos\n",
    "    #print y_pos\n",
    "\n",
    "    for j in range(len(X_neg)):\n",
    "        x_neg.append(X_neg[j][0])\n",
    "        y_neg.append(X_neg[j][1])\n",
    "        \n",
    "    \n",
    "    plt.plot(x_neg,y_neg,'ro')\n",
    "    plt.plot(x_pos,y_pos,'bo')\n",
    "    plt.xlabel(\"X\")\n",
    "    plt.ylabel(\"Y\")\n",
    "    plt.show()\n",
    "    return X,Y"
   ]
  },
  {
   "cell_type": "code",
   "execution_count": 3,
   "metadata": {
    "collapsed": false
   },
   "outputs": [
    {
     "data": {
      "image/png": "[encoded data removed]",
      "text/plain": [
       "<matplotlib.figure.Figure at 0x3c911d0>"
      ]
     },
     "metadata": {},
     "output_type": "display_data"
    }
   ],
   "source": [
    "#linearly separable data\n",
    "X_lin,Y_lin = data(120,2,2.0)"
   ]
  },
  {
   "cell_type": "code",
   "execution_count": 4,
   "metadata": {
    "collapsed": false
   },
   "outputs": [
    {
     "data": {
      "image/png": "[encoded data removed]",
      "text/plain": [
       "<matplotlib.figure.Figure at 0x1c8df2e8>"
      ]
     },
     "metadata": {},
     "output_type": "display_data"
    }
   ],
   "source": [
    "#linearly non separable data\n",
    "X_non,Y_non = data(150,2,0.5)"
   ]
  },
  {
   "cell_type": "code",
   "execution_count": 5,
   "metadata": {
    "collapsed": false
   },
   "outputs": [],
   "source": [
    "def soft(x,y):\n",
    "    poly_kernal = []\n",
    "    for a in range(len(x)):\n",
    "        list1 = []\n",
    "        for b in range(len(x)):\n",
    "            list1.append((np.dot(x[a],x[b])+1)**1)\n",
    "        poly_kernal.append(list1)\n",
    "    poly_kernal = np.array(poly_kernal)\n",
    "    W = 0\n",
    "    W0 = 0\n",
    "    var = x.shape[0]\n",
    "    epsilon = 0\n",
    "    c = 1.0\n",
    "    p = cvxopt.base.matrix(np.ndarray.tolist(np.dot(y,y.T) * poly_kernal))\n",
    "    q = cvxopt.base.matrix([-1.0] * var)\n",
    "    gtemp1 = np.zeros((var, var), float)\n",
    "    gtemp2 = np.zeros((var, var), float)\n",
    "    np.fill_diagonal(gtemp1, -1.0)\n",
    "    np.fill_diagonal(gtemp2, 1.0)\n",
    "    g = cvxopt.base.matrix(np.ndarray.tolist(np.append(gtemp1,gtemp2,axis=0).T))\n",
    "    print g.size\n",
    "    h = cvxopt.base.matrix(([0.0] * var + [c] * var))\n",
    "    a = cvxopt.base.matrix(np.ndarray.tolist(y))\n",
    "    b = cvxopt.base.matrix([1.0])\n",
    "    ld = solvers.qp(p,q,g,h,a,b) #dual problem minimization\n",
    "    alpha_val = cvxopt.base.matrix(ld['x'])\n",
    "    support_vector = []\n",
    "    for i in range(len(alpha_val)):\n",
    "        if alpha_val[i] > epsilon and alpha_val[i] < c :\n",
    "            support_vector.append(x[i])\n",
    "    support_vector = np.matrix(support_vector)\n",
    "    for j in range(len(alpha_val)):\n",
    "        W = W + (alpha_val[j] * y[j] * x[j])\n",
    "    for k in range((len(y))):\n",
    "        W0 = W0 + (y[k] - np.dot(W,x[k]))\n",
    "    W0 = W0 / len(support_vector)\n",
    "    \n",
    "    return W, W0, support_vector\n",
    "    "
   ]
  },
  {
   "cell_type": "code",
   "execution_count": 6,
   "metadata": {
    "collapsed": false
   },
   "outputs": [],
   "source": [
    "def predict(x,w,w0):\n",
    "    predict = []\n",
    "    for i in range(len(x)):\n",
    "        var1 = np.dot(w,x[i]) + w0\n",
    "        if var1 > 0:\n",
    "            predict.append([1])\n",
    "        if var1 < 0:\n",
    "            predict.append([-1])\n",
    "    return np.array(predict)        "
   ]
  },
  {
   "cell_type": "code",
   "execution_count": 7,
   "metadata": {
    "collapsed": true
   },
   "outputs": [],
   "source": [
    "def accuracy(labels,predicted):\n",
    "    return metrics.accuracy_score(labels, predicted)"
   ]
  },
  {
   "cell_type": "code",
   "execution_count": 8,
   "metadata": {
    "collapsed": false
   },
   "outputs": [
    {
     "name": "stdout",
     "output_type": "stream",
     "text": [
      "(240, 120)\n",
      "     pcost       dcost       gap    pres   dres\n",
      " 0: -1.2763e+01 -2.0652e+02  1e+03  2e+00  7e-15\n",
      " 1: -7.3712e+00 -1.0044e+02  2e+02  2e-01  5e-15\n",
      " 2: -2.9802e+00 -1.4900e+01  2e+01  3e-02  5e-15\n",
      " 3: -1.7422e+00 -5.4105e+00  6e+00  8e-03  2e-15\n",
      " 4: -1.3938e+00 -2.3561e+00  2e+00  2e-03  1e-15\n",
      " 5: -1.3352e+00 -1.3651e+00  4e-02  4e-05  1e-15\n",
      " 6: -1.3415e+00 -1.3418e+00  4e-04  4e-07  1e-15\n",
      " 7: -1.3416e+00 -1.3416e+00  4e-06  4e-09  2e-15\n",
      " 8: -1.3416e+00 -1.3416e+00  4e-08  4e-11  1e-15\n",
      "Optimal solution found.\n"
     ]
    }
   ],
   "source": [
    "W_lin, W0_lin, sv_lin = soft(X_lin,Y_lin)"
   ]
  },
  {
   "cell_type": "code",
   "execution_count": 9,
   "metadata": {
    "collapsed": false
   },
   "outputs": [],
   "source": [
    "predict_lin = predict(X_lin, W_lin,  W0_lin)"
   ]
  },
  {
   "cell_type": "code",
   "execution_count": 10,
   "metadata": {
    "collapsed": false
   },
   "outputs": [
    {
     "name": "stdout",
     "output_type": "stream",
     "text": [
      "Accuracy: 1.0\n"
     ]
    }
   ],
   "source": [
    "acc = accuracy(Y_lin,predict_lin)\n",
    "print \"Accuracy:\", acc"
   ]
  },
  {
   "cell_type": "code",
   "execution_count": 11,
   "metadata": {
    "collapsed": false
   },
   "outputs": [
    {
     "name": "stdout",
     "output_type": "stream",
     "text": [
      "(300, 150)\n",
      "     pcost       dcost       gap    pres   dres\n",
      " 0: -5.7571e+01 -3.6863e+02  2e+03  3e+00  7e-15\n",
      " 1: -3.5448e+01 -2.3679e+02  4e+02  4e-01  5e-15\n",
      " 2: -2.0539e+01 -7.6564e+01  9e+01  8e-02  8e-15\n",
      " 3: -1.8803e+01 -3.2782e+01  2e+01  2e-02  3e-15\n",
      " 4: -2.0355e+01 -2.2351e+01  3e+00  2e-03  3e-15\n",
      " 5: -2.0761e+01 -2.1241e+01  6e-01  5e-04  3e-15\n",
      " 6: -2.0886e+01 -2.0940e+01  7e-02  5e-05  2e-15\n",
      " 7: -2.0902e+01 -2.0903e+01  1e-03  9e-07  2e-15\n",
      " 8: -2.0902e+01 -2.0902e+01  1e-05  9e-09  3e-15\n",
      "Optimal solution found.\n"
     ]
    }
   ],
   "source": [
    "W_non, W0_non, sv_non = soft(X_non,Y_non)"
   ]
  },
  {
   "cell_type": "code",
   "execution_count": 12,
   "metadata": {
    "collapsed": true
   },
   "outputs": [],
   "source": [
    "predict_non = predict(X_non, W_non,  W0_non)"
   ]
  },
  {
   "cell_type": "code",
   "execution_count": 13,
   "metadata": {
    "collapsed": false
   },
   "outputs": [
    {
     "name": "stdout",
     "output_type": "stream",
     "text": [
      "Accuracy: 0.98\n"
     ]
    }
   ],
   "source": [
    "acc_non = accuracy(Y_non,predict_non)\n",
    "print \"Accuracy:\", acc_non"
   ]
  },
  {
   "cell_type": "code",
   "execution_count": 14,
   "metadata": {
    "collapsed": true
   },
   "outputs": [],
   "source": [
    "def plotsupportvector(sv,x,y):\n",
    "    xsv = []\n",
    "    ysv = []\n",
    "    X_pos = []\n",
    "    X_neg = []\n",
    "    x_neg = []\n",
    "    y_neg = []\n",
    "    x_pos = []\n",
    "    y_pos = []\n",
    "    sv = np.array(sv)\n",
    "    for i in range(len(sv)):\n",
    "        xsv.append(sv[0])\n",
    "        ysv.append(sv[1])\n",
    "    \n",
    "    for j in range(len(y)):\n",
    "        if y[j] == 1:\n",
    "            X_pos.append(x[j])\n",
    "            #print X[i]\n",
    "        elif y[j] == -1:\n",
    "            X_neg.append(x[j])\n",
    "    \n",
    "    for k in range(len(X_pos)):\n",
    "        x_pos.append(X_pos[k][0])\n",
    "        y_pos.append(X_pos[k][1])\n",
    "    \n",
    "    for l in range(len(X_neg)):\n",
    "        x_neg.append(X_neg[l][0])\n",
    "        y_neg.append(X_neg[l][1])\n",
    "            \n",
    "    plt.plot(x_neg,y_neg,'ro')\n",
    "    plt.plot(x_pos,y_pos,'bo')\n",
    "    plt.plot(xsv,ysv,'g^')\n",
    "    plt.xlabel(\"X\")\n",
    "    plt.ylabel(\"Y\")\n",
    "    plt.show()"
   ]
  },
  {
   "cell_type": "code",
   "execution_count": 15,
   "metadata": {
    "collapsed": false
   },
   "outputs": [
    {
     "data": {
      "image/png": "[encoded data removed]",
      "text/plain": [
       "<matplotlib.figure.Figure at 0x1c760dd8>"
      ]
     },
     "metadata": {},
     "output_type": "display_data"
    }
   ],
   "source": [
    "SVplot1 = plotsupportvector(sv_lin,X_lin,Y_lin)"
   ]
  },
  {
   "cell_type": "code",
   "execution_count": 16,
   "metadata": {
    "collapsed": false
   },
   "outputs": [
    {
     "data": {
      "image/png": "[encoded data removed]",
      "text/plain": [
       "<matplotlib.figure.Figure at 0x1cb42ac8>"
      ]
     },
     "metadata": {},
     "output_type": "display_data"
    }
   ],
   "source": [
    "SVplot2 = plotsupportvector(sv_non,X_non,Y_non)"
   ]
  },
  {
   "cell_type": "code",
   "execution_count": null,
   "metadata": {
    "collapsed": true
   },
   "outputs": [],
   "source": []
  }
 ],
 "metadata": {
  "kernelspec": {
   "display_name": "Python 2",
   "language": "python",
   "name": "python2"
  },
  "language_info": {
   "codemirror_mode": {
    "name": "ipython",
    "version": 2
   },
   "file_extension": ".py",
   "mimetype": "text/x-python",
   "name": "python",
   "nbconvert_exporter": "python",
   "pygments_lexer": "ipython2",
   "version": "2.7.11"
  }
 },
 "nbformat": 4,
 "nbformat_minor": 0
}
