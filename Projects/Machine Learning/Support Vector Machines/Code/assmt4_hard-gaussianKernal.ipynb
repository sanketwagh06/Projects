{
 "cells": [
  {
   "cell_type": "code",
   "execution_count": 14,
   "metadata": {
    "collapsed": false
   },
   "outputs": [],
   "source": [
    "import numpy as np\n",
    "import math\n",
    "from math import exp\n",
    "import numpy.linalg as linalg\n",
    "from sklearn import metrics\n",
    "import random\n",
    "from sklearn.datasets import fetch_mldata\n",
    "import cvxopt\n",
    "from cvxopt import solvers\n",
    "import cvxopt.base\n",
    "from scipy.spatial.distance import cdist\n",
    "from pylab import *\n",
    "%matplotlib inline"
   ]
  },
  {
   "cell_type": "code",
   "execution_count": 15,
   "metadata": {
    "collapsed": false
   },
   "outputs": [],
   "source": [
    "def data(size,features,deviation):\n",
    "    w = np.array([0.6,0.6])\n",
    "    w0 = np.array([0])\n",
    "    n = size/2\n",
    "    #Normalized distributed data:\n",
    "    X = np.append((np.random.randn(n,features)+deviation),(np.random.randn(n,features)-deviation),axis =0)\n",
    "    #print X\n",
    "    Y = []\n",
    "    for i in range(len(X)):\n",
    "        if (w0 + np.dot(w,X[i])) > 0:\n",
    "            Y.append([1.0])\n",
    "        elif (w0 + np.dot(w,X[i])) < 0:\n",
    "            Y.append([-1.0])\n",
    "    #print Y\n",
    "    Y = np.array(Y)\n",
    "    #lists used to plot the data\n",
    "    X_pos = []\n",
    "    X_neg = []\n",
    "    x_neg = []\n",
    "    y_neg = []\n",
    "    x_pos = []\n",
    "    y_pos = []\n",
    "    #separating based on features.\n",
    "    for i in range(len(Y)):\n",
    "        if Y[i] == 1:\n",
    "            X_pos.append(X[i])\n",
    "            #print X[i]\n",
    "        elif Y[i] == -1:\n",
    "            X_neg.append(X[i])\n",
    "    #print X_pos\n",
    "    #print X_neg\n",
    "    \n",
    "    for j in range(len(X_pos)):\n",
    "        x_pos.append(X_pos[j][0])\n",
    "        y_pos.append(X_pos[j][1])\n",
    "    #print x_pos\n",
    "    #print y_pos\n",
    "\n",
    "    for j in range(len(X_neg)):\n",
    "        x_neg.append(X_neg[j][0])\n",
    "        y_neg.append(X_neg[j][1])\n",
    "        \n",
    "    \n",
    "    plt.plot(x_neg,y_neg,'ro')\n",
    "    plt.plot(x_pos,y_pos,'bo')\n",
    "    plt.xlabel(\"X\")\n",
    "    plt.ylabel(\"Y\")\n",
    "    plt.show()\n",
    "    return X,Y"
   ]
  },
  {
   "cell_type": "code",
   "execution_count": 16,
   "metadata": {
    "collapsed": false
   },
   "outputs": [
    {
     "data": {
      "image/png": "[encoded data removed]",
      "text/plain": [
       "<matplotlib.figure.Figure at 0x1dc26400>"
      ]
     },
     "metadata": {},
     "output_type": "display_data"
    }
   ],
   "source": [
    "#linearly separable data\n",
    "X_lin,Y_lin = data(120,2,2.0)"
   ]
  },
  {
   "cell_type": "code",
   "execution_count": 17,
   "metadata": {
    "collapsed": false
   },
   "outputs": [
    {
     "data": {
      "image/png": "[encoded data removed]",
      "text/plain": [
       "<matplotlib.figure.Figure at 0x1dbb3a20>"
      ]
     },
     "metadata": {},
     "output_type": "display_data"
    }
   ],
   "source": [
    "#linearly non separable data\n",
    "X_non,Y_non = data(150,2,0.5)"
   ]
  },
  {
   "cell_type": "code",
   "execution_count": 22,
   "metadata": {
    "collapsed": false
   },
   "outputs": [],
   "source": [
    "def hard(x,y):\n",
    "    sigma = 0.1\n",
    "    eud = cdist(x,x,'sqeuclidean')\n",
    "    ker = np.exp((-1/2)*(eud/sigma**2))\n",
    "    W = 0\n",
    "    W0 = 0\n",
    "    var = x.shape[0]\n",
    "    epsilon = 0\n",
    "    p = cvxopt.base.matrix(np.ndarray.tolist(np.dot(y,y.T) * ker))\n",
    "    print type(p)\n",
    "    q = cvxopt.base.matrix([-1.0] * var)\n",
    "    gtemp = np.zeros((var, var), float)\n",
    "    np.fill_diagonal(gtemp, -1.0)\n",
    "    g = cvxopt.base.matrix(np.ndarray.tolist(gtemp))\n",
    "    h = cvxopt.base.matrix([0.0] * var)\n",
    "    a = cvxopt.base.matrix(np.ndarray.tolist(y))\n",
    "    #b = [1.0]\n",
    "    b = cvxopt.base.matrix(1.0)\n",
    "    ld = solvers.qp(p,q,g,h,a,b) #dual problem minimization\n",
    "    alpha_val = cvxopt.base.matrix(ld['x'])\n",
    "    support_vector = []\n",
    "    for i in range(len(alpha_val)):\n",
    "            if alpha_val[i] > epsilon:\n",
    "                support_vector.append(x[i])\n",
    "    support_vector1 = np.matrix(support_vector)\n",
    "    print support_vector1\n",
    "    for j in range(len(alpha_val)):\n",
    "        W = W + (alpha_val[j] * y[j] * x[i])\n",
    "    for k in range((len(y))):\n",
    "        W0 = W0 + (y[k] - np.dot(W,x[k]))\n",
    "    W0 = W0 / len(support_vector1)\n",
    "    \n",
    "    return W, W0, support_vector1\n",
    "    "
   ]
  },
  {
   "cell_type": "code",
   "execution_count": 36,
   "metadata": {
    "collapsed": true
   },
   "outputs": [],
   "source": [
    "def predict(x,w,w0):\n",
    "    predict = []\n",
    "    for i in range(len(x)):\n",
    "        var1 = np.dot(w,x[i]) + w0\n",
    "        if var1 < 0:\n",
    "            predict.append([1])\n",
    "        else:\n",
    "            predict.append([-1])\n",
    "    return np.array(predict)"
   ]
  },
  {
   "cell_type": "code",
   "execution_count": 37,
   "metadata": {
    "collapsed": true
   },
   "outputs": [],
   "source": [
    "def accuracy(labels,predicted):\n",
    "    return metrics.accuracy_score(labels, predicted)"
   ]
  },
  {
   "cell_type": "code",
   "execution_count": 38,
   "metadata": {
    "collapsed": false
   },
   "outputs": [
    {
     "name": "stdout",
     "output_type": "stream",
     "text": [
      "<type 'cvxopt.base.matrix'>\n",
      "     pcost       dcost       gap    pres   dres\n",
      " 0: -4.1852e+01 -1.0045e+02  6e+01  3e-15  2e+00\n",
      " 1: -5.1583e+01 -5.3469e+01  2e+00  4e-15  3e-01\n",
      " 2: -5.4460e+01 -5.4695e+01  2e-01  7e-15  1e-02\n",
      " 3: -5.4464e+01 -5.4466e+01  2e-03  1e-14  1e-04\n",
      " 4: -5.4464e+01 -5.4464e+01  2e-05  1e-14  1e-06\n",
      " 5: -5.4464e+01 -5.4464e+01  2e-07  2e-15  1e-08\n",
      "Optimal solution found.\n",
      "[[ 1.3850012   4.32982393]\n",
      " [ 2.08753219  1.61837364]\n",
      " [ 2.43421028 -0.27265487]\n",
      " [ 1.87173594  1.3756597 ]\n",
      " [ 1.72060995  1.26829423]\n",
      " [ 2.51885237  0.9280538 ]\n",
      " [ 4.46464939  3.52213054]\n",
      " [ 3.07235957  1.03261415]\n",
      " [ 1.66963509  3.07525171]\n",
      " [ 2.17553404  3.7210073 ]\n",
      " [ 1.3794419   3.21812714]\n",
      " [ 1.47400964  2.89541194]\n",
      " [ 1.56716937  1.78187262]\n",
      " [ 0.2640592   2.15186554]\n",
      " [ 3.734084    2.25011973]\n",
      " [ 0.52988891  1.0691023 ]\n",
      " [ 2.66324858 -0.10830912]\n",
      " [ 2.1559289   3.1007167 ]\n",
      " [ 1.16484345  1.40071428]\n",
      " [ 3.20860681  2.82990592]\n",
      " [ 2.34234347  1.73548343]\n",
      " [ 2.68405338  2.8211551 ]\n",
      " [ 0.76839037  2.97265945]\n",
      " [ 1.84014189  2.36213524]\n",
      " [ 1.89697289  1.7044749 ]\n",
      " [ 1.62555457  0.04895194]\n",
      " [ 0.61429999  1.00664034]\n",
      " [ 1.167328    2.03228891]\n",
      " [ 1.72068278  3.46682261]\n",
      " [ 2.65799415  2.33345907]\n",
      " [ 1.44345029  2.38438383]\n",
      " [ 2.68623878  1.59814874]\n",
      " [ 1.26902278  2.24532254]\n",
      " [ 1.44468563  2.90348212]\n",
      " [ 2.76191078  2.02909468]\n",
      " [ 2.14904744  4.30424304]\n",
      " [ 0.76028901  2.87865285]\n",
      " [ 2.25258542  1.02317851]\n",
      " [ 0.05997162  2.43264444]\n",
      " [ 1.20053132  1.95316434]\n",
      " [ 2.84855374  0.65507168]\n",
      " [ 2.04381607  0.95664847]\n",
      " [ 1.53271181  3.21003407]\n",
      " [ 0.13030383  1.67170461]\n",
      " [ 1.51981503  1.89891888]\n",
      " [ 1.99434572 -0.74624828]\n",
      " [ 2.29955888  2.87536492]\n",
      " [ 1.62239216  2.30473804]\n",
      " [ 2.597675    2.6305023 ]\n",
      " [ 2.60473084  3.1995592 ]\n",
      " [ 1.39216062  2.63453356]\n",
      " [ 1.39865342  3.3195952 ]\n",
      " [ 1.16702345  3.09411197]\n",
      " [ 1.2631607   2.07554776]\n",
      " [ 0.12208947  4.68413284]\n",
      " [ 3.57150605  2.27242876]\n",
      " [ 1.62305473  0.9245898 ]\n",
      " [ 0.97516554  2.94233902]\n",
      " [ 4.88639131  1.76009732]\n",
      " [ 1.25791479  2.14148358]\n",
      " [-1.08066751 -2.00404729]\n",
      " [-0.42236673 -2.5210346 ]\n",
      " [-2.13896722 -1.43126714]\n",
      " [-3.00500783 -2.45601018]\n",
      " [-4.16677153 -3.16148388]\n",
      " [-1.58373416 -1.27785012]\n",
      " [-1.25178824 -2.29359421]\n",
      " [-2.07073232 -2.28450873]\n",
      " [-0.10857757 -0.54520361]\n",
      " [-3.86883892 -2.66109217]\n",
      " [-1.80667968 -0.53185929]\n",
      " [-1.12710214 -2.29449721]\n",
      " [-1.84673031 -1.93220491]\n",
      " [-1.48490137 -1.91381068]\n",
      " [-1.00586158 -1.37439043]\n",
      " [-2.90084172 -1.54698247]\n",
      " [-0.73810418 -1.88708637]\n",
      " [-3.53065956 -2.48007404]\n",
      " [-2.52231523 -3.04626105]\n",
      " [-3.08174879 -2.01523279]\n",
      " [-2.01438473 -1.34721035]\n",
      " [-0.73493208 -1.75396867]\n",
      " [-1.43508045 -2.20964161]\n",
      " [-3.23556941 -2.75794394]\n",
      " [ 0.02787609 -2.0655488 ]\n",
      " [-2.83862454 -4.35176051]\n",
      " [-2.23678523 -1.64612476]\n",
      " [-1.55660664 -1.99862329]\n",
      " [-3.49520275 -2.65942277]\n",
      " [-2.25605972 -2.27226692]\n",
      " [-0.96948887 -1.46805803]\n",
      " [-3.54598902 -1.95446744]\n",
      " [-4.28963587 -2.95385706]\n",
      " [-1.72366394 -1.38072279]\n",
      " [-2.12752236 -1.96744837]\n",
      " [-2.27089016 -3.72809256]\n",
      " [-3.07849311 -0.77261553]\n",
      " [-2.6161173  -1.82721949]\n",
      " [-2.57528206 -1.83204745]\n",
      " [-1.12582295 -2.15737558]\n",
      " [-2.25816158 -1.20749742]\n",
      " [-2.65435816 -1.52924196]\n",
      " [-2.687591   -2.42454892]\n",
      " [-2.11884233 -1.64945753]\n",
      " [-1.41000841 -0.1278765 ]\n",
      " [-0.82988727 -0.29937565]\n",
      " [-2.473266   -1.53443853]\n",
      " [-1.92264572 -2.80493381]\n",
      " [-0.08022151 -1.57224542]\n",
      " [-1.00447263 -1.14014161]\n",
      " [-2.03067695 -3.9422687 ]\n",
      " [-2.75976515 -2.80323642]\n",
      " [-1.25433746 -1.30584545]\n",
      " [-1.11068947 -2.62463789]\n",
      " [-1.24458545 -2.63725899]\n",
      " [-2.53625059 -2.28506529]\n",
      " [-1.74311008 -0.66236198]\n",
      " [-2.93438867 -2.50952058]\n",
      " [-1.341385   -2.57170827]\n",
      " [-3.85787943 -2.27556768]]\n"
     ]
    }
   ],
   "source": [
    "W_lin, W0_lin, SupportVector = hard(X_lin,Y_lin)"
   ]
  },
  {
   "cell_type": "code",
   "execution_count": 39,
   "metadata": {
    "collapsed": false
   },
   "outputs": [],
   "source": [
    "predict_lin = predict(X_lin, W_lin,  W0_lin)"
   ]
  },
  {
   "cell_type": "code",
   "execution_count": 40,
   "metadata": {
    "collapsed": false
   },
   "outputs": [
    {
     "name": "stdout",
     "output_type": "stream",
     "text": [
      "Accuracy: 1.0\n"
     ]
    }
   ],
   "source": [
    "acc = accuracy(Y_lin,predict_lin)\n",
    "print \"Accuracy:\", acc"
   ]
  },
  {
   "cell_type": "code",
   "execution_count": 41,
   "metadata": {
    "collapsed": false
   },
   "outputs": [
    {
     "name": "stdout",
     "output_type": "stream",
     "text": [
      "<type 'cvxopt.base.matrix'>\n",
      "     pcost       dcost       gap    pres   dres\n",
      " 0: -4.9070e+01 -1.2211e+02  7e+01  9e-16  2e+00\n",
      " 1: -5.9489e+01 -6.4194e+01  5e+00  1e-15  3e-01\n",
      " 2: -6.2931e+01 -6.3713e+01  8e-01  4e-15  2e-02\n",
      " 3: -6.2967e+01 -6.2992e+01  3e-02  4e-15  5e-04\n",
      " 4: -6.2968e+01 -6.2969e+01  6e-04  2e-14  7e-06\n",
      " 5: -6.2968e+01 -6.2968e+01  8e-06  2e-14  7e-08\n",
      "Optimal solution found.\n",
      "[[ 1.93264854  0.5308969 ]\n",
      " [ 2.29848416  0.47135223]\n",
      " [-0.09714551  0.41777691]\n",
      " [ 1.33310201  1.2616582 ]\n",
      " [ 2.54338762  1.72337883]\n",
      " [ 2.07230769 -0.02035808]\n",
      " [ 0.53706936  0.70236378]\n",
      " [ 2.24431719 -0.26377229]\n",
      " [-0.07685161  1.08184622]\n",
      " [ 0.65286559 -1.41941398]\n",
      " [-1.00858528  0.80144192]\n",
      " [-0.35518705  1.17629078]\n",
      " [ 2.75533904  1.2513318 ]\n",
      " [ 0.70883844 -0.50711657]\n",
      " [ 1.49290593  0.24935919]\n",
      " [-0.84608786  1.39539464]\n",
      " [ 1.66973322  1.19038236]\n",
      " [-0.90776468  0.1151096 ]\n",
      " [ 1.4668642  -0.56631262]\n",
      " [-0.6596488   1.73239613]\n",
      " [ 0.88345992 -0.27512262]\n",
      " [ 0.1847158  -1.01542634]\n",
      " [-0.05947676  0.69429118]\n",
      " [-0.31142247  1.07353916]\n",
      " [ 0.59776333  1.88343503]\n",
      " [-0.78913038 -0.14407493]\n",
      " [ 1.56399781 -0.69676783]\n",
      " [ 1.585113    1.07185122]\n",
      " [-0.63323534  2.32941869]\n",
      " [ 2.24628349  2.45119089]\n",
      " [-0.64622095  0.18478305]\n",
      " [ 0.33931264 -0.41755934]\n",
      " [ 1.0628307   1.67116741]\n",
      " [ 1.10808248  1.17189539]\n",
      " [-0.31118448  0.69764598]\n",
      " [ 2.67668667  0.19752731]\n",
      " [ 1.11511012  0.54549916]\n",
      " [-0.60446182  0.16636164]\n",
      " [ 1.73405512  0.1358853 ]\n",
      " [-0.24834823  1.20109855]\n",
      " [-1.69916771  0.6618328 ]\n",
      " [ 0.42595724  0.79275719]\n",
      " [ 0.41231502 -0.82605835]\n",
      " [-0.79713149  0.17915962]\n",
      " [-0.37400657  1.5035797 ]\n",
      " [-0.5058363  -0.67171167]\n",
      " [ 0.19926259  1.08852935]\n",
      " [ 2.65168494 -1.1577971 ]\n",
      " [ 0.47310366  2.6069744 ]\n",
      " [ 0.50025908  0.38691088]\n",
      " [ 2.15604562 -1.05104834]\n",
      " [ 1.78311343 -0.40975947]\n",
      " [-0.20218802  0.55891994]\n",
      " [ 0.84073713 -1.69777504]\n",
      " [ 2.536538    1.8231975 ]\n",
      " [ 2.26925027  1.63555203]\n",
      " [ 0.17048326  1.32386494]\n",
      " [ 1.31043151 -1.25676517]\n",
      " [ 0.80233956  0.47811644]\n",
      " [-0.03655507  1.94053023]\n",
      " [ 0.34899994 -1.2843494 ]\n",
      " [-0.54753211  1.03406445]\n",
      " [-0.63156165 -1.01298034]\n",
      " [-0.19352664  1.19909506]\n",
      " [ 0.26902718  0.80885819]\n",
      " [ 0.22347501  1.90982723]\n",
      " [ 2.06975492  0.9133285 ]\n",
      " [-0.54198278 -0.50613938]\n",
      " [ 0.0697471   1.14183159]\n",
      " [ 0.06107987  0.36117017]\n",
      " [ 1.23400751  0.54808867]\n",
      " [-0.02848153 -0.4986413 ]\n",
      " [ 1.24493034  0.57785572]\n",
      " [-0.4008021   0.81911265]\n",
      " [-0.91867277 -0.43699922]\n",
      " [-0.4915174  -0.37532018]\n",
      " [-0.32375296  0.12359323]\n",
      " [ 0.92800228 -0.64327348]\n",
      " [-1.73569712  0.29730104]\n",
      " [-1.18471783 -0.84325162]\n",
      " [-0.68105025 -0.12936733]\n",
      " [ 0.84414528 -0.82509182]\n",
      " [-1.32454471  0.07114014]\n",
      " [-1.78969501  1.05861068]\n",
      " [-0.96206955 -0.92882288]\n",
      " [-1.96426652  0.05518404]\n",
      " [-1.0390338  -1.77050246]\n",
      " [-1.47309666  0.30759649]\n",
      " [-0.90589046 -1.20907897]\n",
      " [-0.95570654  0.07589069]\n",
      " [-1.65901751 -0.81920919]\n",
      " [-1.03734126 -1.28743817]\n",
      " [-0.39619981  0.58042011]\n",
      " [ 0.0247155  -1.45687889]\n",
      " [ 1.04519985 -0.13004699]\n",
      " [-0.83036693 -1.11352338]\n",
      " [-0.75813559 -0.57800041]\n",
      " [-2.87489247 -0.21441289]\n",
      " [-0.45901606 -1.63231546]\n",
      " [ 0.06215453 -2.44323032]\n",
      " [-1.02942846 -1.26441859]\n",
      " [-1.03253736 -0.60605869]\n",
      " [-0.41695314 -1.3289774 ]\n",
      " [-0.56919411 -1.03340174]\n",
      " [-3.32849743 -2.64801652]\n",
      " [-2.73219364 -0.1926288 ]\n",
      " [-0.92877605 -0.78255171]\n",
      " [-1.72791389 -0.69344844]\n",
      " [-0.33484854  0.33494349]\n",
      " [-1.34840612 -0.22421649]\n",
      " [ 0.85182816 -2.20003598]\n",
      " [-1.3363509   0.15033893]\n",
      " [-0.54161829 -2.05900172]\n",
      " [ 0.00704486 -0.09018301]\n",
      " [-0.0211208  -1.1845121 ]\n",
      " [ 0.01558844 -1.56141819]\n",
      " [-0.81520451 -0.26934084]\n",
      " [-0.53755512  0.28937395]\n",
      " [ 0.09960024 -1.68354434]\n",
      " [-0.62732169 -3.00997435]\n",
      " [-0.80624836 -1.00222053]\n",
      " [ 0.27467882 -1.08101642]\n",
      " [-1.49059965  0.47341118]\n",
      " [-0.31011881  0.45694071]\n",
      " [-2.20775327 -0.71518524]\n",
      " [-1.23638545  0.43289006]\n",
      " [ 0.34020753  0.22288725]\n",
      " [ 0.59613475 -1.63048385]\n",
      " [ 1.01565661  0.90640884]\n",
      " [-0.95966639  0.12063163]\n",
      " [-0.63408732 -2.46813381]\n",
      " [ 0.47171653  1.0868966 ]\n",
      " [-0.60967441 -0.48225877]\n",
      " [-0.0930231  -0.06359262]\n",
      " [-0.03416826 -0.42123814]\n",
      " [-0.57576508 -0.13045984]\n",
      " [-0.64319435 -1.10271014]\n",
      " [-1.00009819 -0.65064746]\n",
      " [-1.05187814 -1.2587529 ]\n",
      " [-2.58942499 -0.91794938]\n",
      " [ 1.10124845 -0.67247303]\n",
      " [-2.06911202 -0.63522333]\n",
      " [ 0.53224045  0.68019584]\n",
      " [-0.8982312   0.90790056]\n",
      " [ 1.09869509 -1.45867346]\n",
      " [-2.24530391  1.07134891]\n",
      " [ 0.32221044 -0.33810232]\n",
      " [-2.13393618  0.13716697]\n",
      " [-0.82691909 -0.36878405]\n",
      " [ 0.37125689  0.1477795 ]]\n"
     ]
    }
   ],
   "source": [
    "W_non, W0_non, SupportVectorNon = hard(X_non,Y_non)"
   ]
  },
  {
   "cell_type": "code",
   "execution_count": 42,
   "metadata": {
    "collapsed": false
   },
   "outputs": [],
   "source": [
    "predict_non = predict(X_non, W_non,  W0_non)"
   ]
  },
  {
   "cell_type": "code",
   "execution_count": 43,
   "metadata": {
    "collapsed": false
   },
   "outputs": [
    {
     "name": "stdout",
     "output_type": "stream",
     "text": [
      "Accuracy: 0.1\n"
     ]
    }
   ],
   "source": [
    "acc_non = accuracy(Y_non,predict_non)\n",
    "print \"Accuracy:\", acc_non"
   ]
  },
  {
   "cell_type": "code",
   "execution_count": 44,
   "metadata": {
    "collapsed": true
   },
   "outputs": [],
   "source": [
    "def plotsupportvector(sv,x,y):\n",
    "    xsv = []\n",
    "    ysv = []\n",
    "    X_pos = []\n",
    "    X_neg = []\n",
    "    x_neg = []\n",
    "    y_neg = []\n",
    "    x_pos = []\n",
    "    y_pos = []\n",
    "    sv = np.array(sv)\n",
    "    for i in range(len(sv)):\n",
    "        xsv.append(sv[0])\n",
    "        ysv.append(sv[1])\n",
    "    \n",
    "    for j in range(len(y)):\n",
    "        if y[j] == 1:\n",
    "            X_pos.append(x[j])\n",
    "            #print X[i]\n",
    "        elif y[j] == -1:\n",
    "            X_neg.append(x[j])\n",
    "    \n",
    "    for k in range(len(X_pos)):\n",
    "        x_pos.append(X_pos[k][0])\n",
    "        y_pos.append(X_pos[k][1])\n",
    "    \n",
    "    for l in range(len(X_neg)):\n",
    "        x_neg.append(X_neg[l][0])\n",
    "        y_neg.append(X_neg[l][1])\n",
    "            \n",
    "    plt.plot(x_neg,y_neg,'ro')\n",
    "    plt.plot(x_pos,y_pos,'bo')\n",
    "    plt.plot(xsv,ysv,'g^')\n",
    "    plt.xlabel(\"X\")\n",
    "    plt.ylabel(\"Y\")\n",
    "    plt.show()"
   ]
  },
  {
   "cell_type": "code",
   "execution_count": 45,
   "metadata": {
    "collapsed": false
   },
   "outputs": [
    {
     "data": {
      "image/png": "[encoded data removed]",
      "text/plain": [
       "<matplotlib.figure.Figure at 0x2c621780>"
      ]
     },
     "metadata": {},
     "output_type": "display_data"
    }
   ],
   "source": [
    "SVplot = plotsupportvector(SupportVector,X_lin,Y_lin)"
   ]
  },
  {
   "cell_type": "code",
   "execution_count": 46,
   "metadata": {
    "collapsed": false
   },
   "outputs": [
    {
     "data": {
      "image/png": "[encoded data removed]",
      "text/plain": [
       "<matplotlib.figure.Figure at 0x2c6480b8>"
      ]
     },
     "metadata": {},
     "output_type": "display_data"
    }
   ],
   "source": [
    "SVplot = plotsupportvector(SupportVectorNon,X_non,Y_non)"
   ]
  },
  {
   "cell_type": "code",
   "execution_count": null,
   "metadata": {
    "collapsed": true
   },
   "outputs": [],
   "source": []
  },
  {
   "cell_type": "code",
   "execution_count": null,
   "metadata": {
    "collapsed": true
   },
   "outputs": [],
   "source": []
  }
 ],
 "metadata": {
  "kernelspec": {
   "display_name": "Python 2",
   "language": "python",
   "name": "python2"
  },
  "language_info": {
   "codemirror_mode": {
    "name": "ipython",
    "version": 2
   },
   "file_extension": ".py",
   "mimetype": "text/x-python",
   "name": "python",
   "nbconvert_exporter": "python",
   "pygments_lexer": "ipython2",
   "version": "2.7.11"
  }
 },
 "nbformat": 4,
 "nbformat_minor": 0
}
