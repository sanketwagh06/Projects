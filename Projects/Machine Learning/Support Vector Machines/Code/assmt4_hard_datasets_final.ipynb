{
 "cells": [
  {
   "cell_type": "code",
   "execution_count": 1,
   "metadata": {
    "collapsed": false
   },
   "outputs": [],
   "source": [
    "import numpy as np\n",
    "import math\n",
    "from math import exp\n",
    "import numpy.linalg as linalg\n",
    "from sklearn import metrics\n",
    "import random\n",
    "from sklearn.datasets import fetch_mldata\n",
    "import cvxopt\n",
    "from cvxopt import solvers\n",
    "from scipy.spatial.distance import cdist\n",
    "import cvxopt.base\n",
    "from pylab import *\n",
    "import io\n",
    "%matplotlib inline"
   ]
  },
  {
   "cell_type": "code",
   "execution_count": 2,
   "metadata": {
    "collapsed": true
   },
   "outputs": [],
   "source": [
    "filename1 = \"iris.data.txt\"\n",
    "r = io.open(filename1, encoding='utf8').readlines()\n",
    "X = []\n",
    "Y = []\n",
    "for i in r[0:150]:\n",
    "    x = i.split(',')\n",
    "    X.append(map(float,x[0:len(x)-1]))\n",
    "    if x[-1] == \"Iris-setosa\\n\":\n",
    "        Y.append(0)\n",
    "    elif x[-1] == 'Iris-versicolor\\n':\n",
    "        Y.append(1)\n",
    "    elif x[-1] == 'Iris-virginica\\n':\n",
    "        Y.append(2)\n",
    "X = np.array(X)\n",
    "Y = np.array(Y)"
   ]
  },
  {
   "cell_type": "code",
   "execution_count": 3,
   "metadata": {
    "collapsed": true
   },
   "outputs": [],
   "source": [
    "filename2 = \"data_banknote_authentication.txt\"\n",
    "r = io.open(filename2, encoding='utf8').readlines()\n",
    "X1 = []\n",
    "Y1 = []\n",
    "for i in r:\n",
    "    x1 = i.split(',')\n",
    "    for j in range(0,len(x1)-1):\n",
    "        try:\n",
    "            x1[j] = float(x1[j])\n",
    "        except ValueError:\n",
    "            x1[j] = 0.0\n",
    "    X1.append(map(float,x1[0:len(x1)-1]))\n",
    "    Y1.append(float(x1[-1]))\n",
    "X1 = np.array(X1)\n",
    "Y1 = np.array(Y1)"
   ]
  },
  {
   "cell_type": "code",
   "execution_count": 4,
   "metadata": {
    "collapsed": false
   },
   "outputs": [],
   "source": [
    "def hard(x,y):\n",
    "    m = len(x)\n",
    "    W = 0\n",
    "    W0 = 0\n",
    "    var = x.shape[0]\n",
    "    epsilon = 0\n",
    "    p = cvxopt.base.matrix(np.ndarray.tolist(np.dot(y,y.T) * np.dot(x,x.T)))\n",
    "    #print type(p)\n",
    "    q = cvxopt.base.matrix([-1.0] * var)\n",
    "    gtemp = np.zeros((var, var), float)\n",
    "    np.fill_diagonal(gtemp, -1.0)\n",
    "    g = cvxopt.base.matrix(np.ndarray.tolist(gtemp))\n",
    "    h = cvxopt.base.matrix([0.0] * var)\n",
    "    a = np.reshape((y), (1,m))\n",
    "    print a\n",
    "    #a = np.ndarray.tolist(y)\n",
    "    a = a.astype(double)\n",
    "    print type(a)\n",
    "    print a\n",
    "    a = cvxopt.base.matrix(a)\n",
    "    b = cvxopt.base.matrix(1.0)\n",
    "    ld = solvers.qp(p,q,g,h,a,b) #dual problem minimization\n",
    "    alpha_val = cvxopt.base.matrix(ld['x'])\n",
    "    support_vector = []\n",
    "    for i in range(len(alpha_val)):\n",
    "            if alpha_val[i] > epsilon:\n",
    "                support_vector.append(x[i])\n",
    "    support_vector1 = np.matrix(support_vector)\n",
    "    print support_vector1\n",
    "    for j in range(len(alpha_val)):\n",
    "        W = W + (alpha_val[j] * y[j] * x[i])\n",
    "    for k in range((len(y))):\n",
    "        W0 = W0 + (y[k] - np.dot(W,x[k]))\n",
    "    W0 = W0 / len(support_vector1)\n",
    "    \n",
    "    return W, W0, support_vector1\n",
    "    "
   ]
  },
  {
   "cell_type": "code",
   "execution_count": 5,
   "metadata": {
    "collapsed": false
   },
   "outputs": [],
   "source": [
    "def hard(x,y):\n",
    "    m = len(x)\n",
    "    W = 0\n",
    "    W0 = 0\n",
    "    var = x.shape[0]\n",
    "    epsilon = 0\n",
    "    p = cvxopt.base.matrix(np.ndarray.tolist(np.dot(y,y.T) * np.dot(x,x.T)))\n",
    "    #print type(p)\n",
    "    q = cvxopt.base.matrix([-1.0] * var)\n",
    "    gtemp = np.zeros((var, var), float)\n",
    "    np.fill_diagonal(gtemp, -1.0)\n",
    "    g = cvxopt.base.matrix(np.ndarray.tolist(gtemp))\n",
    "    h = cvxopt.base.matrix([0.0] * var)\n",
    "    a = np.reshape((y), (1,m))\n",
    "    print a\n",
    "    #a = np.ndarray.tolist(y)\n",
    "    a = a.astype(double)\n",
    "    print type(a)\n",
    "    print a\n",
    "    a = cvxopt.base.matrix(a)\n",
    "    b = cvxopt.base.matrix(1.0)\n",
    "    ld = solvers.qp(p,q,g,h,a,b) #dual problem minimization\n",
    "    alpha_val = cvxopt.base.matrix(ld['x'])\n",
    "    support_vector = []\n",
    "    for i in range(len(alpha_val)):\n",
    "            if alpha_val[i] > epsilon:\n",
    "                support_vector.append(x[i])\n",
    "    support_vector1 = np.matrix(support_vector)\n",
    "    print support_vector1\n",
    "    for j in range(len(alpha_val)):\n",
    "        W = W + (alpha_val[j] * y[j] * x[i])\n",
    "    for k in range((len(y))):\n",
    "        W0 = W0 + (y[k] - np.dot(W,x[k]))\n",
    "    W0 = W0 / len(support_vector1)\n",
    "    \n",
    "    return W, W0, support_vector1"
   ]
  },
  {
   "cell_type": "code",
   "execution_count": 6,
   "metadata": {
    "collapsed": true
   },
   "outputs": [],
   "source": [
    "def hardGauss(x,y):\n",
    "    sigma = 0.1\n",
    "    eud = cdist(x,x,'sqeuclidean')\n",
    "    ker = np.exp((-1/2)*(eud/sigma**2))\n",
    "    m = len(x)\n",
    "    W = 0\n",
    "    W0 = 0\n",
    "    var = x.shape[0]\n",
    "    epsilon = 0\n",
    "    p = cvxopt.base.matrix(np.ndarray.tolist(np.dot(y,y.T) * ker))\n",
    "    #print type(p)\n",
    "    q = cvxopt.base.matrix([-1.0] * var)\n",
    "    gtemp = np.zeros((var, var), float)\n",
    "    np.fill_diagonal(gtemp, -1.0)\n",
    "    g = cvxopt.base.matrix(np.ndarray.tolist(gtemp))\n",
    "    h = cvxopt.base.matrix([0.0] * var)\n",
    "    a = np.reshape((y), (1,m))\n",
    "    #print a\n",
    "    #a = np.ndarray.tolist(y)\n",
    "    a = a.astype(double)\n",
    "    #print type(a)\n",
    "    #print a\n",
    "    a = cvxopt.base.matrix(a)\n",
    "    b = cvxopt.base.matrix(1.0)\n",
    "    ld = solvers.qp(p,q,g,h,a,b) #dual problem minimization\n",
    "    alpha_val = cvxopt.base.matrix(ld['x'])\n",
    "    support_vector = []\n",
    "    for i in range(len(alpha_val)):\n",
    "            if alpha_val[i] > epsilon:\n",
    "                support_vector.append(x[i])\n",
    "    support_vector1 = np.matrix(support_vector)\n",
    "    print support_vector1\n",
    "    for j in range(len(alpha_val)):\n",
    "        W = W + (alpha_val[j] * y[j] * x[i])\n",
    "    for k in range((len(y))):\n",
    "        W0 = W0 + (y[k] - np.dot(W,x[k]))\n",
    "    W0 = W0 / len(support_vector1)\n",
    "    \n",
    "    return W, W0, support_vector1"
   ]
  },
  {
   "cell_type": "code",
   "execution_count": 7,
   "metadata": {
    "collapsed": true
   },
   "outputs": [],
   "source": [
    "def hardPoly(x,y):\n",
    "    poly_kernal = []\n",
    "    for a in range(len(x)):\n",
    "        list1 = []\n",
    "        for b in range(len(x)):\n",
    "            list1.append((np.dot(x[a],x[b])+1)**1)\n",
    "        poly_kernal.append(list1)\n",
    "    poly_kernal = np.array(poly_kernal)\n",
    "    m = len(x)\n",
    "    W = 0\n",
    "    W0 = 0\n",
    "    var = x.shape[0]\n",
    "    epsilon = 0\n",
    "    p = cvxopt.base.matrix(np.ndarray.tolist(np.dot(y,y.T) * poly_kernal))\n",
    "    #print type(p)\n",
    "    q = cvxopt.base.matrix([-1.0] * var)\n",
    "    gtemp = np.zeros((var, var), float)\n",
    "    np.fill_diagonal(gtemp, -1.0)\n",
    "    g = cvxopt.base.matrix(np.ndarray.tolist(gtemp))\n",
    "    h = cvxopt.base.matrix([0.0] * var)\n",
    "    a = np.reshape((y), (1,m))\n",
    "    #print a\n",
    "    #a = np.ndarray.tolist(y)\n",
    "    a = a.astype(double)\n",
    "    #print type(a)\n",
    "    #print a\n",
    "    a = cvxopt.base.matrix(a)\n",
    "    b = cvxopt.base.matrix(1.0)\n",
    "    ld = solvers.qp(p,q,g,h,a,b) #dual problem minimization\n",
    "    alpha_val = cvxopt.base.matrix(ld['x'])\n",
    "    support_vector = []\n",
    "    for i in range(len(alpha_val)):\n",
    "            if alpha_val[i] > epsilon:\n",
    "                support_vector.append(x[i])\n",
    "    support_vector1 = np.matrix(support_vector)\n",
    "    print support_vector1\n",
    "    for j in range(len(alpha_val)):\n",
    "        W = W + (alpha_val[j] * y[j] * x[i])\n",
    "    for k in range((len(y))):\n",
    "        W0 = W0 + (y[k] - np.dot(W,x[k]))\n",
    "    W0 = W0 / len(support_vector1)\n",
    "    \n",
    "    return W, W0, support_vector1"
   ]
  },
  {
   "cell_type": "code",
   "execution_count": 8,
   "metadata": {
    "collapsed": true
   },
   "outputs": [],
   "source": [
    "def predict(x,w,w0):\n",
    "    predict = []\n",
    "    for i in range(len(x)):\n",
    "        var1 = np.dot(w,x[i]) + w0\n",
    "        if var1 < 0:\n",
    "            predict.append([1])\n",
    "        else:\n",
    "            predict.append([-1])\n",
    "    return np.array(predict)"
   ]
  },
  {
   "cell_type": "code",
   "execution_count": 9,
   "metadata": {
    "collapsed": true
   },
   "outputs": [],
   "source": [
    "def accuracy(labels,predicted):\n",
    "    return metrics.accuracy_score(labels, predicted)"
   ]
  },
  {
   "cell_type": "code",
   "execution_count": 10,
   "metadata": {
    "collapsed": false
   },
   "outputs": [
    {
     "name": "stdout",
     "output_type": "stream",
     "text": [
      "     pcost       dcost       gap    pres   dres\n",
      " 0: -1.7996e-01 -9.8766e-01  8e-01  1e-16  1e+00\n",
      " 1: -1.7997e-01 -1.8866e-01  9e-03  1e-17  1e-02\n",
      " 2: -1.7997e-01 -1.8005e-01  9e-05  2e-16  1e-04\n",
      " 3: -1.7997e-01 -1.7997e-01  9e-07  1e-16  1e-06\n",
      " 4: -1.7997e-01 -1.7997e-01  9e-09  1e-17  1e-08\n",
      "Optimal solution found.\n",
      "[[ 5.1  3.5  1.4  0.2]\n",
      " [ 4.9  3.   1.4  0.2]\n",
      " [ 4.7  3.2  1.3  0.2]\n",
      " [ 4.6  3.1  1.5  0.2]\n",
      " [ 5.   3.6  1.4  0.2]\n",
      " [ 5.4  3.9  1.7  0.4]\n",
      " [ 4.6  3.4  1.4  0.3]\n",
      " [ 5.   3.4  1.5  0.2]\n",
      " [ 4.4  2.9  1.4  0.2]\n",
      " [ 4.9  3.1  1.5  0.1]\n",
      " [ 5.4  3.7  1.5  0.2]\n",
      " [ 4.8  3.4  1.6  0.2]\n",
      " [ 4.8  3.   1.4  0.1]\n",
      " [ 4.3  3.   1.1  0.1]\n",
      " [ 5.8  4.   1.2  0.2]\n",
      " [ 5.7  4.4  1.5  0.4]\n",
      " [ 5.4  3.9  1.3  0.4]\n",
      " [ 5.1  3.5  1.4  0.3]\n",
      " [ 5.7  3.8  1.7  0.3]\n",
      " [ 5.1  3.8  1.5  0.3]\n",
      " [ 5.4  3.4  1.7  0.2]\n",
      " [ 5.1  3.7  1.5  0.4]\n",
      " [ 4.6  3.6  1.   0.2]\n",
      " [ 5.1  3.3  1.7  0.5]\n",
      " [ 4.8  3.4  1.9  0.2]\n",
      " [ 5.   3.   1.6  0.2]\n",
      " [ 5.   3.4  1.6  0.4]\n",
      " [ 5.2  3.5  1.5  0.2]\n",
      " [ 5.2  3.4  1.4  0.2]\n",
      " [ 4.7  3.2  1.6  0.2]\n",
      " [ 4.8  3.1  1.6  0.2]\n",
      " [ 5.4  3.4  1.5  0.4]\n",
      " [ 5.2  4.1  1.5  0.1]\n",
      " [ 5.5  4.2  1.4  0.2]\n",
      " [ 4.9  3.1  1.5  0.1]\n",
      " [ 5.   3.2  1.2  0.2]\n",
      " [ 5.5  3.5  1.3  0.2]\n",
      " [ 4.9  3.1  1.5  0.1]\n",
      " [ 4.4  3.   1.3  0.2]\n",
      " [ 5.1  3.4  1.5  0.2]\n",
      " [ 5.   3.5  1.3  0.3]\n",
      " [ 4.5  2.3  1.3  0.3]\n",
      " [ 4.4  3.2  1.3  0.2]\n",
      " [ 5.   3.5  1.6  0.6]\n",
      " [ 5.1  3.8  1.9  0.4]\n",
      " [ 4.8  3.   1.4  0.3]\n",
      " [ 5.1  3.8  1.6  0.2]\n",
      " [ 4.6  3.2  1.4  0.2]\n",
      " [ 5.3  3.7  1.5  0.2]\n",
      " [ 5.   3.3  1.4  0.2]\n",
      " [ 7.   3.2  4.7  1.4]\n",
      " [ 6.4  3.2  4.5  1.5]\n",
      " [ 6.9  3.1  4.9  1.5]\n",
      " [ 5.5  2.3  4.   1.3]\n",
      " [ 6.5  2.8  4.6  1.5]\n",
      " [ 5.7  2.8  4.5  1.3]\n",
      " [ 6.3  3.3  4.7  1.6]\n",
      " [ 4.9  2.4  3.3  1. ]\n",
      " [ 6.6  2.9  4.6  1.3]\n",
      " [ 5.2  2.7  3.9  1.4]\n",
      " [ 5.   2.   3.5  1. ]\n",
      " [ 5.9  3.   4.2  1.5]\n",
      " [ 6.   2.2  4.   1. ]\n",
      " [ 6.1  2.9  4.7  1.4]\n",
      " [ 5.6  2.9  3.6  1.3]\n",
      " [ 6.7  3.1  4.4  1.4]\n",
      " [ 5.6  3.   4.5  1.5]\n",
      " [ 5.8  2.7  4.1  1. ]\n",
      " [ 6.2  2.2  4.5  1.5]\n",
      " [ 5.6  2.5  3.9  1.1]\n",
      " [ 5.9  3.2  4.8  1.8]\n",
      " [ 6.1  2.8  4.   1.3]\n",
      " [ 6.3  2.5  4.9  1.5]\n",
      " [ 6.1  2.8  4.7  1.2]\n",
      " [ 6.4  2.9  4.3  1.3]\n",
      " [ 6.6  3.   4.4  1.4]\n",
      " [ 6.8  2.8  4.8  1.4]\n",
      " [ 6.7  3.   5.   1.7]\n",
      " [ 6.   2.9  4.5  1.5]\n",
      " [ 5.7  2.6  3.5  1. ]\n",
      " [ 5.5  2.4  3.8  1.1]\n",
      " [ 5.5  2.4  3.7  1. ]\n",
      " [ 5.8  2.7  3.9  1.2]\n",
      " [ 6.   2.7  5.1  1.6]\n",
      " [ 5.4  3.   4.5  1.5]\n",
      " [ 6.   3.4  4.5  1.6]\n",
      " [ 6.7  3.1  4.7  1.5]\n",
      " [ 6.3  2.3  4.4  1.3]\n",
      " [ 5.6  3.   4.1  1.3]\n",
      " [ 5.5  2.5  4.   1.3]\n",
      " [ 5.5  2.6  4.4  1.2]\n",
      " [ 6.1  3.   4.6  1.4]\n",
      " [ 5.8  2.6  4.   1.2]\n",
      " [ 5.   2.3  3.3  1. ]\n",
      " [ 5.6  2.7  4.2  1.3]\n",
      " [ 5.7  3.   4.2  1.2]\n",
      " [ 5.7  2.9  4.2  1.3]\n",
      " [ 6.2  2.9  4.3  1.3]\n",
      " [ 5.1  2.5  3.   1.1]\n",
      " [ 5.7  2.8  4.1  1.3]\n",
      " [ 6.3  3.3  6.   2.5]\n",
      " [ 5.8  2.7  5.1  1.9]\n",
      " [ 7.1  3.   5.9  2.1]\n",
      " [ 6.3  2.9  5.6  1.8]\n",
      " [ 6.5  3.   5.8  2.2]\n",
      " [ 7.6  3.   6.6  2.1]\n",
      " [ 4.9  2.5  4.5  1.7]\n",
      " [ 7.3  2.9  6.3  1.8]\n",
      " [ 6.7  2.5  5.8  1.8]\n",
      " [ 7.2  3.6  6.1  2.5]\n",
      " [ 6.5  3.2  5.1  2. ]\n",
      " [ 6.4  2.7  5.3  1.9]\n",
      " [ 6.8  3.   5.5  2.1]\n",
      " [ 5.7  2.5  5.   2. ]\n",
      " [ 5.8  2.8  5.1  2.4]\n",
      " [ 6.4  3.2  5.3  2.3]\n",
      " [ 6.5  3.   5.5  1.8]\n",
      " [ 7.7  3.8  6.7  2.2]\n",
      " [ 7.7  2.6  6.9  2.3]\n",
      " [ 6.   2.2  5.   1.5]\n",
      " [ 6.9  3.2  5.7  2.3]\n",
      " [ 5.6  2.8  4.9  2. ]\n",
      " [ 7.7  2.8  6.7  2. ]\n",
      " [ 6.3  2.7  4.9  1.8]\n",
      " [ 6.7  3.3  5.7  2.1]\n",
      " [ 7.2  3.2  6.   1.8]\n",
      " [ 6.2  2.8  4.8  1.8]\n",
      " [ 6.1  3.   4.9  1.8]\n",
      " [ 6.4  2.8  5.6  2.1]\n",
      " [ 7.2  3.   5.8  1.6]\n",
      " [ 7.4  2.8  6.1  1.9]\n",
      " [ 7.9  3.8  6.4  2. ]\n",
      " [ 6.4  2.8  5.6  2.2]\n",
      " [ 6.3  2.8  5.1  1.5]\n",
      " [ 6.1  2.6  5.6  1.4]\n",
      " [ 7.7  3.   6.1  2.3]\n",
      " [ 6.3  3.4  5.6  2.4]\n",
      " [ 6.4  3.1  5.5  1.8]\n",
      " [ 6.   3.   4.8  1.8]\n",
      " [ 6.9  3.1  5.4  2.1]\n",
      " [ 6.7  3.1  5.6  2.4]\n",
      " [ 6.9  3.1  5.1  2.3]\n",
      " [ 5.8  2.7  5.1  1.9]\n",
      " [ 6.8  3.2  5.9  2.3]\n",
      " [ 6.7  3.3  5.7  2.5]\n",
      " [ 6.7  3.   5.2  2.3]\n",
      " [ 6.3  2.5  5.   1.9]\n",
      " [ 6.5  3.   5.2  2. ]\n",
      " [ 6.2  3.4  5.4  2.3]\n",
      " [ 5.9  3.   5.1  1.8]]\n"
     ]
    }
   ],
   "source": [
    "W_iris_gauss, W0_iris_gauss, SupportVectorIrisGauss = hardGauss(X,Y)"
   ]
  },
  {
   "cell_type": "code",
   "execution_count": 11,
   "metadata": {
    "collapsed": false
   },
   "outputs": [
    {
     "name": "stdout",
     "output_type": "stream",
     "text": [
      "     pcost       dcost       gap    pres   dres\n",
      " 0: -1.9809e-03  1.3704e-01  2e+02  1e+01  1e+00\n",
      " 1:  4.2310e-04  3.9891e-01  1e+01  1e+00  8e-02\n",
      " 2:  1.6308e-02  3.2701e+00  5e+00  4e-01  3e-02\n",
      " 3:  4.3646e-02  7.9497e+00  4e+00  3e-01  2e-02\n",
      " 4:  1.4879e-01  1.4543e+01  5e+00  3e-01  2e-02\n",
      " 5:  1.6221e+00  4.7232e+01  7e+00  2e-01  2e-02\n",
      " 6:  1.7633e+01  1.4418e+02  3e+01  2e-01  2e-02\n",
      " 7:  2.9947e+01  1.8689e+02  4e+01  2e-01  1e-02\n",
      " 8:  3.1373e+01  1.9068e+02  4e+01  2e-01  1e-02\n",
      " 9:  6.0518e+01  2.5143e+02  6e+01  2e-01  1e-02\n",
      "10:  8.6411e+01  2.9299e+02  7e+01  1e-01  1e-02\n",
      "11:  1.6467e+02  3.8368e+02  8e+01  1e-01  8e-03\n",
      "12:  1.6308e+02  3.8896e+02  8e+01  1e-01  8e-03\n",
      "13:  1.9182e+02  4.5933e+02  9e+01  9e-02  7e-03\n",
      "14:  2.5187e+02  7.8935e+02  1e+02  6e-02  5e-03\n",
      "15:  1.7523e+03  1.6948e+03  7e+02  1e-02  1e-03\n",
      "16:  1.7046e+03  1.6995e+03  8e+00  7e-05  6e-06\n",
      "17:  1.6996e+03  1.6995e+03  8e-02  7e-07  6e-08\n",
      "18:  1.6995e+03  1.6995e+03  8e-04  7e-09  6e-10\n",
      "Optimal solution found.\n",
      "[[ 4.3  3.   1.1  0.1]\n",
      " [ 5.8  4.   1.2  0.2]\n",
      " [ 5.4  3.9  1.3  0.4]\n",
      " [ 4.6  3.6  1.   0.2]\n",
      " [ 5.5  4.2  1.4  0.2]\n",
      " [ 5.   3.2  1.2  0.2]\n",
      " [ 5.5  3.5  1.3  0.2]\n",
      " [ 4.9  2.5  4.5  1.7]\n",
      " [ 6.5  3.2  5.1  2. ]\n",
      " [ 6.   2.2  5.   1.5]\n",
      " [ 6.3  2.7  4.9  1.8]\n",
      " [ 6.2  2.8  4.8  1.8]\n",
      " [ 6.1  3.   4.9  1.8]\n",
      " [ 7.2  3.   5.8  1.6]\n",
      " [ 6.3  2.8  5.1  1.5]\n",
      " [ 6.1  2.6  5.6  1.4]\n",
      " [ 6.   3.   4.8  1.8]\n",
      " [ 6.9  3.1  5.1  2.3]\n",
      " [ 6.3  2.5  5.   1.9]]\n"
     ]
    }
   ],
   "source": [
    "W_iris_poly, W0_iris_poly, SupportVectorIrisPoly = hardPoly(X,Y)"
   ]
  },
  {
   "cell_type": "code",
   "execution_count": 13,
   "metadata": {
    "collapsed": false
   },
   "outputs": [],
   "source": [
    "predict_iris_gauss = predict(X, W_iris_gauss,  W0_iris_gauss)"
   ]
  },
  {
   "cell_type": "code",
   "execution_count": 14,
   "metadata": {
    "collapsed": true
   },
   "outputs": [],
   "source": [
    "predict_iris_poly = predict(X, W_iris_poly,  W0_iris_poly)"
   ]
  },
  {
   "cell_type": "code",
   "execution_count": 15,
   "metadata": {
    "collapsed": false
   },
   "outputs": [
    {
     "name": "stdout",
     "output_type": "stream",
     "text": [
      "Accuracy(Gauss): 0.08\n"
     ]
    }
   ],
   "source": [
    "acc = accuracy(Y,predict_iris_gauss)\n",
    "print \"Accuracy(Gauss):\", acc"
   ]
  },
  {
   "cell_type": "code",
   "execution_count": 16,
   "metadata": {
    "collapsed": false
   },
   "outputs": [
    {
     "name": "stdout",
     "output_type": "stream",
     "text": [
      "Accuracy (Poly): 0.333333333333\n"
     ]
    }
   ],
   "source": [
    "acc1 = accuracy(Y,predict_iris_poly)\n",
    "print \"Accuracy (Poly):\", acc1"
   ]
  },
  {
   "cell_type": "code",
   "execution_count": 17,
   "metadata": {
    "collapsed": false
   },
   "outputs": [
    {
     "name": "stdout",
     "output_type": "stream",
     "text": [
      "     pcost       dcost       gap    pres   dres\n",
      " 0: -1.0820e+00 -3.2681e+00  2e+00  7e-16  1e+00\n",
      " 1: -1.0820e+00 -1.1043e+00  2e-02  6e-16  1e-02\n",
      " 2: -1.0820e+00 -1.0822e+00  2e-04  2e-16  1e-04\n",
      " 3: -1.0820e+00 -1.0820e+00  3e-06  1e-17  1e-06\n",
      " 4: -1.0820e+00 -1.0820e+00  4e-07  4e-16  2e-07\n",
      " 5: -1.0820e+00 -1.0820e+00  2e-08  1e-15  1e-16\n",
      "Optimal solution found.\n",
      "[[  3.6216    8.6661   -2.8073   -0.44699]\n",
      " [  4.5459    8.1674   -2.4586   -1.4621 ]\n",
      " [  3.866    -2.6383    1.9242    0.10645]\n",
      " ..., \n",
      " [ -3.7503  -13.4586   17.5932   -2.7771 ]\n",
      " [ -3.5637   -8.3827   12.393    -1.2823 ]\n",
      " [ -2.5419   -0.65804   2.6842    1.1952 ]]\n"
     ]
    }
   ],
   "source": [
    "W_bank_gauss, W0_bank_gauss, SupportVectorBankGauss = hardGauss(X1,Y1)"
   ]
  },
  {
   "cell_type": "code",
   "execution_count": 18,
   "metadata": {
    "collapsed": false
   },
   "outputs": [
    {
     "name": "stdout",
     "output_type": "stream",
     "text": [
      "     pcost       dcost       gap    pres   dres\n",
      " 0: -8.1941e-04  1.9278e-02  1e+03  4e+01  1e+00\n",
      " 1:  6.2921e-05  6.1034e-02  3e+01  9e-01  2e-02\n",
      " 2:  4.7258e-03  1.8123e+00  9e+00  3e-01  7e-03\n",
      " 3:  2.3517e-02  4.6558e+00  8e+00  2e-01  5e-03\n",
      " 4:  4.8109e-02  6.7410e+00  8e+00  2e-01  5e-03\n",
      " 5:  1.4079e-01  1.1491e+01  8e+00  1e-01  4e-03\n",
      " 6:  7.3173e-01  2.5830e+01  7e+00  1e-01  3e-03\n",
      " 7:  6.0911e+00  7.0613e+01  1e+01  8e-02  2e-03\n",
      " 8:  3.1018e+01  1.4215e+02  4e+01  7e-02  2e-03\n",
      " 9:  3.4477e+01  1.4816e+02  4e+01  7e-02  2e-03\n",
      "10:  7.5880e+01  1.9517e+02  5e+01  5e-02  1e-03\n",
      "11:  8.3213e+01  2.0407e+02  5e+01  5e-02  1e-03\n",
      "12:  8.6099e+01  2.0575e+02  5e+01  5e-02  1e-03\n",
      "13:  1.4767e+02  2.3498e+02  5e+01  3e-02  7e-04\n",
      "14:  1.5495e+02  2.3781e+02  5e+01  3e-02  7e-04\n",
      "15:  1.8845e+02  2.4806e+02  4e+01  2e-02  5e-04\n",
      "16:  2.0026e+02  2.5941e+02  4e+01  1e-02  4e-04\n",
      "17:  2.3826e+02  2.9108e+02  3e+01  8e-03  2e-04\n",
      "18:  2.4901e+02  2.9237e+02  3e+01  7e-03  2e-04\n",
      "19:  2.7900e+02  2.9902e+02  2e+01  4e-03  1e-04\n",
      "20:  2.8971e+02  2.9940e+02  2e+01  2e-03  6e-05\n",
      "21:  3.0248e+02  3.0321e+02  3e+00  3e-04  9e-06\n",
      "22:  3.0405e+02  3.0394e+02  1e-01  3e-06  7e-08\n",
      "23:  3.0400e+02  3.0400e+02  1e-03  3e-08  7e-10\n",
      "24:  3.0400e+02  3.0400e+02  1e-05  3e-10  8e-12\n",
      "Optimal solution found.\n",
      "[[  3.6216    8.6661   -2.8073   -0.44699]\n",
      " [  4.5459    8.1674   -2.4586   -1.4621 ]\n",
      " [  3.866    -2.6383    1.9242    0.10645]\n",
      " ..., \n",
      " [ -3.7503  -13.4586   17.5932   -2.7771 ]\n",
      " [ -3.5637   -8.3827   12.393    -1.2823 ]\n",
      " [ -2.5419   -0.65804   2.6842    1.1952 ]]\n"
     ]
    }
   ],
   "source": [
    "W_bank_poly, W0_bank_poly, SupportVectorBankPoly = hardPoly(X1,Y1)"
   ]
  },
  {
   "cell_type": "code",
   "execution_count": 19,
   "metadata": {
    "collapsed": false
   },
   "outputs": [],
   "source": [
    "predict_bank_gauss = predict(X1, W_bank_gauss,  W0_bank_gauss)"
   ]
  },
  {
   "cell_type": "code",
   "execution_count": 20,
   "metadata": {
    "collapsed": true
   },
   "outputs": [],
   "source": [
    "predict_bank_poly = predict(X1, W_bank_poly,  W0_bank_poly)"
   ]
  },
  {
   "cell_type": "code",
   "execution_count": 21,
   "metadata": {
    "collapsed": false
   },
   "outputs": [
    {
     "name": "stdout",
     "output_type": "stream",
     "text": [
      "Accuracy:(gauss) 0.1472303207\n"
     ]
    }
   ],
   "source": [
    "acc_bank_gauss = accuracy(Y1,predict_bank_gauss)\n",
    "print \"Accuracy:(gauss)\", acc_bank_gauss"
   ]
  },
  {
   "cell_type": "code",
   "execution_count": 22,
   "metadata": {
    "collapsed": false
   },
   "outputs": [
    {
     "name": "stdout",
     "output_type": "stream",
     "text": [
      "Accuracy(poly): 0.1472303207\n"
     ]
    }
   ],
   "source": [
    "acc_bank_poly = accuracy(Y1,predict_bank_poly)\n",
    "print \"Accuracy(poly):\", acc_bank_poly"
   ]
  },
  {
   "cell_type": "code",
   "execution_count": 23,
   "metadata": {
    "collapsed": false
   },
   "outputs": [],
   "source": [
    "def plotsupportvector(sv,x,y):\n",
    "    xsv = []\n",
    "    ysv = []\n",
    "   \n",
    "    sv = np.array(sv)\n",
    "    for i in range(len(sv)):\n",
    "        xsv.append(sv[0])\n",
    "        ysv.append(sv[1])\n",
    "        \n",
    "    plt.plot(X,'ro')\n",
    "    plt.plot(Y,'bo')\n",
    "    plt.plot(xsv,ysv,'g^')\n",
    "    plt.xlabel(\"X\")\n",
    "    plt.ylabel(\"Y\")\n",
    "    plt.show()"
   ]
  },
  {
   "cell_type": "code",
   "execution_count": 24,
   "metadata": {
    "collapsed": false
   },
   "outputs": [
    {
     "data": {
      "image/png": "[encoded data removed]",
      "text/plain": [
       "<matplotlib.figure.Figure at 0x1c7f0ac8>"
      ]
     },
     "metadata": {},
     "output_type": "display_data"
    }
   ],
   "source": [
    "SVplot = plotsupportvector(SupportVectorIrisGauss,X,Y)"
   ]
  },
  {
   "cell_type": "code",
   "execution_count": 25,
   "metadata": {
    "collapsed": false
   },
   "outputs": [
    {
     "data": {
      "image/png": "[encoded data removed]",
      "text/plain": [
       "<matplotlib.figure.Figure at 0x42f89b38>"
      ]
     },
     "metadata": {},
     "output_type": "display_data"
    }
   ],
   "source": [
    "SVplot1 = plotsupportvector(SupportVectorIrisPoly,X,Y)"
   ]
  },
  {
   "cell_type": "code",
   "execution_count": 26,
   "metadata": {
    "collapsed": false
   },
   "outputs": [
    {
     "data": {
      "image/png": "[encoded data removed]",
      "text/plain": [
       "<matplotlib.figure.Figure at 0x1c7f0668>"
      ]
     },
     "metadata": {},
     "output_type": "display_data"
    }
   ],
   "source": [
    "SVplot2 = plotsupportvector(SupportVectorBankGauss,X1,Y1)"
   ]
  },
  {
   "cell_type": "code",
   "execution_count": 27,
   "metadata": {
    "collapsed": false
   },
   "outputs": [
    {
     "data": {
      "image/png": "[encoded data removed]",
      "text/plain": [
       "<matplotlib.figure.Figure at 0x42f89e80>"
      ]
     },
     "metadata": {},
     "output_type": "display_data"
    }
   ],
   "source": [
    "SVplot3 = plotsupportvector(SupportVectorBankPoly,X1,Y1)"
   ]
  },
  {
   "cell_type": "code",
   "execution_count": null,
   "metadata": {
    "collapsed": true
   },
   "outputs": [],
   "source": []
  }
 ],
 "metadata": {
  "kernelspec": {
   "display_name": "Python 2",
   "language": "python",
   "name": "python2"
  }
 },
 "nbformat": 4,
 "nbformat_minor": 0
}
