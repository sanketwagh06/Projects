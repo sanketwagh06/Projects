{
 "cells": [
  {
   "cell_type": "code",
   "execution_count": 4,
   "metadata": {
    "collapsed": false
   },
   "outputs": [],
   "source": [
    "import numpy as np\n",
    "import math\n",
    "from math import exp\n",
    "import numpy.linalg as linalg\n",
    "from sklearn import metrics\n",
    "import random\n",
    "from sklearn.datasets import fetch_mldata\n",
    "import cvxopt\n",
    "from cvxopt import solvers\n",
    "import cvxopt.base\n",
    "from scipy.spatial.distance import cdist\n",
    "from pylab import *\n",
    "%matplotlib inline"
   ]
  },
  {
   "cell_type": "code",
   "execution_count": 5,
   "metadata": {
    "collapsed": false
   },
   "outputs": [],
   "source": [
    "def data(size,features,deviation):\n",
    "    w = np.array([0.6,0.6])\n",
    "    w0 = np.array([0])\n",
    "    n = size/2\n",
    "    #Normalized distributed data:\n",
    "    X = np.append((np.random.randn(n,features)+deviation),(np.random.randn(n,features)-deviation),axis =0)\n",
    "    #print X\n",
    "    Y = []\n",
    "    for i in range(len(X)):\n",
    "        if (w0 + np.dot(w,X[i])) > 0:\n",
    "            Y.append([1.0])\n",
    "        elif (w0 + np.dot(w,X[i])) < 0:\n",
    "            Y.append([-1.0])\n",
    "    #print Y\n",
    "    Y = np.array(Y)\n",
    "    #lists used to plot the data\n",
    "    X_pos = []\n",
    "    X_neg = []\n",
    "    x_neg = []\n",
    "    y_neg = []\n",
    "    x_pos = []\n",
    "    y_pos = []\n",
    "    #separating based on features.\n",
    "    for i in range(len(Y)):\n",
    "        if Y[i] == 1:\n",
    "            X_pos.append(X[i])\n",
    "            #print X[i]\n",
    "        elif Y[i] == -1:\n",
    "            X_neg.append(X[i])\n",
    "    #print X_pos\n",
    "    #print X_neg\n",
    "    \n",
    "    for j in range(len(X_pos)):\n",
    "        x_pos.append(X_pos[j][0])\n",
    "        y_pos.append(X_pos[j][1])\n",
    "    #print x_pos\n",
    "    #print y_pos\n",
    "\n",
    "    for j in range(len(X_neg)):\n",
    "        x_neg.append(X_neg[j][0])\n",
    "        y_neg.append(X_neg[j][1])\n",
    "        \n",
    "    \n",
    "    plt.plot(x_neg,y_neg,'ro')\n",
    "    plt.plot(x_pos,y_pos,'bo')\n",
    "    plt.xlabel(\"X\")\n",
    "    plt.ylabel(\"Y\")\n",
    "    plt.show()\n",
    "    return X,Y"
   ]
  },
  {
   "cell_type": "code",
   "execution_count": 6,
   "metadata": {
    "collapsed": false
   },
   "outputs": [
    {
     "data": {
      "image/png": "[encoded data removed]",
      "text/plain": [
       "<matplotlib.figure.Figure at 0x3ce1278>"
      ]
     },
     "metadata": {},
     "output_type": "display_data"
    }
   ],
   "source": [
    "#linearly separable data\n",
    "X_lin,Y_lin = data(120,2,2.0)"
   ]
  },
  {
   "cell_type": "code",
   "execution_count": 7,
   "metadata": {
    "collapsed": false
   },
   "outputs": [
    {
     "data": {
      "image/png": "[encoded data removed]",
      "text/plain": [
       "<matplotlib.figure.Figure at 0x1c93ca58>"
      ]
     },
     "metadata": {},
     "output_type": "display_data"
    }
   ],
   "source": [
    "#linearly non separable data\n",
    "X_non,Y_non = data(150,2,0.5)"
   ]
  },
  {
   "cell_type": "code",
   "execution_count": 8,
   "metadata": {
    "collapsed": false
   },
   "outputs": [],
   "source": [
    "def hard(x,y):\n",
    "    poly_kernal = []\n",
    "    for a in range(len(x)):\n",
    "        list1 = []\n",
    "        for b in range(len(x)):\n",
    "            list1.append((np.dot(x[a],x[b])+1)**1)\n",
    "        poly_kernal.append(list1)\n",
    "    poly_kernal = np.array(poly_kernal)\n",
    "    W = 0\n",
    "    W0 = 0\n",
    "    var = x.shape[0]\n",
    "    epsilon = 0\n",
    "    p = cvxopt.base.matrix(np.ndarray.tolist(np.dot(y,y.T) * poly_kernal))\n",
    "    print type(p)\n",
    "    q = cvxopt.base.matrix([-1.0] * var)\n",
    "    gtemp = np.zeros((var, var), float)\n",
    "    np.fill_diagonal(gtemp, -1.0)\n",
    "    g = cvxopt.base.matrix(np.ndarray.tolist(gtemp))\n",
    "    h = cvxopt.base.matrix([0.0] * var)\n",
    "    a = cvxopt.base.matrix(np.ndarray.tolist(y))\n",
    "    #b = [1.0]\n",
    "    b = cvxopt.base.matrix(1.0)\n",
    "    ld = solvers.qp(p,q,g,h,a,b) #dual problem minimization\n",
    "    alpha_val = cvxopt.base.matrix(ld['x'])\n",
    "    support_vector = []\n",
    "    for i in range(len(alpha_val)):\n",
    "            if alpha_val[i] > epsilon:\n",
    "                support_vector.append(x[i])\n",
    "    support_vector1 = np.matrix(support_vector)\n",
    "    print support_vector1\n",
    "    for j in range(len(alpha_val)):\n",
    "        W = W + (alpha_val[j] * y[j] * x[i])\n",
    "    for k in range((len(y))):\n",
    "        W0 = W0 + (y[k] - np.dot(W,x[k]))\n",
    "    W0 = W0 / len(support_vector1)\n",
    "    \n",
    "    return W, W0, support_vector1\n",
    "    "
   ]
  },
  {
   "cell_type": "code",
   "execution_count": 9,
   "metadata": {
    "collapsed": true
   },
   "outputs": [],
   "source": [
    "def predict(x,w,w0):\n",
    "    predict = []\n",
    "    for i in range(len(x)):\n",
    "        var1 = np.dot(w,x[i]) + w0\n",
    "        if var1 < 0:\n",
    "            predict.append([1])\n",
    "        else:\n",
    "            predict.append([-1])\n",
    "    return np.array(predict)"
   ]
  },
  {
   "cell_type": "code",
   "execution_count": 10,
   "metadata": {
    "collapsed": true
   },
   "outputs": [],
   "source": [
    "def accuracy(labels,predicted):\n",
    "    return metrics.accuracy_score(labels, predicted)"
   ]
  },
  {
   "cell_type": "code",
   "execution_count": 11,
   "metadata": {
    "collapsed": false
   },
   "outputs": [
    {
     "name": "stdout",
     "output_type": "stream",
     "text": [
      "<type 'cvxopt.base.matrix'>\n",
      "     pcost       dcost       gap    pres   dres\n",
      " 0: -1.0261e+01 -1.9981e+01  3e+02  2e+01  2e+00\n",
      " 1: -1.3608e+01 -1.0412e+01  1e+02  6e+00  7e-01\n",
      " 2: -5.5112e+01 -3.3477e+01  1e+02  5e+00  6e-01\n",
      " 3: -5.5012e+01 -1.9669e+01  9e+01  2e+00  3e-01\n",
      " 4: -9.0647e+00 -3.8703e+00  2e+01  4e-01  5e-02\n",
      " 5: -7.2660e-01 -2.6260e+00  2e+00  1e-03  2e-04\n",
      " 6: -2.0986e+00 -2.2193e+00  1e-01  3e-05  3e-06\n",
      " 7: -2.1983e+00 -2.1995e+00  1e-03  3e-07  3e-08\n",
      " 8: -2.1993e+00 -2.1993e+00  1e-05  3e-09  3e-10\n",
      " 9: -2.1993e+00 -2.1993e+00  1e-07  3e-11  3e-12\n",
      "Optimal solution found.\n",
      "[[ 2.78076904 -0.58125806]\n",
      " [ 2.31073595  3.63402399]\n",
      " [ 0.47423249  2.96664495]\n",
      " [ 2.1130171   0.19682736]\n",
      " [ 2.71835861  1.41938831]\n",
      " [ 1.57533792  3.6582953 ]\n",
      " [ 1.73444912  1.63822194]\n",
      " [ 3.03189565  1.16260953]\n",
      " [ 1.5007082   2.70300266]\n",
      " [ 1.61933384  1.4770517 ]\n",
      " [ 2.9537312   2.58262064]\n",
      " [ 0.27987764  0.20207284]\n",
      " [ 1.6110815   2.44499427]\n",
      " [ 2.45562541  1.75039687]\n",
      " [ 1.3833802   4.06298202]\n",
      " [ 2.46693255  2.09303967]\n",
      " [ 1.11999044  0.73642859]\n",
      " [ 2.40207645  1.67923519]\n",
      " [ 0.81407867  1.4802482 ]\n",
      " [ 2.88062958  1.9230033 ]\n",
      " [ 1.97866173  3.1750729 ]\n",
      " [ 1.37023697  2.4357988 ]\n",
      " [ 1.09290616  3.49027046]\n",
      " [ 1.55788498  3.46788623]\n",
      " [ 3.35341925  2.2861862 ]\n",
      " [ 1.79336947  2.74043898]\n",
      " [ 2.91938762  1.13008437]\n",
      " [ 1.42951366  0.46704237]\n",
      " [ 3.18941104  2.83878654]\n",
      " [ 1.81699339  1.79948071]\n",
      " [ 1.49693303  3.39021354]\n",
      " [ 2.83130808  3.08773675]\n",
      " [ 1.84761132  1.90358993]\n",
      " [ 1.10950258  2.98256762]\n",
      " [ 1.48168881  2.44025748]\n",
      " [ 1.42225156  1.79689257]\n",
      " [ 2.20094539  2.53941468]\n",
      " [ 2.39788072  2.12333028]\n",
      " [ 0.78579709  1.04074799]\n",
      " [ 2.40170143  2.57631442]\n",
      " [ 3.98764802  1.7003521 ]\n",
      " [ 3.66736151  1.98133388]\n",
      " [ 3.20278758  2.46397469]\n",
      " [ 2.60177918  2.91259207]\n",
      " [ 2.38016994  1.6166834 ]\n",
      " [ 1.96227315  3.27318817]\n",
      " [ 1.330592    3.5766445 ]\n",
      " [ 0.9559881   1.29859325]\n",
      " [ 0.7316001   1.60916015]\n",
      " [ 2.91111121  1.13450584]\n",
      " [ 2.09933842 -0.18899613]\n",
      " [ 2.3361655   2.79737934]\n",
      " [ 2.27753871  2.51474504]\n",
      " [ 1.60546464  0.69716245]\n",
      " [ 2.33602432  1.32796971]\n",
      " [ 1.77846628  0.18980707]\n",
      " [ 1.95526384  0.79644947]\n",
      " [ 2.37576464  0.9655651 ]\n",
      " [ 2.80347871  2.2225897 ]\n",
      " [ 1.56136492  1.72680374]\n",
      " [-2.87725225 -1.37395446]\n",
      " [-0.47816174 -3.35971257]\n",
      " [-2.93416275 -2.75451597]\n",
      " [-2.05421453 -1.32080919]\n",
      " [-0.33062382 -1.96159885]\n",
      " [-0.97838971 -2.96843478]\n",
      " [-2.66374483 -3.16524378]\n",
      " [-1.41460216 -2.03131906]\n",
      " [-4.12582282 -1.14422225]\n",
      " [-1.96642644 -2.89415828]\n",
      " [-3.70472546 -0.46726048]\n",
      " [-2.07914222 -1.91274197]\n",
      " [-2.1861318  -1.57330471]\n",
      " [-1.42085365 -2.94448371]\n",
      " [-2.72113957 -1.44860663]\n",
      " [-2.1803153  -2.91105432]\n",
      " [-0.71119922 -1.15824608]\n",
      " [-3.55811127 -1.60407103]\n",
      " [-2.36995415 -4.11797276]\n",
      " [-0.53431847 -2.41407607]\n",
      " [-1.7305049  -0.21452685]\n",
      " [-2.59039995 -2.52559811]\n",
      " [-2.49895081 -2.95571998]\n",
      " [-1.3329566  -2.89946368]\n",
      " [-1.96815044 -1.63250543]\n",
      " [-2.45075534 -1.51409669]\n",
      " [-0.43820994 -0.34150352]\n",
      " [-0.82908516 -1.51980056]\n",
      " [-1.93101192 -0.97344776]\n",
      " [-1.40277823 -0.63123367]\n",
      " [-2.63219858 -0.87586215]\n",
      " [-3.43892034 -1.89266593]\n",
      " [-1.57104663  0.53906031]\n",
      " [-1.20128622 -2.75362668]\n",
      " [-2.63151067 -0.80077883]\n",
      " [-1.61509467 -3.68525136]\n",
      " [-3.4087665  -0.89426028]\n",
      " [-2.43577413 -3.57546569]\n",
      " [-1.47314355 -1.86501988]\n",
      " [-1.77068843 -1.75685956]\n",
      " [-2.10913316 -3.05717413]\n",
      " [-3.2919322  -2.40668623]\n",
      " [-1.13847684 -1.16950724]\n",
      " [-2.33087977 -2.39096222]\n",
      " [-2.98581548 -1.91603999]\n",
      " [-1.5710998  -2.11039599]\n",
      " [-2.77950894 -1.05627118]\n",
      " [-3.49801428 -2.44089355]\n",
      " [-1.4191853  -2.82985078]\n",
      " [-2.04443577 -1.58911357]\n",
      " [-1.38886669 -1.64678478]\n",
      " [-3.31228377 -2.36597833]\n",
      " [-3.98582056 -1.58843493]\n",
      " [-3.07742548 -2.62841401]\n",
      " [-2.92637106 -2.27992606]\n",
      " [-2.26381294 -2.16712531]\n",
      " [-2.37518504 -1.74892617]\n",
      " [-1.57241002 -1.06529237]\n",
      " [-1.39524118 -1.33029185]\n",
      " [-2.72684652 -0.37320498]]\n"
     ]
    }
   ],
   "source": [
    "W_lin, W0_lin, SupportVector = hard(X_lin,Y_lin)"
   ]
  },
  {
   "cell_type": "code",
   "execution_count": 12,
   "metadata": {
    "collapsed": false
   },
   "outputs": [],
   "source": [
    "predict_lin = predict(X_lin, W_lin,  W0_lin)"
   ]
  },
  {
   "cell_type": "code",
   "execution_count": 13,
   "metadata": {
    "collapsed": false
   },
   "outputs": [
    {
     "name": "stdout",
     "output_type": "stream",
     "text": [
      "Accuracy: 1.0\n"
     ]
    }
   ],
   "source": [
    "acc = accuracy(Y_lin,predict_lin)\n",
    "print \"Accuracy:\", acc"
   ]
  },
  {
   "cell_type": "code",
   "execution_count": 14,
   "metadata": {
    "collapsed": false
   },
   "outputs": [
    {
     "name": "stdout",
     "output_type": "stream",
     "text": [
      "<type 'cvxopt.base.matrix'>\n",
      "     pcost       dcost       gap    pres   dres\n",
      " 0: -5.0493e+01 -1.0627e+02  6e+02  3e+01  2e+00\n",
      " 1: -1.3963e+02 -1.6145e+02  4e+02  1e+01  1e+00\n",
      " 2: -3.5285e+02 -3.6932e+02  4e+02  1e+01  1e+00\n",
      " 3: -1.0414e+03 -1.0482e+03  4e+02  1e+01  1e+00\n",
      " 4: -4.5067e+03 -4.4579e+03  6e+02  1e+01  1e+00\n",
      " 5: -3.5634e+03 -3.5049e+03  1e+03  1e+01  1e+00\n",
      " 6: -4.5444e+03 -4.2896e+03  2e+03  1e+01  9e-01\n",
      " 7: -1.8539e+03 -2.4368e+03  4e+03  5e+00  4e-01\n",
      " 8: -1.5498e+03 -1.6073e+03  2e+02  3e-01  2e-02\n",
      " 9: -1.5095e+03 -1.5105e+03  4e+00  5e-03  4e-04\n",
      "10: -1.5090e+03 -1.5090e+03  4e-02  5e-05  4e-06\n",
      "11: -1.5090e+03 -1.5090e+03  4e-04  5e-07  4e-08\n",
      "12: -1.5090e+03 -1.5090e+03  4e-06  5e-09  4e-10\n",
      "Optimal solution found.\n",
      "[[-0.19420338  0.7780222 ]\n",
      " [-0.43658467  1.7465667 ]\n",
      " [ 0.17202762 -0.41866383]\n",
      " [-0.99981915  1.97238775]\n",
      " [-0.13557453  1.04779246]\n",
      " [-0.8751678   1.0965026 ]\n",
      " [-0.00454068  1.03911668]\n",
      " [ 0.82852917 -1.11605888]\n",
      " [ 0.01470163 -0.15232528]\n",
      " [ 0.02110174 -0.04957289]\n",
      " [ 1.26922895 -0.96396935]\n",
      " [-0.19321632 -0.04401014]\n",
      " [ 0.10028393 -0.08139389]\n",
      " [-0.9156729   1.07381503]\n",
      " [-0.13854197  0.05594807]\n",
      " [-0.91009703  0.2580883 ]\n",
      " [ 0.53874241  0.56706077]\n",
      " [-0.41920084 -0.30772691]\n",
      " [ 0.38809311 -1.11116068]\n",
      " [ 0.21344797  0.94067841]\n",
      " [ 1.80235022 -0.69536013]\n",
      " [ 0.75568239 -0.41335028]\n",
      " [ 0.58330881  0.54128718]\n",
      " [ 1.29497425 -0.82975151]\n",
      " [ 1.47247174 -1.89559342]\n",
      " [-0.51949082  1.07166038]\n",
      " [-0.92802216  0.65838135]\n",
      " [ 0.68328917  0.59952211]\n",
      " [-1.46165106  0.75630797]\n",
      " [ 2.13858598 -1.17199255]\n",
      " [ 0.00837475  0.10583741]\n",
      " [ 0.56302499  0.63278105]\n",
      " [ 0.64128278 -1.32276987]\n",
      " [-0.75324036  0.88294322]\n",
      " [ 0.96172473 -0.13458227]\n",
      " [ 0.48053715 -1.23550096]\n",
      " [ 0.58036255 -0.15221462]\n",
      " [ 0.33391148 -0.38669368]\n",
      " [ 0.18623271  0.02299992]\n",
      " [ 1.03074884 -1.31333742]\n",
      " [-0.34548334 -0.4642163 ]\n",
      " [-0.28973194 -0.53966716]\n",
      " [ 0.81809537 -0.99271956]\n",
      " [-0.24877966 -0.45203875]\n",
      " [ 0.08560861 -0.43960991]\n",
      " [ 0.46537407 -0.14785295]\n",
      " [ 0.41673594 -0.77183848]\n",
      " [-0.14474422 -0.68757357]\n",
      " [ 0.01407905 -0.81629285]\n",
      " [-0.10902537  0.14451436]\n",
      " [-0.22417189  0.00459894]\n",
      " [ 0.97345314 -0.90471531]\n",
      " [ 0.31430312  0.96285563]\n",
      " [-0.28355119  0.53172451]\n",
      " [ 0.15061636 -0.27567199]\n",
      " [ 0.50540383 -0.80178152]\n",
      " [ 1.13856245 -2.1705548 ]\n",
      " [-0.01410739  0.79250456]\n",
      " [-0.77341673  1.2499141 ]\n",
      " [-0.14389138  0.24670524]\n",
      " [ 0.32160263 -0.8530008 ]\n",
      " [-1.57145341  1.75531455]\n",
      " [-0.353932    0.8673573 ]\n",
      " [-0.6857907   0.48709561]\n",
      " [ 0.6726677  -0.78633939]]\n"
     ]
    }
   ],
   "source": [
    "W_non, W0_non, SupportVectorNon = hard(X_non,Y_non)"
   ]
  },
  {
   "cell_type": "code",
   "execution_count": 15,
   "metadata": {
    "collapsed": false
   },
   "outputs": [],
   "source": [
    "predict_non = predict(X_non, W_non,  W0_non)"
   ]
  },
  {
   "cell_type": "code",
   "execution_count": 16,
   "metadata": {
    "collapsed": false
   },
   "outputs": [
    {
     "name": "stdout",
     "output_type": "stream",
     "text": [
      "Accuracy: 0.586666666667\n"
     ]
    }
   ],
   "source": [
    "acc_non = accuracy(Y_non,predict_non)\n",
    "print \"Accuracy:\", acc_non"
   ]
  },
  {
   "cell_type": "code",
   "execution_count": 17,
   "metadata": {
    "collapsed": true
   },
   "outputs": [],
   "source": [
    "def plotsupportvector(sv,x,y):\n",
    "    xsv = []\n",
    "    ysv = []\n",
    "    X_pos = []\n",
    "    X_neg = []\n",
    "    x_neg = []\n",
    "    y_neg = []\n",
    "    x_pos = []\n",
    "    y_pos = []\n",
    "    sv = np.array(sv)\n",
    "    for i in range(len(sv)):\n",
    "        xsv.append(sv[0])\n",
    "        ysv.append(sv[1])\n",
    "    \n",
    "    for j in range(len(y)):\n",
    "        if y[j] == 1:\n",
    "            X_pos.append(x[j])\n",
    "            #print X[i]\n",
    "        elif y[j] == -1:\n",
    "            X_neg.append(x[j])\n",
    "    \n",
    "    for k in range(len(X_pos)):\n",
    "        x_pos.append(X_pos[k][0])\n",
    "        y_pos.append(X_pos[k][1])\n",
    "    \n",
    "    for l in range(len(X_neg)):\n",
    "        x_neg.append(X_neg[l][0])\n",
    "        y_neg.append(X_neg[l][1])\n",
    "            \n",
    "    plt.plot(x_neg,y_neg,'ro')\n",
    "    plt.plot(x_pos,y_pos,'bo')\n",
    "    plt.plot(xsv,ysv,'g^')\n",
    "    plt.xlabel(\"X\")\n",
    "    plt.ylabel(\"Y\")\n",
    "    plt.show()"
   ]
  },
  {
   "cell_type": "code",
   "execution_count": 18,
   "metadata": {
    "collapsed": false
   },
   "outputs": [
    {
     "data": {
      "image/png": "[encoded data removed]",
      "text/plain": [
       "<matplotlib.figure.Figure at 0x1c888128>"
      ]
     },
     "metadata": {},
     "output_type": "display_data"
    }
   ],
   "source": [
    "SVplot = plotsupportvector(SupportVector,X_lin,Y_lin)"
   ]
  },
  {
   "cell_type": "code",
   "execution_count": 19,
   "metadata": {
    "collapsed": false
   },
   "outputs": [
    {
     "data": {
      "image/png": "[encoded data removed]",
      "text/plain": [
       "<matplotlib.figure.Figure at 0x1cdd6e80>"
      ]
     },
     "metadata": {},
     "output_type": "display_data"
    }
   ],
   "source": [
    "SVplot = plotsupportvector(SupportVectorNon,X_non,Y_non)"
   ]
  },
  {
   "cell_type": "code",
   "execution_count": null,
   "metadata": {
    "collapsed": true
   },
   "outputs": [],
   "source": []
  }
 ],
 "metadata": {
  "kernelspec": {
   "display_name": "Python 2",
   "language": "python",
   "name": "python2"
  },
  "language_info": {
   "codemirror_mode": {
    "name": "ipython",
    "version": 2
   },
   "file_extension": ".py",
   "mimetype": "text/x-python",
   "name": "python",
   "nbconvert_exporter": "python",
   "pygments_lexer": "ipython2",
   "version": "2.7.11"
  }
 },
 "nbformat": 4,
 "nbformat_minor": 0
}
