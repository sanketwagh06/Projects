{
 "cells": [
  {
   "cell_type": "code",
   "execution_count": 29,
   "metadata": {
    "collapsed": false
   },
   "outputs": [],
   "source": [
    "import numpy as np\n",
    "import math\n",
    "from math import exp\n",
    "import numpy.linalg as linalg\n",
    "from sklearn import metrics\n",
    "import random\n",
    "from sklearn.datasets import fetch_mldata\n",
    "import cvxopt\n",
    "from cvxopt import solvers\n",
    "import cvxopt.base\n",
    "from pylab import *\n",
    "%matplotlib inline"
   ]
  },
  {
   "cell_type": "code",
   "execution_count": 30,
   "metadata": {
    "collapsed": false
   },
   "outputs": [],
   "source": [
    "def data(size,features,deviation):\n",
    "    w = np.array([0.6,0.6])\n",
    "    w0 = np.array([0])\n",
    "    n = size/2\n",
    "    #Normalized distributed data:\n",
    "    X = np.append((np.random.randn(n,features)+deviation),(np.random.randn(n,features)-deviation),axis =0)\n",
    "    #print X\n",
    "    Y = []\n",
    "    for i in range(len(X)):\n",
    "        if (w0 + np.dot(w,X[i])) > 0:\n",
    "            Y.append([1.0])\n",
    "        elif (w0 + np.dot(w,X[i])) < 0:\n",
    "            Y.append([-1.0])\n",
    "    #print Y\n",
    "    Y = np.array(Y)\n",
    "    #lists used to plot the data\n",
    "    X_pos = []\n",
    "    X_neg = []\n",
    "    x_neg = []\n",
    "    y_neg = []\n",
    "    x_pos = []\n",
    "    y_pos = []\n",
    "    #separating based on features.\n",
    "    for i in range(len(Y)):\n",
    "        if Y[i] == 1:\n",
    "            X_pos.append(X[i])\n",
    "            #print X[i]\n",
    "        elif Y[i] == -1:\n",
    "            X_neg.append(X[i])\n",
    "    #print X_pos\n",
    "    #print X_neg\n",
    "    \n",
    "    for j in range(len(X_pos)):\n",
    "        x_pos.append(X_pos[j][0])\n",
    "        y_pos.append(X_pos[j][1])\n",
    "    #print x_pos\n",
    "    #print y_pos\n",
    "\n",
    "    for j in range(len(X_neg)):\n",
    "        x_neg.append(X_neg[j][0])\n",
    "        y_neg.append(X_neg[j][1])\n",
    "        \n",
    "    \n",
    "    plt.plot(x_neg,y_neg,'ro')\n",
    "    plt.plot(x_pos,y_pos,'bo')\n",
    "    plt.xlabel(\"X\")\n",
    "    plt.ylabel(\"Y\")\n",
    "    plt.show()\n",
    "    return X,Y"
   ]
  },
  {
   "cell_type": "code",
   "execution_count": 31,
   "metadata": {
    "collapsed": false
   },
   "outputs": [
    {
     "data": {
      "image/png": "[encoded data removed]",
      "text/plain": [
       "<matplotlib.figure.Figure at 0x2d682668>"
      ]
     },
     "metadata": {},
     "output_type": "display_data"
    }
   ],
   "source": [
    "#linearly separable data\n",
    "X_lin,Y_lin = data(120,2,2.0)"
   ]
  },
  {
   "cell_type": "code",
   "execution_count": 32,
   "metadata": {
    "collapsed": false
   },
   "outputs": [
    {
     "data": {
      "image/png": "[encoded data removed]",
      "text/plain": [
       "<matplotlib.figure.Figure at 0x2d682cc0>"
      ]
     },
     "metadata": {},
     "output_type": "display_data"
    }
   ],
   "source": [
    "#linearly non separable data\n",
    "X_non,Y_non = data(150,2,0.5)"
   ]
  },
  {
   "cell_type": "code",
   "execution_count": 33,
   "metadata": {
    "collapsed": false
   },
   "outputs": [],
   "source": [
    "def hard(x,y):\n",
    "    W = 0\n",
    "    W0 = 0\n",
    "    var = x.shape[0]\n",
    "    epsilon = 0\n",
    "    p = cvxopt.base.matrix(np.ndarray.tolist(np.dot(y,y.T) * np.dot(x,x.T)))\n",
    "    print type(p)\n",
    "    q = cvxopt.base.matrix([-1.0] * var)\n",
    "    gtemp = np.zeros((var, var), float)\n",
    "    np.fill_diagonal(gtemp, -1.0)\n",
    "    g = cvxopt.base.matrix(np.ndarray.tolist(gtemp))\n",
    "    h = cvxopt.base.matrix([0.0] * var)\n",
    "    a = cvxopt.base.matrix(np.ndarray.tolist(y))\n",
    "    #b = [1.0]\n",
    "    b = cvxopt.base.matrix(1.0)\n",
    "    ld = solvers.qp(p,q,g,h,a,b) #dual problem minimization\n",
    "    alpha_val = cvxopt.base.matrix(ld['x'])\n",
    "    support_vector = []\n",
    "    for i in range(len(alpha_val)):\n",
    "            if alpha_val[i] > epsilon:\n",
    "                support_vector.append(x[i])\n",
    "    support_vector1 = np.matrix(support_vector)\n",
    "    print support_vector1\n",
    "    for j in range(len(alpha_val)):\n",
    "        W = W + (alpha_val[j] * y[j] * x[i])\n",
    "    for k in range((len(y))):\n",
    "        W0 = W0 + (y[k] - np.dot(W,x[k]))\n",
    "    W0 = W0 / len(support_vector1)\n",
    "    \n",
    "    return W, W0, support_vector1\n",
    "    "
   ]
  },
  {
   "cell_type": "code",
   "execution_count": 52,
   "metadata": {
    "collapsed": true
   },
   "outputs": [],
   "source": [
    "def predict(x,w,w0):\n",
    "    predict = []\n",
    "    for i in range(len(x)):\n",
    "        var1 = np.dot(w,x[i]) + w0\n",
    "        if var1 < 0:\n",
    "            predict.append([1])\n",
    "        else:\n",
    "            predict.append([-1])\n",
    "    return np.array(predict)"
   ]
  },
  {
   "cell_type": "code",
   "execution_count": 53,
   "metadata": {
    "collapsed": true
   },
   "outputs": [],
   "source": [
    "def accuracy(labels,predicted):\n",
    "    return metrics.accuracy_score(labels, predicted)"
   ]
  },
  {
   "cell_type": "code",
   "execution_count": 54,
   "metadata": {
    "collapsed": false
   },
   "outputs": [
    {
     "name": "stdout",
     "output_type": "stream",
     "text": [
      "<type 'cvxopt.base.matrix'>\n",
      "     pcost       dcost       gap    pres   dres\n",
      " 0: -1.3780e+01 -2.6772e+01  4e+02  2e+01  2e+00\n",
      " 1: -1.7599e+01 -1.4124e+01  2e+02  8e+00  8e-01\n",
      " 2: -3.6842e+01 -1.7819e+01  1e+02  4e+00  4e-01\n",
      " 3: -2.5219e+01 -6.8957e+00  6e+01  2e+00  2e-01\n",
      " 4: -2.1376e+00 -2.3927e+00  2e+00  5e-02  5e-03\n",
      " 5: -2.0084e+00 -2.0548e+00  1e-01  2e-03  3e-04\n",
      " 6: -2.0437e+00 -2.0444e+00  2e-03  3e-05  3e-06\n",
      " 7: -2.0443e+00 -2.0443e+00  2e-05  3e-07  3e-08\n",
      " 8: -2.0443e+00 -2.0443e+00  2e-07  3e-09  3e-10\n",
      "Optimal solution found.\n",
      "[[ 2.62218359  2.76429494]\n",
      " [ 3.99756379  3.56191264]\n",
      " [ 2.15224443  1.16442743]\n",
      " [ 1.92659839  1.46614644]\n",
      " [ 3.14651565  2.00335628]\n",
      " [ 0.70238767  0.45347144]\n",
      " [ 2.87970196  1.52756567]\n",
      " [ 2.64308532  1.10681337]\n",
      " [ 1.76119421  2.73342768]\n",
      " [ 3.05986144  1.45312022]\n",
      " [ 5.04699035  2.12811238]\n",
      " [ 2.57244329  1.26634881]\n",
      " [ 2.97648915  1.42105998]\n",
      " [ 1.65585036  1.22027824]\n",
      " [ 2.36042956  4.33227122]\n",
      " [ 1.39024088  1.56758071]\n",
      " [ 2.51328036  2.96639005]\n",
      " [ 4.38261481  0.25411102]\n",
      " [ 2.28211463  2.92832612]\n",
      " [-0.04894366  0.44096712]\n",
      " [ 0.59335065  1.40441989]\n",
      " [ 2.02865954  1.38808864]\n",
      " [ 1.09796227  1.24895577]\n",
      " [ 2.72774443  2.46709738]\n",
      " [ 2.83793436  4.13835818]\n",
      " [ 1.82225085  2.10107342]\n",
      " [ 0.6237798   1.11868312]\n",
      " [ 0.84980365  4.1580896 ]\n",
      " [ 0.87891543  2.84394911]\n",
      " [ 2.65862564  1.47869464]\n",
      " [ 0.99796977  1.39692057]\n",
      " [ 1.02357833  2.17175922]\n",
      " [ 1.95837795  0.20804871]\n",
      " [ 2.97626104  1.20635595]\n",
      " [ 1.9995154   1.79160441]\n",
      " [ 2.56397412  3.73070823]\n",
      " [ 3.14825936  1.58143145]\n",
      " [ 1.88536363  3.39404722]\n",
      " [ 1.77527227  3.12059857]\n",
      " [ 0.80082481  2.49576205]\n",
      " [ 2.7661027   1.05997867]\n",
      " [ 1.22196566  1.46091793]\n",
      " [ 1.03648601  1.01418615]\n",
      " [ 3.38710585  2.48433659]\n",
      " [ 1.2712308   1.03841144]\n",
      " [ 0.62431043  2.87212293]\n",
      " [ 2.71486307  1.63142428]\n",
      " [ 1.03923142  1.23209722]\n",
      " [ 2.59896952  2.11781568]\n",
      " [ 0.37043746  2.15493032]\n",
      " [ 1.16098662  1.97523793]\n",
      " [ 1.93993145  2.22901939]\n",
      " [ 2.96184719 -0.20684735]\n",
      " [ 1.95984543  1.47393131]\n",
      " [ 1.82601803  1.95046081]\n",
      " [ 0.31502644  1.39886314]\n",
      " [ 1.98740631  2.42684512]\n",
      " [ 0.9256656   0.80925489]\n",
      " [ 0.12719075  3.29939499]\n",
      " [ 2.39306604  2.54361371]\n",
      " [-2.00794379 -1.27560343]\n",
      " [-2.1755476  -2.87543674]\n",
      " [-2.82408729 -0.6401852 ]\n",
      " [-1.49504205 -3.28306298]\n",
      " [-0.63650883 -2.00403988]\n",
      " [-2.32812082 -2.73916992]\n",
      " [-1.02255798 -0.2021978 ]\n",
      " [-2.28140127 -0.25495352]\n",
      " [-0.97124685 -2.75819998]\n",
      " [-0.71536273 -1.43818282]\n",
      " [-1.6487909  -2.15017754]\n",
      " [-0.53470545 -1.43390733]\n",
      " [-1.09229885 -3.10422729]\n",
      " [-1.04304546 -1.52913451]\n",
      " [-1.78608986 -1.60287528]\n",
      " [-2.37767227 -2.32207136]\n",
      " [-3.11932804 -0.75815063]\n",
      " [-1.25220044 -2.32106737]\n",
      " [-4.32968074 -1.83739323]\n",
      " [-0.80571952 -2.34351369]\n",
      " [-3.63342661 -1.40099685]\n",
      " [-2.34091051 -2.72678575]\n",
      " [-2.68249141  0.73754418]\n",
      " [-0.97103746 -3.00497325]\n",
      " [-2.0037135  -1.54112746]\n",
      " [-1.77843662 -0.34797419]\n",
      " [-0.53572345 -1.87578571]\n",
      " [-1.32604041 -2.64880846]\n",
      " [-1.27478222 -2.04444926]\n",
      " [-2.75370687 -3.38863619]\n",
      " [-0.12259528 -2.55990951]\n",
      " [-2.42653232 -1.37787268]\n",
      " [-1.25073724 -2.22340334]\n",
      " [-0.80358904 -2.9236686 ]\n",
      " [-2.05063675 -2.77285156]\n",
      " [-3.37320045 -1.57394357]\n",
      " [-2.2178848  -1.68704536]\n",
      " [-1.57303119 -1.45759732]\n",
      " [-1.57237221 -2.81081341]\n",
      " [-4.13464514 -1.98482009]\n",
      " [-1.52390737 -2.71466185]\n",
      " [-3.71863877 -0.92653981]\n",
      " [-0.60262642 -0.67443149]\n",
      " [-1.88280178 -0.82296208]\n",
      " [-2.13643597  0.05766072]\n",
      " [-2.501443   -3.4019163 ]\n",
      " [-1.30742735 -1.36365713]\n",
      " [-2.30120415 -2.04658146]\n",
      " [-1.96228493 -0.75780903]\n",
      " [-2.16470659 -1.15114975]\n",
      " [-1.88957819 -2.8039197 ]\n",
      " [-1.83468024 -3.0395131 ]\n",
      " [-2.3617116  -1.41191914]\n",
      " [-0.28048846 -1.17244187]\n",
      " [-0.77121286 -2.03170311]]\n"
     ]
    }
   ],
   "source": [
    "W_lin, W0_lin, SupportVector = hard(X_lin,Y_lin)"
   ]
  },
  {
   "cell_type": "code",
   "execution_count": 55,
   "metadata": {
    "collapsed": false
   },
   "outputs": [],
   "source": [
    "predict_lin = predict(X_lin, W_lin,  W0_lin)"
   ]
  },
  {
   "cell_type": "code",
   "execution_count": 56,
   "metadata": {
    "collapsed": false
   },
   "outputs": [
    {
     "name": "stdout",
     "output_type": "stream",
     "text": [
      "Accuracy: 1.0\n"
     ]
    }
   ],
   "source": [
    "acc = accuracy(Y_lin,predict_lin)\n",
    "print \"Accuracy:\", acc"
   ]
  },
  {
   "cell_type": "code",
   "execution_count": 57,
   "metadata": {
    "collapsed": false
   },
   "outputs": [
    {
     "name": "stdout",
     "output_type": "stream",
     "text": [
      "<type 'cvxopt.base.matrix'>\n",
      "     pcost       dcost       gap    pres   dres\n",
      " 0: -5.1548e+01 -1.0532e+02  6e+02  3e+01  2e+00\n",
      " 1: -1.5288e+02 -1.4859e+02  3e+02  1e+01  9e-01\n",
      " 2: -9.2260e+02 -8.7006e+02  3e+02  1e+01  9e-01\n",
      " 3: -1.5004e+03 -1.4099e+03  4e+02  1e+01  9e-01\n",
      " 4: -1.9937e+03 -1.8498e+03  6e+02  1e+01  9e-01\n",
      " 5: -1.7849e+03 -1.5770e+03  1e+03  1e+01  8e-01\n",
      " 6: -1.4795e+03 -1.1300e+03  1e+03  8e+00  6e-01\n",
      " 7: -3.1533e+02 -4.8194e+02  3e+02  5e-01  3e-02\n",
      " 8: -3.7061e+02 -3.7633e+02  9e+00  1e-02  8e-04\n",
      " 9: -3.7512e+02 -3.7518e+02  9e-02  1e-04  8e-06\n",
      "10: -3.7517e+02 -3.7517e+02  9e-04  1e-06  8e-08\n",
      "11: -3.7517e+02 -3.7517e+02  9e-06  1e-08  8e-10\n",
      "Optimal solution found.\n",
      "[[  1.91563534e+00   3.78768227e-01]\n",
      " [ -6.35325312e-01   8.64927359e-01]\n",
      " [  9.11197842e-01  -3.61237571e-02]\n",
      " [ -9.80428055e-01   5.48853899e-01]\n",
      " [  1.18124836e+00   7.35057592e-01]\n",
      " [  2.21478518e-02   1.02231073e+00]\n",
      " [  7.89179030e-02  -9.16622094e-03]\n",
      " [ -1.72527676e+00  -1.10182979e-01]\n",
      " [  4.82865276e-01  -5.33380737e-01]\n",
      " [ -1.25549084e-01  -5.92597954e-01]\n",
      " [ -2.50100050e-01   1.67332923e+00]\n",
      " [  3.50191314e-01   1.45736126e-01]\n",
      " [  1.09895723e+00   2.00327251e+00]\n",
      " [  7.93297619e-01  -6.68935830e-01]\n",
      " [  1.43744590e+00  -8.84326850e-01]\n",
      " [  4.54151452e-01   1.93336355e+00]\n",
      " [ -6.65457868e-01  -1.01089935e-01]\n",
      " [ -1.14802933e-01   6.55053012e-01]\n",
      " [  1.80523591e+00   2.99175491e-01]\n",
      " [  9.06038518e-01   2.31157147e+00]\n",
      " [  4.55366214e-01  -3.85862405e-02]\n",
      " [ -5.47715019e-01   2.71031537e+00]\n",
      " [  6.64163204e-01   7.59592850e-01]\n",
      " [  1.42852053e+00   1.71807795e+00]\n",
      " [  4.54547432e-01   1.52548924e+00]\n",
      " [  2.45725703e-01   1.48084746e+00]\n",
      " [  1.32532115e+00   1.08318194e+00]\n",
      " [  1.13570545e-01   9.18532262e-01]\n",
      " [ -1.95221755e-01   7.19980338e-01]\n",
      " [ -4.56881935e-01   7.61299320e-01]\n",
      " [  1.00088176e+00   4.39434668e-01]\n",
      " [  1.48159311e+00   2.02328602e-01]\n",
      " [  2.45255181e-01   1.60747733e+00]\n",
      " [  1.95039939e-01   5.34591492e-01]\n",
      " [  1.67346542e+00   1.90460001e+00]\n",
      " [ -4.34385277e-02   1.00453308e+00]\n",
      " [  1.10276384e+00   2.91083409e+00]\n",
      " [  1.71965014e+00   1.08540453e+00]\n",
      " [  1.65362839e+00   2.74356795e-01]\n",
      " [  1.20139384e+00   1.02157034e+00]\n",
      " [  1.93438658e+00   5.94307853e-01]\n",
      " [  2.85382098e-01  -7.18127495e-01]\n",
      " [ -1.15501878e+00   6.91081636e-01]\n",
      " [  1.58992051e+00  -9.23535402e-01]\n",
      " [ -3.84939835e-01  -4.60845690e-02]\n",
      " [  2.52187631e+00   2.81288471e-02]\n",
      " [  1.62965537e+00   1.58523183e-01]\n",
      " [ -6.52691901e-01   1.60117991e+00]\n",
      " [  2.79934454e-02  -7.28999620e-01]\n",
      " [  7.15759301e-01   1.21244803e-01]\n",
      " [ -1.74997160e-01  -9.14938688e-01]\n",
      " [  7.88286463e-01  -8.86226359e-02]\n",
      " [  8.50740739e-01   3.08192931e-01]\n",
      " [  1.12812230e+00  -2.36268226e+00]\n",
      " [ -3.84355638e-01  -7.54794799e-01]\n",
      " [  1.48549185e+00   9.65352132e-01]\n",
      " [  1.74194893e+00   7.84372727e-01]\n",
      " [  1.03042255e+00   1.16754967e-01]\n",
      " [  3.14303831e+00  -2.57904345e-04]\n",
      " [ -4.04403495e-01  -4.79244158e-01]\n",
      " [ -1.54585020e+00  -2.01860545e-01]\n",
      " [  4.00209985e-01  -3.52144842e-01]\n",
      " [  8.21253641e-01   6.59875771e-01]\n",
      " [ -1.59819149e+00   2.39372708e-01]\n",
      " [ -7.37617781e-01   2.01741023e+00]\n",
      " [  2.10860150e+00   4.54247943e-01]\n",
      " [ -2.85564362e-01   6.47665002e-01]\n",
      " [ -5.71111886e-01  -1.51397319e+00]\n",
      " [  4.75695277e-01   1.89013057e+00]\n",
      " [  2.03043577e-01   6.01211887e-02]\n",
      " [  1.87641207e+00   6.94906146e-02]\n",
      " [  1.50933481e+00  -6.08224696e-01]\n",
      " [ -9.39176396e-01  -4.21515102e+00]\n",
      " [ -2.98569323e-01  -4.77695438e+00]\n",
      " [  6.36224622e-01   3.95753516e-01]\n",
      " [ -7.72069687e-01  -3.21621191e-01]\n",
      " [ -4.60465580e-02   1.05509752e+00]\n",
      " [ -7.45251801e-01  -1.11029125e+00]\n",
      " [ -5.67301636e-01  -6.37152559e-01]\n",
      " [  5.77279079e-01  -1.26486854e+00]\n",
      " [ -5.13954707e-01  -2.26973650e+00]\n",
      " [  7.74642495e-01   5.14737323e-01]\n",
      " [ -1.84975220e-01  -2.43715420e+00]\n",
      " [ -1.35344499e+00  -1.64564266e+00]\n",
      " [ -3.07397938e+00  -1.91947485e+00]\n",
      " [  6.54523067e-01   2.89986319e-01]\n",
      " [ -2.42136866e+00   4.93377498e-01]\n",
      " [ -2.49722555e-01  -1.75201511e-01]\n",
      " [ -1.56216135e+00  -4.59415555e-01]\n",
      " [ -1.77504060e+00  -1.06169569e-01]\n",
      " [  2.09112539e-01   5.95067176e-02]\n",
      " [  4.01660015e-01  -9.71297053e-01]\n",
      " [ -5.00474582e-01  -1.39353467e+00]\n",
      " [  6.96781447e-01  -9.85299526e-01]\n",
      " [  4.63182283e-01  -1.49912703e+00]\n",
      " [  6.20738833e-02  -1.36255284e-01]\n",
      " [ -1.25764251e+00  -6.33301242e-01]\n",
      " [  5.42394467e-01   4.32922741e-01]\n",
      " [ -1.63480030e+00   9.40683693e-01]\n",
      " [ -3.23997408e-01  -1.50765717e+00]\n",
      " [ -7.25931119e-01  -1.05559567e+00]\n",
      " [ -2.37468868e-01  -3.33647110e+00]\n",
      " [  1.91292680e-01  -8.25548832e-01]\n",
      " [ -2.04389707e+00  -1.97992443e-01]\n",
      " [ -1.39717725e-01  -2.47541401e-01]\n",
      " [ -1.14711276e+00  -2.14173732e-01]\n",
      " [ -6.28860816e-01   4.26684558e-02]\n",
      " [  2.80805883e-01  -5.85021924e-01]\n",
      " [ -7.83973931e-01  -1.10812228e+00]\n",
      " [ -1.44857845e+00   1.22602216e-01]\n",
      " [ -1.89424622e+00  -8.05102160e-01]\n",
      " [ -2.28123650e+00  -5.53254246e-01]\n",
      " [ -1.24799445e+00  -1.07845884e+00]\n",
      " [ -3.59951071e-01  -8.03737548e-01]\n",
      " [  5.02417058e-01   1.04562796e+00]\n",
      " [ -1.26522618e+00   5.67957438e-01]\n",
      " [  6.02636827e-01   3.22559812e-01]\n",
      " [ -1.02549570e+00  -4.85846960e-01]\n",
      " [ -4.48339625e-01  -3.57757490e-01]\n",
      " [ -2.28198876e-01   7.50597750e-01]\n",
      " [  3.86303034e-01  -1.31468698e+00]\n",
      " [  5.64625931e-01  -1.09656038e+00]\n",
      " [ -1.15848297e+00  -7.50991634e-01]\n",
      " [ -1.36296888e+00  -3.01491881e-01]\n",
      " [ -8.94483754e-01   4.00956592e-01]\n",
      " [ -1.10883032e+00   3.03303702e-01]\n",
      " [ -1.55594124e+00  -1.27630691e+00]\n",
      " [ -1.47500363e+00  -1.11029967e+00]\n",
      " [ -1.43607337e+00  -4.31998039e-01]\n",
      " [ -2.06459471e+00   1.30798486e+00]\n",
      " [  3.59307731e-01  -4.50676075e-01]\n",
      " [  3.10316241e-02  -9.74866106e-02]\n",
      " [  9.59495050e-01   1.44166213e-01]\n",
      " [ -2.53316761e-01  -7.66114174e-01]\n",
      " [ -2.34881141e+00  -1.03889374e-01]\n",
      " [ -5.36375561e-01   8.87742878e-01]\n",
      " [  2.90780042e-01  -2.12218925e+00]\n",
      " [ -4.75548030e-01  -7.82977479e-01]\n",
      " [ -1.37193318e+00  -1.08114843e+00]\n",
      " [ -1.13144946e+00  -1.61905494e+00]\n",
      " [ -5.76197957e-01  -1.55090086e+00]\n",
      " [ -1.43209178e+00  -1.82758350e+00]]\n"
     ]
    }
   ],
   "source": [
    "W_non, W0_non, SupportVectorNon = hard(X_non,Y_non)"
   ]
  },
  {
   "cell_type": "code",
   "execution_count": 58,
   "metadata": {
    "collapsed": false
   },
   "outputs": [],
   "source": [
    "predict_non = predict(X_non, W_non,  W0_non)"
   ]
  },
  {
   "cell_type": "code",
   "execution_count": 59,
   "metadata": {
    "collapsed": false
   },
   "outputs": [
    {
     "name": "stdout",
     "output_type": "stream",
     "text": [
      "Accuracy: 0.973333333333\n"
     ]
    }
   ],
   "source": [
    "acc_non = accuracy(Y_non,predict_non)\n",
    "print \"Accuracy:\", acc_non"
   ]
  },
  {
   "cell_type": "code",
   "execution_count": 62,
   "metadata": {
    "collapsed": true
   },
   "outputs": [],
   "source": [
    "def plotsupportvector(sv,x,y):\n",
    "    xsv = []\n",
    "    ysv = []\n",
    "    X_pos = []\n",
    "    X_neg = []\n",
    "    x_neg = []\n",
    "    y_neg = []\n",
    "    x_pos = []\n",
    "    y_pos = []\n",
    "    sv = np.array(sv)\n",
    "    for i in range(len(sv)):\n",
    "        xsv.append(sv[0])\n",
    "        ysv.append(sv[1])\n",
    "    \n",
    "    for j in range(len(y)):\n",
    "        if y[j] == 1:\n",
    "            X_pos.append(x[j])\n",
    "            #print X[i]\n",
    "        elif y[j] == -1:\n",
    "            X_neg.append(x[j])\n",
    "    \n",
    "    for k in range(len(X_pos)):\n",
    "        x_pos.append(X_pos[k][0])\n",
    "        y_pos.append(X_pos[k][1])\n",
    "    \n",
    "    for l in range(len(X_neg)):\n",
    "        x_neg.append(X_neg[l][0])\n",
    "        y_neg.append(X_neg[l][1])\n",
    "            \n",
    "    plt.plot(x_neg,y_neg,'ro')\n",
    "    plt.plot(x_pos,y_pos,'bo')\n",
    "    plt.plot(xsv,ysv,'g^')\n",
    "    plt.xlabel(\"X\")\n",
    "    plt.ylabel(\"Y\")\n",
    "    plt.show()"
   ]
  },
  {
   "cell_type": "code",
   "execution_count": 63,
   "metadata": {
    "collapsed": false
   },
   "outputs": [
    {
     "data": {
      "image/png": "[encoded data removed]",
      "text/plain": [
       "<matplotlib.figure.Figure at 0x1c64b2b0>"
      ]
     },
     "metadata": {},
     "output_type": "display_data"
    }
   ],
   "source": [
    "SVplot = plotsupportvector(SupportVector,X_lin,Y_lin)"
   ]
  },
  {
   "cell_type": "code",
   "execution_count": 64,
   "metadata": {
    "collapsed": false
   },
   "outputs": [
    {
     "data": {
      "image/png": "[encoded data removed]",
      "text/plain": [
       "<matplotlib.figure.Figure at 0x2d706e48>"
      ]
     },
     "metadata": {},
     "output_type": "display_data"
    }
   ],
   "source": [
    "SVplot = plotsupportvector(SupportVectorNon,X_non,Y_non)"
   ]
  },
  {
   "cell_type": "code",
   "execution_count": null,
   "metadata": {
    "collapsed": true
   },
   "outputs": [],
   "source": []
  }
 ],
 "metadata": {
  "kernelspec": {
   "display_name": "Python 2",
   "language": "python",
   "name": "python2"
  },
  "language_info": {
   "codemirror_mode": {
    "name": "ipython",
    "version": 2
   },
   "file_extension": ".py",
   "mimetype": "text/x-python",
   "name": "python",
   "nbconvert_exporter": "python",
   "pygments_lexer": "ipython2",
   "version": "2.7.11"
  }
 },
 "nbformat": 4,
 "nbformat_minor": 0
}
