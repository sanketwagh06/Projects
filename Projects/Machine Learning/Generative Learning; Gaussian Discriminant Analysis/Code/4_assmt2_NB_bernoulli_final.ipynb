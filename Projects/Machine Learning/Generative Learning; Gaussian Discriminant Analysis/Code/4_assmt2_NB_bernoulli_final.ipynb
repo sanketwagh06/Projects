{
 "cells": [
  {
   "cell_type": "code",
   "execution_count": 206,
   "metadata": {
    "collapsed": true
   },
   "outputs": [],
   "source": [
    "import numpy as np\n",
    "from math import log ,factorial\n",
    "from sklearn.cross_validation import KFold\n",
    "from sklearn.metrics import accuracy_score, confusion_matrix, precision_score,recall_score,f1_score\n",
    "from itertools import combinations\n",
    "import matplotlib.pyplot as plt\n",
    "%matplotlib inline\n",
    "import io"
   ]
  },
  {
   "cell_type": "code",
   "execution_count": 207,
   "metadata": {
    "collapsed": true
   },
   "outputs": [],
   "source": [
    "filename = \"spambase.data\"\n",
    "X = []\n",
    "Y = []\n",
    "for line in open(filename):\n",
    "    #li=line.strip()\n",
    "    var = line.split(',')\n",
    "    Y.append(int(var[-1]))\n",
    "    X.append(map(float,var[1:len(var)-1]))"
   ]
  },
  {
   "cell_type": "code",
   "execution_count": 208,
   "metadata": {
    "collapsed": true
   },
   "outputs": [],
   "source": [
    "X = np.array(X)\n",
    "Y = np.array(Y)"
   ]
  },
  {
   "cell_type": "code",
   "execution_count": 209,
   "metadata": {
    "collapsed": false
   },
   "outputs": [
    {
     "name": "stdout",
     "output_type": "stream",
     "text": [
      "(4601L, 56L)\n"
     ]
    }
   ],
   "source": [
    "#to obtain features that are 0 or 1.\n",
    "x=[]\n",
    "for listx in X:\n",
    "    for number in range(len(listx)):\n",
    "        if  listx[number]> 0.0:\n",
    "            listx[number] = 1.0\n",
    "    x.append(listx)\n",
    "print np.shape(x)"
   ]
  },
  {
   "cell_type": "code",
   "execution_count": 210,
   "metadata": {
    "collapsed": false
   },
   "outputs": [],
   "source": [
    "class0 = []\n",
    "class1 = []\n",
    "\n",
    "for i in range(len(Y)):\n",
    "    if Y[i] == 0:\n",
    "        class0.append(x[i])\n",
    "    elif Y[i]==1:\n",
    "        class1.append(x[i])"
   ]
  },
  {
   "cell_type": "code",
   "execution_count": 211,
   "metadata": {
    "collapsed": false
   },
   "outputs": [
    {
     "name": "stdout",
     "output_type": "stream",
     "text": [
      "2788\n"
     ]
    }
   ],
   "source": [
    "print len(class0)"
   ]
  },
  {
   "cell_type": "code",
   "execution_count": 212,
   "metadata": {
    "collapsed": false
   },
   "outputs": [
    {
     "name": "stdout",
     "output_type": "stream",
     "text": [
      "[array([ 0.09791966,  0.27725968,  0.00286944,  0.22022956,  0.11406026,\n",
      "        0.01542324,  0.07352941,  0.07819225,  0.17037303,  0.05093257,\n",
      "        0.42395983,  0.11908178,  0.04519369,  0.01757532,  0.09038737,\n",
      "        0.0954089 ,  0.12553802,  0.58070301,  0.01685796,  0.34325681,\n",
      "        0.00789096,  0.02761836,  0.01936872,  0.37302726,  0.28120516,\n",
      "        0.276901  ,  0.15530846,  0.12912482,  0.16176471,  0.10401722,\n",
      "        0.07281205,  0.12338594,  0.07352941,  0.15746055,  0.17467719,\n",
      "        0.26111908,  0.01829268,  0.11549498,  0.09002869,  0.05272597,\n",
      "        0.1151363 ,  0.10401722,  0.10043042,  0.29555237,  0.16104735,\n",
      "        0.01578192,  0.06707317,  0.18615495,  0.55164993,  0.14311334,\n",
      "        0.267934  ,  0.1043759 ,  0.08213773,  1.        ,  1.        ,  1.        ])]\n"
     ]
    }
   ],
   "source": [
    "alpha0 = []\n",
    "alpha0.append((np.sum(class0,axis = 0))/ (len(class0)))\n",
    "print alpha0"
   ]
  },
  {
   "cell_type": "code",
   "execution_count": 213,
   "metadata": {
    "collapsed": false
   },
   "outputs": [
    {
     "name": "stdout",
     "output_type": "stream",
     "text": [
      "[array([  3.44732488e-01,   6.15002758e-01,   2.15113072e-02,\n",
      "         6.25482625e-01,   3.75620518e-01,   4.21400993e-01,\n",
      "         3.41423056e-01,   3.06122449e-01,   4.56150028e-01,\n",
      "         3.12741313e-01,   6.30446773e-01,   2.86817430e-01,\n",
      "         1.27413127e-01,   1.58301158e-01,   5.45504688e-01,\n",
      "         3.84445670e-01,   3.79481522e-01,   8.86927744e-01,\n",
      "         2.07942637e-01,   8.08604523e-01,   5.23993381e-02,\n",
      "         3.32046332e-01,   3.75620518e-01,   2.75785990e-02,\n",
      "         1.48924435e-02,   4.41257584e-03,   1.65471594e-02,\n",
      "         6.61886376e-03,   9.92829564e-03,   1.65471594e-03,\n",
      "         1.10314396e-03,   3.36458908e-02,   5.51571980e-03,\n",
      "         2.53723111e-02,   6.17760618e-02,   5.57087700e-02,\n",
      "         1.76503034e-02,   3.41974628e-02,   1.11417540e-01,\n",
      "         5.51571980e-04,   1.10314396e-02,   4.68836183e-02,\n",
      "         2.59238831e-02,   2.68615554e-01,   3.75068946e-02,\n",
      "         1.04798676e-02,   8.82515168e-03,   1.49476007e-01,\n",
      "         6.49200221e-01,   7.17043574e-02,   8.33425262e-01,\n",
      "         6.11693326e-01,   2.87369002e-01,   1.00000000e+00,\n",
      "         1.00000000e+00,   1.00000000e+00])]\n"
     ]
    }
   ],
   "source": [
    "alpha1 = []\n",
    "alpha1.append((np.sum(class1,axis = 0))/ (len(class1)))\n",
    "print alpha1"
   ]
  },
  {
   "cell_type": "code",
   "execution_count": 214,
   "metadata": {
    "collapsed": false
   },
   "outputs": [
    {
     "name": "stdout",
     "output_type": "stream",
     "text": [
      "0.605955227125\n"
     ]
    }
   ],
   "source": [
    "prior0 = 0\n",
    "prior0 = float(len(class0))/float(len(x))\n",
    "print prior0\n",
    "logp0 = log(prior0)"
   ]
  },
  {
   "cell_type": "code",
   "execution_count": 215,
   "metadata": {
    "collapsed": false
   },
   "outputs": [
    {
     "name": "stdout",
     "output_type": "stream",
     "text": [
      "0.394044772875\n"
     ]
    }
   ],
   "source": [
    "prior1 = 0\n",
    "prior1 = float(len(class1))/float(len(x))\n",
    "print prior1\n",
    "logp1 = log(prior1)"
   ]
  },
  {
   "cell_type": "code",
   "execution_count": 216,
   "metadata": {
    "collapsed": false
   },
   "outputs": [],
   "source": [
    "a = []\n",
    "d=0\n",
    "u = np.array(x)\n",
    "for i in range(len(alpha0)):\n",
    "    for j in range(len(u)):\n",
    "        d=0\n",
    "        for k in range(len(u[j])):\n",
    "            #print u[i][j]\n",
    "            if u[j][k]==1:\n",
    "                d += np.log(alpha0[i][k])\n",
    "            else:\n",
    "                d += np.log(1-alpha0[i][k])\n",
    "        d+np.log(prior0)\n",
    "        a.append(d)\n",
    "#print a"
   ]
  },
  {
   "cell_type": "code",
   "execution_count": 217,
   "metadata": {
    "collapsed": false
   },
   "outputs": [],
   "source": [
    "b = []\n",
    "de=0\n",
    "v = np.array(x)\n",
    "for i in range(len(alpha1)):\n",
    "    for j in range(len(v)):\n",
    "        de=0\n",
    "        for k in range(len(v[j])):\n",
    "            #print v[i][j]\n",
    "            if v[j][k]==1:\n",
    "                de += np.log(alpha1[i][k])\n",
    "            else:\n",
    "                de += np.log(1-alpha1[i][k])\n",
    "        de+np.log(prior1)\n",
    "        b.append(de)\n",
    "#print b"
   ]
  },
  {
   "cell_type": "code",
   "execution_count": 218,
   "metadata": {
    "collapsed": false
   },
   "outputs": [],
   "source": [
    "predict = []\n",
    "for i,j in zip(a,b):\n",
    "    if i>j:\n",
    "        predict.append(0)\n",
    "    else: predict.append(1)"
   ]
  },
  {
   "cell_type": "code",
   "execution_count": 224,
   "metadata": {
    "collapsed": false
   },
   "outputs": [],
   "source": [
    "#print predict"
   ]
  },
  {
   "cell_type": "code",
   "execution_count": 220,
   "metadata": {
    "collapsed": false
   },
   "outputs": [],
   "source": [
    "clabels = [0,1]\n",
    "cm= []\n",
    "for i in clabels:\n",
    "    tmp1 =[0]*len(clabels)\n",
    "    for j in range(len(Y)):\n",
    "        #print j\n",
    "        if Y[j] == i and Y[j] == predict[j]:\n",
    "            tmp1[clabels.index(i)] += 1\n",
    "        elif Y[j] == i and Y[j] != predict[j]:\n",
    "            tmp1[clabels.index(predict[j])] += 1\n",
    "    cm.append(tmp1)"
   ]
  },
  {
   "cell_type": "code",
   "execution_count": 222,
   "metadata": {
    "collapsed": false
   },
   "outputs": [
    {
     "name": "stdout",
     "output_type": "stream",
     "text": [
      "[[2591  197]\n",
      " [ 305 1508]]\n"
     ]
    }
   ],
   "source": [
    "cm = np.matrix(cm)\n",
    "print cm"
   ]
  },
  {
   "cell_type": "code",
   "execution_count": 223,
   "metadata": {
    "collapsed": true
   },
   "outputs": [],
   "source": [
    "kf = KFold(len(Y), n_folds=10, shuffle = True)\n",
    "cm_fold = []"
   ]
  },
  {
   "cell_type": "code",
   "execution_count": 246,
   "metadata": {
    "collapsed": false
   },
   "outputs": [
    {
     "name": "stderr",
     "output_type": "stream",
     "text": [
      "C:\\Anaconda\\lib\\site-packages\\IPython\\kernel\\__main__.py:67: RuntimeWarning: divide by zero encountered in log\n"
     ]
    }
   ],
   "source": [
    "for train_index, test_index in kf:\n",
    "    X_train, X_test = X[train_index], X[test_index]\n",
    "    Y_train, Y_test = Y[train_index], Y[test_index]\n",
    "    \n",
    "    xtr=[]\n",
    "    for listxtr in X_train:\n",
    "        for numbertr in range(len(listxtr)):\n",
    "            if  listxtr[numbertr]> 0.0:\n",
    "                listxtr[numbertr] = 1.0\n",
    "        xtr.append(listxtr)\n",
    "    #print np.shape(xtr)\n",
    "    \n",
    "    xts=[]\n",
    "    for listxts in X_test:\n",
    "        for numberts in range(len(listxts)):\n",
    "            if  listxts[numberts]> 0.0:\n",
    "                listxts[numberts] = 1.0\n",
    "        xts.append(listxts)\n",
    "    \n",
    "    class0_tr = []\n",
    "    class1_tr = []\n",
    "\n",
    "    for i in range(len(Y_train)):\n",
    "        if Y_train[i] == 0:\n",
    "            class0_tr.append(xtr[i])\n",
    "        elif Y_train[i]==1:\n",
    "            class1_tr.append(xtr[i])\n",
    "    \n",
    "    alpha0_tr = []\n",
    "    alpha0_tr.append((np.sum(class0_tr,axis = 0))/ (len(class0_tr)))\n",
    "    #print alpha0_tr\n",
    "    \n",
    "    alpha1_tr = []\n",
    "    alpha1_tr.append((np.sum(class1_tr,axis = 0))/ (len(class1_tr)))\n",
    "    #print alpha1_tr\n",
    "    \n",
    "    prior0tr = 0\n",
    "    prior0tr = float(len(class0_tr))/float(len(xtr))\n",
    "    \n",
    "    prior1tr = 0\n",
    "    prior1tr = float(len(class1_tr))/float(len(xtr))\n",
    "    \n",
    "    ats = []\n",
    "    dts=0\n",
    "    utr = np.array(xts)\n",
    "    for i in range(len(alpha0_tr)):\n",
    "        for j in range(len(utr)):\n",
    "            dts=0 #So that every itreration it sets back to zero. Due to which we get appropriate values.\n",
    "            for k in range(len(utr[j])):\n",
    "                #print u[i][j]\n",
    "                if utr[j][k]==1:\n",
    "                    dts += np.log(alpha0_tr[i][k])\n",
    "                else:\n",
    "                    dts += np.log(1-alpha0_tr[i][k])\n",
    "            dts+np.log(prior0tr)\n",
    "            ats.append(dts)\n",
    "            \n",
    "    ats1 = []\n",
    "    dts1=0\n",
    "    utr1 = np.array(xts)\n",
    "    for i in range(len(alpha1_tr)):\n",
    "        for j in range(len(utr1)):\n",
    "            dts1=0 #So that every itreration it sets back to zero. Due to which we get appropriate values.\n",
    "            for k in range(len(utr[j])):\n",
    "                #print u[i][j]\n",
    "                if utr[j][k]==1:\n",
    "                    dts1 += np.log(alpha1_tr[i][k])\n",
    "                else:\n",
    "                    dts1 += np.log(1-alpha1_tr[i][k])\n",
    "            dts1+np.log(prior1tr)\n",
    "            ats1.append(dts1)\n",
    "            \n",
    "    predict_ts = []\n",
    "    for i,j in zip(ats,ats1):\n",
    "        if i>j:\n",
    "            predict_ts.append(0)\n",
    "        else: predict_ts.append(1)\n",
    "            \n",
    "    clabels = [0,1]\n",
    "    cm_test= []\n",
    "    for i in clabels:\n",
    "        tmp =[0]*len(clabels)\n",
    "        for j in range(len(Y_test)):\n",
    "            if Y_test[j] == i and Y_test[j] == predict_ts[j]:\n",
    "                tmp[clabels.index(i)] += 1\n",
    "            elif Y_test[j] == i and Y_test[j] != predict_ts[j]:\n",
    "                tmp[clabels.index(predict_ts[j])] += 1\n",
    "        cm_test.append(tmp)\n",
    "    cm_fold.append(cm_test)"
   ]
  },
  {
   "cell_type": "code",
   "execution_count": 257,
   "metadata": {
    "collapsed": false
   },
   "outputs": [],
   "source": [
    "cm_fold = np.array(cm_fold)"
   ]
  },
  {
   "cell_type": "code",
   "execution_count": 258,
   "metadata": {
    "collapsed": false
   },
   "outputs": [
    {
     "data": {
      "text/plain": [
       "array([[[270,  16],\n",
       "        [ 23, 152]],\n",
       "\n",
       "       [[259,  18],\n",
       "        [ 29, 154]],\n",
       "\n",
       "       [[281,  15],\n",
       "        [ 21, 143]],\n",
       "\n",
       "       [[257,  16],\n",
       "        [ 35, 152]],\n",
       "\n",
       "       [[257,  19],\n",
       "        [ 31, 153]],\n",
       "\n",
       "       [[259,  29],\n",
       "        [ 30, 142]],\n",
       "\n",
       "       [[263,  26],\n",
       "        [ 30, 141]],\n",
       "\n",
       "       [[258,  17],\n",
       "        [ 30, 155]],\n",
       "\n",
       "       [[258,  19],\n",
       "        [ 35, 148]],\n",
       "\n",
       "       [[229,  22],\n",
       "        [ 41, 168]],\n",
       "\n",
       "       [[270,  16],\n",
       "        [ 23, 152]],\n",
       "\n",
       "       [[259,  18],\n",
       "        [ 29, 154]],\n",
       "\n",
       "       [[281,  15],\n",
       "        [ 21, 143]],\n",
       "\n",
       "       [[257,  16],\n",
       "        [ 35, 152]],\n",
       "\n",
       "       [[257,  19],\n",
       "        [ 31, 153]],\n",
       "\n",
       "       [[259,  29],\n",
       "        [ 30, 142]],\n",
       "\n",
       "       [[263,  26],\n",
       "        [ 30, 141]],\n",
       "\n",
       "       [[258,  17],\n",
       "        [ 30, 155]],\n",
       "\n",
       "       [[258,  19],\n",
       "        [ 35, 148]],\n",
       "\n",
       "       [[229,  22],\n",
       "        [ 41, 168]]])"
      ]
     },
     "execution_count": 258,
     "metadata": {},
     "output_type": "execute_result"
    }
   ],
   "source": [
    "cm_fold"
   ]
  },
  {
   "cell_type": "code",
   "execution_count": 259,
   "metadata": {
    "collapsed": false
   },
   "outputs": [],
   "source": [
    "prec = []\n",
    "for i in cm_fold:\n",
    "    i = np.array(i)\n",
    "    prec_tmp=[]\n",
    "    try:\n",
    "        prec_tmp.append(float(i[0,0])/np.sum(i,axis=0)[0])\n",
    "    except ZeroDivisionError:\n",
    "        prec_tmp.append(0)\n",
    "    try:\n",
    "        prec_tmp.append(float(i[1,1])/np.sum(i,axis=0)[1])\n",
    "    except ZeroDivisionError:\n",
    "        prec_tmp.append(0)   \n",
    "    prec.append(prec_tmp) "
   ]
  },
  {
   "cell_type": "code",
   "execution_count": 260,
   "metadata": {
    "collapsed": false
   },
   "outputs": [
    {
     "name": "stdout",
     "output_type": "stream",
     "text": [
      "[[0.9215017064846417, 0.9047619047619048], [0.8993055555555556, 0.8953488372093024], [0.9304635761589404, 0.9050632911392406], [0.8801369863013698, 0.9047619047619048], [0.8923611111111112, 0.8895348837209303], [0.8961937716262975, 0.8304093567251462], [0.8976109215017065, 0.844311377245509], [0.8958333333333334, 0.9011627906976745], [0.8805460750853242, 0.8862275449101796], [0.8481481481481481, 0.8842105263157894], [0.9215017064846417, 0.9047619047619048], [0.8993055555555556, 0.8953488372093024], [0.9304635761589404, 0.9050632911392406], [0.8801369863013698, 0.9047619047619048], [0.8923611111111112, 0.8895348837209303], [0.8961937716262975, 0.8304093567251462], [0.8976109215017065, 0.844311377245509], [0.8958333333333334, 0.9011627906976745], [0.8805460750853242, 0.8862275449101796], [0.8481481481481481, 0.8842105263157894]]\n"
     ]
    },
    {
     "data": {
      "text/plain": [
       "array([ 0.89421012,  0.88457924])"
      ]
     },
     "execution_count": 260,
     "metadata": {},
     "output_type": "execute_result"
    }
   ],
   "source": [
    "print prec\n",
    "np.mean(prec,axis=0)"
   ]
  },
  {
   "cell_type": "code",
   "execution_count": 261,
   "metadata": {
    "collapsed": true
   },
   "outputs": [],
   "source": [
    "rec = []\n",
    "for i in cm_fold:\n",
    "    i = np.array(i)\n",
    "    rec_tmp=[]\n",
    "    try:\n",
    "        rec_tmp.append(float(i[0,0])/np.sum(i,axis=1)[0])\n",
    "    except ZeroDivisionError:\n",
    "        rec_tmp.append(0)\n",
    "    try:\n",
    "        rec_tmp.append(float(i[1,1])/np.sum(i,axis=1)[1])\n",
    "    except ZeroDivisionError:\n",
    "        rec_tmp.append(0) \n",
    "    rec.append(rec_tmp)     "
   ]
  },
  {
   "cell_type": "code",
   "execution_count": 262,
   "metadata": {
    "collapsed": false
   },
   "outputs": [
    {
     "name": "stdout",
     "output_type": "stream",
     "text": [
      "[[0.9440559440559441, 0.8685714285714285], [0.9350180505415162, 0.8415300546448088], [0.9493243243243243, 0.8719512195121951], [0.9413919413919414, 0.8128342245989305], [0.9311594202898551, 0.8315217391304348], [0.8993055555555556, 0.8255813953488372], [0.9100346020761245, 0.8245614035087719], [0.9381818181818182, 0.8378378378378378], [0.9314079422382672, 0.8087431693989071], [0.9123505976095617, 0.8038277511961722], [0.9440559440559441, 0.8685714285714285], [0.9350180505415162, 0.8415300546448088], [0.9493243243243243, 0.8719512195121951], [0.9413919413919414, 0.8128342245989305], [0.9311594202898551, 0.8315217391304348], [0.8993055555555556, 0.8255813953488372], [0.9100346020761245, 0.8245614035087719], [0.9381818181818182, 0.8378378378378378], [0.9314079422382672, 0.8087431693989071], [0.9123505976095617, 0.8038277511961722]]\n"
     ]
    },
    {
     "data": {
      "text/plain": [
       "array([ 0.92922302,  0.83269602])"
      ]
     },
     "execution_count": 262,
     "metadata": {},
     "output_type": "execute_result"
    }
   ],
   "source": [
    "print rec\n",
    "np.mean(rec,axis=0)"
   ]
  },
  {
   "cell_type": "code",
   "execution_count": 263,
   "metadata": {
    "collapsed": true
   },
   "outputs": [],
   "source": [
    "F1 = [] #fmeasure\n",
    "for i in range(len(prec)):\n",
    "    tmp = []\n",
    "    try:\n",
    "        varr0 = 2*((prec[i][0]*rec[i][0])/(prec[i][0]+rec[i][0]))\n",
    "        #print varr0\n",
    "        tmp.append(varr0)\n",
    "    except ZeroDivisionError:\n",
    "        tmp.append(0)\n",
    "    try:\n",
    "        varr1 = 2*((prec[i][1]*rec[i][1])/(prec[i][1]+rec[i][1]))\n",
    "        #print varr1\n",
    "        tmp.append(varr1)\n",
    "    except ZeroDivisionError:\n",
    "        tmp.append(0)\n",
    "    F1.append(tmp)"
   ]
  },
  {
   "cell_type": "code",
   "execution_count": 264,
   "metadata": {
    "collapsed": false
   },
   "outputs": [
    {
     "name": "stdout",
     "output_type": "stream",
     "text": [
      "[[0.9326424870466322, 0.8862973760932944], [0.9168141592920354, 0.867605633802817], [0.939799331103679, 0.8881987577639753], [0.9097345132743362, 0.856338028169014], [0.9113475177304966, 0.8595505617977529], [0.8977469670710572, 0.8279883381924199], [0.9037800687285223, 0.834319526627219], [0.9165186500888101, 0.8683473389355741], [0.9052631578947368, 0.8457142857142858], [0.8790786948176582, 0.8421052631578947], [0.9326424870466322, 0.8862973760932944], [0.9168141592920354, 0.867605633802817], [0.939799331103679, 0.8881987577639753], [0.9097345132743362, 0.856338028169014], [0.9113475177304966, 0.8595505617977529], [0.8977469670710572, 0.8279883381924199], [0.9037800687285223, 0.834319526627219], [0.9165186500888101, 0.8683473389355741], [0.9052631578947368, 0.8457142857142858], [0.8790786948176582, 0.8421052631578947]]\n"
     ]
    },
    {
     "data": {
      "text/plain": [
       "array([ 0.91127255,  0.85764651])"
      ]
     },
     "execution_count": 264,
     "metadata": {},
     "output_type": "execute_result"
    }
   ],
   "source": [
    "print F1\n",
    "np.mean(F1,axis = 0)"
   ]
  },
  {
   "cell_type": "code",
   "execution_count": 265,
   "metadata": {
    "collapsed": false
   },
   "outputs": [
    {
     "name": "stdout",
     "output_type": "stream",
     "text": [
      "0.890887956239\n"
     ]
    }
   ],
   "source": [
    "acc = []\n",
    "for i in range(len(cm_fold)):\n",
    "    acc1 = np.trace(cm_fold[i])*1.0/np.sum(cm_fold[i])\n",
    "    acc.append(acc1)\n",
    "print np.mean(acc)"
   ]
  },
  {
   "cell_type": "code",
   "execution_count": null,
   "metadata": {
    "collapsed": true
   },
   "outputs": [],
   "source": []
  }
 ],
 "metadata": {
  "kernelspec": {
   "display_name": "Python 2",
   "language": "python",
   "name": "python2"
  },
  "language_info": {
   "codemirror_mode": {
    "name": "ipython",
    "version": 2
   },
   "file_extension": ".py",
   "mimetype": "text/x-python",
   "name": "python",
   "nbconvert_exporter": "python",
   "pygments_lexer": "ipython2",
   "version": "2.7.10"
  }
 },
 "nbformat": 4,
 "nbformat_minor": 0
}
