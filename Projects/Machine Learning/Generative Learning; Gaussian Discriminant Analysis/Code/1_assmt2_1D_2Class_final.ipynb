{
 "cells": [
  {
   "cell_type": "code",
   "execution_count": 1,
   "metadata": {},
   "outputs": [],
   "source": [
    "import matplotlib.pyplot as plt\n",
    "from sklearn import datasets\n",
    "import numpy as np"
   ]
  },
  {
   "cell_type": "code",
   "execution_count": 2,
   "metadata": {},
   "outputs": [],
   "source": [
    "iris = datasets.load_iris()"
   ]
  },
  {
   "cell_type": "code",
   "execution_count": 4,
   "metadata": {},
   "outputs": [],
   "source": [
    "y = iris['target']\n",
    "Y = y[:100]\n",
    "x = iris['data']\n",
    "X = x[:,1]"
   ]
  },
  {
   "cell_type": "code",
   "execution_count": 5,
   "metadata": {},
   "outputs": [],
   "source": [
    "X = np.array(X) #Data\n",
    "Y = np.array(Y) #labels"
   ]
  },
  {
   "cell_type": "code",
   "execution_count": 6,
   "metadata": {},
   "outputs": [],
   "source": [
    "count = [0,0]\n",
    "for i in Y:\n",
    "    if i == 0:\n",
    "        count[0] = count[0]+1\n",
    "    if i == 1:\n",
    "        count[1] = count[1]+1"
   ]
  },
  {
   "cell_type": "code",
   "execution_count": 7,
   "metadata": {},
   "outputs": [
    {
     "name": "stdout",
     "output_type": "stream",
     "text": [
      "count [50, 50]\n",
      "alpha: [0.5, 0.5]\n"
     ]
    }
   ],
   "source": [
    "alpha = [] #no. of examples in a class/in the two classes chosen\n",
    "for i in count:\n",
    "    alpha.append(i * 1.0 / len(Y))\n",
    "print 'count', count\n",
    "print 'alpha:',alpha"
   ]
  },
  {
   "cell_type": "code",
   "execution_count": 9,
   "metadata": {},
   "outputs": [
    {
     "name": "stdout",
     "output_type": "stream",
     "text": [
      "mean of classes: [3.4180000000000006, 2.7700000000000005]\n"
     ]
    }
   ],
   "source": [
    "sum1 = [0,0] #Sum of I(y(i)=j)*X(i) {Helps determining mew}\n",
    "for i in range(len(Y)):\n",
    "    if Y[i] == 0:\n",
    "        sum1[0] = sum1[0]+X[i]\n",
    "    if Y[i] == 1:\n",
    "        sum1[1] = sum1[1]+X[i]\n",
    "\n",
    "mew = [] #mean of classes\n",
    "for i in range(len(sum1)):\n",
    "    mew.append(sum1[i]/count[i])\n",
    "    \n",
    "print 'mean of classes:', mew"
   ]
  },
  {
   "cell_type": "code",
   "execution_count": 11,
   "metadata": {},
   "outputs": [
    {
     "name": "stdout",
     "output_type": "stream",
     "text": [
      "covariance: [0.14227600000000001, 0.096500000000000016]\n"
     ]
    }
   ],
   "source": [
    "sum2 = [0,0]\n",
    "sigma = [] #Covariance\n",
    "for i in range(len(Y)):\n",
    "    if Y[i] == 0:\n",
    "        sum2[0] = sum2[0]+((X[i]-mew[0])**2)\n",
    "    if Y[i] == 1:\n",
    "        sum2[1] = sum2[1]+((X[i]-mew[1])**2)\n",
    "\n",
    "for i in range(len(sum2)):\n",
    "    sigma.append(sum2[i]/count[i])\n",
    "    \n",
    "print 'covariance:', sigma"
   ]
  },
  {
   "cell_type": "code",
   "execution_count": 12,
   "metadata": {},
   "outputs": [],
   "source": [
    "import math\n",
    "membership = []\n",
    "for j in X:\n",
    "    member_temp = []\n",
    "    for i in range(len(mew)):\n",
    "        temp = -math.log(sigma[i])+math.log(alpha[i])\n",
    "        member_temp.append(temp - (((j-mew[i])**2)*1.0/2*sigma[i]**2))\n",
    "    membership.append(member_temp)\n",
    "#print membership"
   ]
  },
  {
   "cell_type": "code",
   "execution_count": 14,
   "metadata": {},
   "outputs": [
    {
     "name": "stdout",
     "output_type": "stream",
     "text": [
      "[1, 1, 1, 1, 1, 1, 1, 1, 1, 1, 1, 1, 1, 1, 1, 1, 1, 1, 1, 1, 1, 1, 1, 1, 1, 1, 1, 1, 1, 1, 1, 1, 1, 1, 1, 1, 1, 1, 1, 1, 1, 1, 1, 1, 1, 1, 1, 1, 1, 1, 1, 1, 1, 1, 1, 1, 1, 1, 1, 1, 1, 1, 1, 1, 1, 1, 1, 1, 1, 1, 1, 1, 1, 1, 1, 1, 1, 1, 1, 1, 1, 1, 1, 1, 1, 1, 1, 1, 1, 1, 1, 1, 1, 1, 1, 1, 1, 1, 1, 1, 1, 1, 1, 1, 1, 1, 1, 1, 1, 1, 1, 1, 1, 1, 1, 1, 1, 1, 1, 1, 1, 1, 1, 1, 1, 1, 1, 1, 1, 1, 1, 1, 1, 1, 1, 1, 1, 1, 1, 1, 1, 1, 1, 1, 1, 1, 1, 1, 1, 1]\n"
     ]
    }
   ],
   "source": [
    "'''The discriminant function is going to compare the two values obtained above, for each record in the dataset.\n",
    "In this case it is a list.'''\n",
    "\n",
    "predict = []\n",
    "for i in membership:\n",
    "    x = i[0] - i[1]\n",
    "    if  x > 0:\n",
    "        predict.append(0)\n",
    "    else: predict.append(1)\n",
    "\n",
    "print predict"
   ]
  },
  {
   "cell_type": "code",
   "execution_count": 16,
   "metadata": {},
   "outputs": [
    {
     "name": "stdout",
     "output_type": "stream",
     "text": [
      "0.664068347083\n"
     ]
    }
   ],
   "source": [
    "for i,j in zip(predict,Y):\n",
    "    x = x + (i-j)**2\n",
    "mse = x/len(predict)\n",
    "print mse"
   ]
  },
  {
   "cell_type": "code",
   "execution_count": 29,
   "metadata": {},
   "outputs": [],
   "source": [
    "from sklearn.cross_validation import KFold\n",
    "kf = KFold(len(Y), n_folds=10, shuffle = True)\n",
    "cm_fold = []"
   ]
  },
  {
   "cell_type": "code",
   "execution_count": 30,
   "metadata": {},
   "outputs": [],
   "source": [
    "for train_index, test_index in kf:\n",
    "    X_train, X_test = X[train_index], X[test_index]\n",
    "    Y_train, Y_test = Y[train_index], Y[test_index]\n",
    "    \n",
    "    count_tr = [0,0]\n",
    "    for i in Y_train:\n",
    "        if i == 0:\n",
    "            count_tr[0] = count_tr[0]+1\n",
    "        if i == 1:\n",
    "            count_tr[1] = count_tr[1]+1\n",
    "    \n",
    "    alpha_tr = [] #no. of examples in a class/in the two classes chosen\n",
    "    for i in count:\n",
    "        alpha_tr.append(i * 1.0 / len(Y_train))\n",
    "    \n",
    "    sum1_tr = [0,0] #Sum of I(y(i)=j)*X(i) {Helps determining mew}\n",
    "    for i in range(len(Y_train)):\n",
    "        if Y_train[i] == 0:\n",
    "            sum1_tr[0] = sum1_tr[0]+X_train[i]\n",
    "        if Y_train[i] == 1:\n",
    "            sum1_tr[1] = sum1_tr[1]+X_train[i]\n",
    "    \n",
    "    mew_tr = [] #mean of classes\n",
    "    for i in range(len(sum1_tr)):\n",
    "        mew_tr.append(sum1_tr[i]/count_tr[i])\n",
    "    \n",
    "    sum2_tr = [0,0]\n",
    "    sigma_tr = [] #Covariance\n",
    "    for i in range(len(Y_train)):\n",
    "        if Y_train[i] == 0:\n",
    "            sum2_tr[0] = sum2_tr[0]+((X_train[i]-mew_tr[0])**2)\n",
    "        if Y_train[i] == 1:\n",
    "            sum2_tr[1] = sum2_tr[1]+((X_train[i]-mew_tr[1])**2)\n",
    "    for i in range(len(sum2_tr)):\n",
    "        sigma_tr.append(sum2_tr[i]/count_tr[i])\n",
    "     \n",
    "    membership_ts = []\n",
    "    for j in X_test:\n",
    "        member_temp_ts = []\n",
    "        for i in range(len(mew_tr)):\n",
    "            temp_ts = -math.log(sigma_tr[i])+math.log(alpha_tr[i])\n",
    "            member_temp_ts.append(temp_ts - (((j-mew_tr[i])**2)*1.0/2*sigma_tr[i]**2))\n",
    "        membership_ts.append(member_temp_ts)\n",
    "    \n",
    "    predict_ts = []\n",
    "    for i in membership_ts:\n",
    "        xts = i[0] - i[1]\n",
    "        if  xts > 0:\n",
    "            predict_ts.append(0)\n",
    "        else: predict_ts.append(1)\n",
    "    \n",
    "    for i,j in zip(predict_ts,Y_test):\n",
    "        xts = xts + (i-j)**2\n",
    "    mse_test = xts/len(predict_ts)\n",
    "    \n",
    "    clabels = [0,1]\n",
    "    cm_ts = []\n",
    "    for i in clabels:\n",
    "        tmp =[0]*len(clabels)\n",
    "        for j in range(len(Y_test)):\n",
    "            #print j\n",
    "            if Y_test[j] == i and Y_test[j] == predict_ts[j]:\n",
    "                tmp[clabels.index(i)] += 1\n",
    "            elif Y_test[j] == i and Y_test[j] != predict_ts[j]:\n",
    "                tmp[clabels.index(predict_ts[j])] += 1\n",
    "        cm_ts.append(tmp)\n",
    "    cm_fold.append(cm_ts)"
   ]
  },
  {
   "cell_type": "code",
   "execution_count": 24,
   "metadata": {},
   "outputs": [
    {
     "name": "stdout",
     "output_type": "stream",
     "text": [
      "[1, 1, 1, 1, 1, 1, 1, 1, 1, 1]\n",
      "0.586579871235\n"
     ]
    }
   ],
   "source": [
    "print predict_ts\n",
    "print mse_test"
   ]
  },
  {
   "cell_type": "code",
   "execution_count": 25,
   "metadata": {},
   "outputs": [],
   "source": [
    "clabels = [0,1]\n",
    "cm_ts = []\n",
    "for i in clabels:\n",
    "    tmp =[0]*len(clabels)\n",
    "    for j in range(len(Y_test)):\n",
    "        #print j\n",
    "        if Y_test[j] == i and Y_test[j] == predict_ts[j]:\n",
    "            tmp[clabels.index(i)] += 1\n",
    "        elif Y_test[j] == i and Y_test[j] != predict_ts[j]:\n",
    "            tmp[clabels.index(predict_ts[j])] += 1\n",
    "    cm_ts.append(tmp)"
   ]
  },
  {
   "cell_type": "code",
   "execution_count": 32,
   "metadata": {},
   "outputs": [],
   "source": [
    "cm_fold = np.array(cm_fold)"
   ]
  },
  {
   "cell_type": "code",
   "execution_count": 34,
   "metadata": {},
   "outputs": [
    {
     "name": "stdout",
     "output_type": "stream",
     "text": [
      "[[[0 5]\n",
      "  [0 5]]\n",
      "\n",
      " [[0 9]\n",
      "  [0 1]]\n",
      "\n",
      " [[0 7]\n",
      "  [0 3]]\n",
      "\n",
      " [[0 4]\n",
      "  [0 6]]\n",
      "\n",
      " [[0 5]\n",
      "  [0 5]]\n",
      "\n",
      " [[0 2]\n",
      "  [0 8]]\n",
      "\n",
      " [[0 4]\n",
      "  [0 6]]\n",
      "\n",
      " [[0 5]\n",
      "  [0 5]]\n",
      "\n",
      " [[0 5]\n",
      "  [0 5]]\n",
      "\n",
      " [[0 4]\n",
      "  [0 6]]]\n"
     ]
    }
   ],
   "source": [
    "print cm_fold"
   ]
  },
  {
   "cell_type": "code",
   "execution_count": 35,
   "metadata": {},
   "outputs": [],
   "source": [
    "prec = []\n",
    "for i in cm_fold:\n",
    "    i = np.array(i)\n",
    "    prec_tmp=[]\n",
    "    try:\n",
    "        prec_tmp.append(float(i[0,0])/np.sum(i,axis=0)[0])\n",
    "    except ZeroDivisionError:\n",
    "        prec_tmp.append(0)\n",
    "    try:\n",
    "        prec_tmp.append(float(i[1,1])/np.sum(i,axis=0)[1])\n",
    "    except ZeroDivisionError:\n",
    "        prec_tmp.append(0)   \n",
    "    prec.append(prec_tmp)"
   ]
  },
  {
   "cell_type": "code",
   "execution_count": 36,
   "metadata": {},
   "outputs": [
    {
     "name": "stdout",
     "output_type": "stream",
     "text": [
      "[[0, 0.5], [0, 0.1], [0, 0.3], [0, 0.6], [0, 0.5], [0, 0.8], [0, 0.6], [0, 0.5], [0, 0.5], [0, 0.6]]\n"
     ]
    },
    {
     "data": {
      "text/plain": [
       "array([ 0. ,  0.5])"
      ]
     },
     "execution_count": 36,
     "output_type": "execute_result",
     "metadata": {}
    }
   ],
   "source": [
    "print prec\n",
    "np.mean(prec,axis=0)"
   ]
  },
  {
   "cell_type": "code",
   "execution_count": 38,
   "metadata": {},
   "outputs": [
    {
     "name": "stdout",
     "output_type": "stream",
     "text": [
      "[[0.0, 1.0], [0.0, 1.0], [0.0, 1.0], [0.0, 1.0], [0.0, 1.0], [0.0, 1.0], [0.0, 1.0], [0.0, 1.0], [0.0, 1.0], [0.0, 1.0]]\n"
     ]
    },
    {
     "data": {
      "text/plain": [
       "array([ 0.,  1.])"
      ]
     },
     "execution_count": 38,
     "output_type": "execute_result",
     "metadata": {}
    }
   ],
   "source": [
    "rec = []\n",
    "for i in cm_fold:\n",
    "    i = np.array(i)\n",
    "    rec_tmp=[]\n",
    "    try:\n",
    "        rec_tmp.append(float(i[0,0])/np.sum(i,axis=1)[0])\n",
    "    except ZeroDivisionError:\n",
    "        rec_tmp.append(0)\n",
    "    try:\n",
    "        rec_tmp.append(float(i[1,1])/np.sum(i,axis=1)[1])\n",
    "    except ZeroDivisionError:\n",
    "        rec_tmp.append(0)   \n",
    "    rec.append(rec_tmp)     \n",
    "    \n",
    "print rec\n",
    "np.mean(rec,axis =0)"
   ]
  },
  {
   "cell_type": "code",
   "execution_count": 39,
   "metadata": {},
   "outputs": [],
   "source": [
    "F1 = [] #fmeasure\n",
    "for i in range(len(prec)):\n",
    "    tmp = []\n",
    "    try:\n",
    "        varr0 = 2*((prec[i][0]*rec[i][0])/(prec[i][0]+rec[i][0]))\n",
    "        #print varr0\n",
    "        tmp.append(varr0)\n",
    "    except ZeroDivisionError:\n",
    "        tmp.append(0)\n",
    "    try:\n",
    "        varr1 = 2*((prec[i][1]*rec[i][1])/(prec[i][1]+rec[i][1]))\n",
    "        #print varr1\n",
    "        tmp.append(varr1)\n",
    "    except ZeroDivisionError:\n",
    "        tmp.append(0)\n",
    "    F1.append(tmp)"
   ]
  },
  {
   "cell_type": "code",
   "execution_count": 40,
   "metadata": {},
   "outputs": [
    {
     "name": "stdout",
     "output_type": "stream",
     "text": [
      "[[0, 0.6666666666666666], [0, 0.18181818181818182], [0, 0.4615384615384615], [0, 0.7499999999999999], [0, 0.6666666666666666], [0, 0.888888888888889], [0, 0.7499999999999999], [0, 0.6666666666666666], [0, 0.6666666666666666], [0, 0.7499999999999999]]\n"
     ]
    },
    {
     "data": {
      "text/plain": [
       "array([ 0.        ,  0.64489122])"
      ]
     },
     "execution_count": 40,
     "output_type": "execute_result",
     "metadata": {}
    }
   ],
   "source": [
    "print F1\n",
    "np.mean(F1,axis = 0)"
   ]
  },
  {
   "cell_type": "code",
   "execution_count": 41,
   "metadata": {},
   "outputs": [
    {
     "name": "stdout",
     "output_type": "stream",
     "text": [
      "0.5\n"
     ]
    }
   ],
   "source": [
    "acc = []\n",
    "for i in range(len(cm_fold)):\n",
    "    acc1 = np.trace(cm_fold[i])*1.0/np.sum(cm_fold[i])\n",
    "    acc.append(acc1)\n",
    "print np.mean(acc)"
   ]
  },
  {
   "cell_type": "code",
   "execution_count": null,
   "metadata": {},
   "outputs": [],
   "source": [
    ""
   ]
  }
 ],
 "metadata": {
  "kernelspec": {
   "display_name": "Python 2",
   "language": "python",
   "name": "python2"
  },
  "language_info": {
   "codemirror_mode": {
    "name": "ipython",
    "version": 2.0
   },
   "file_extension": ".py",
   "mimetype": "text/x-python",
   "name": "python",
   "nbconvert_exporter": "python",
   "pygments_lexer": "ipython2",
   "version": "2.7.10"
  }
 },
 "nbformat": 4,
 "nbformat_minor": 0
}