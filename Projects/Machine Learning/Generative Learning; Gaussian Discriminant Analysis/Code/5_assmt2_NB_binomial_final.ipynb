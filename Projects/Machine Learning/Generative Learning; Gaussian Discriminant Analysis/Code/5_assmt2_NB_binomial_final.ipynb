{
 "cells": [
  {
   "cell_type": "code",
   "execution_count": null,
   "metadata": {
    "collapsed": true
   },
   "outputs": [],
   "source": [
    "import numpy as np\n",
    "from math import log ,factorial\n",
    "from sklearn.cross_validation import KFold\n",
    "from sklearn.metrics import accuracy_score, confusion_matrix, precision_score,recall_score,f1_score\n",
    "from itertools import combinations\n",
    "import matplotlib.pyplot as plt\n",
    "%matplotlib inline\n",
    "import io"
   ]
  },
  {
   "cell_type": "code",
   "execution_count": null,
   "metadata": {
    "collapsed": true
   },
   "outputs": [],
   "source": [
    "filename = \"spambase.data\"\n",
    "X = []\n",
    "Y = []\n",
    "for line in open(filename):\n",
    "    #li=line.strip()\n",
    "    var = line.split(',')\n",
    "    Y.append(int(var[-1]))\n",
    "    X.append(map(float,var[1:len(var)-1]))"
   ]
  },
  {
   "cell_type": "code",
   "execution_count": null,
   "metadata": {
    "collapsed": true
   },
   "outputs": [],
   "source": [
    "X = np.array(X)\n",
    "Y = np.array(Y)"
   ]
  },
  {
   "cell_type": "code",
   "execution_count": null,
   "metadata": {
    "collapsed": true
   },
   "outputs": [],
   "source": [
    "#to obtain features that are 0 or 1.\n",
    "x=[]\n",
    "for listx in X:\n",
    "    for number in range(len(listx)):\n",
    "        if  listx[number]> 0.0:\n",
    "            listx[number] = 1.0\n",
    "    x.append(listx)\n",
    "print np.shape(x)"
   ]
  },
  {
   "cell_type": "code",
   "execution_count": null,
   "metadata": {
    "collapsed": true
   },
   "outputs": [],
   "source": [
    "#taking the number and multiplying with a random number to help obtain frequency once class segregation is complete. \n",
    "d=[]\n",
    "rand=[np.random.randint(1,10) for i in range(len(x))]\n",
    "for i in range(len(x)):\n",
    "    d.append(x[i]*rand[i])\n",
    "#print list(d)    "
   ]
  },
  {
   "cell_type": "code",
   "execution_count": null,
   "metadata": {
    "collapsed": true
   },
   "outputs": [],
   "source": [
    "class0 = []\n",
    "class1 = []\n",
    "\n",
    "for i in range(len(Y)):\n",
    "    if Y[i] == 0:\n",
    "        class0.append(d[i])\n",
    "    elif Y[i]==1:\n",
    "        class1.append(d[i])"
   ]
  },
  {
   "cell_type": "code",
   "execution_count": null,
   "metadata": {
    "collapsed": true
   },
   "outputs": [],
   "source": [
    "#while generating alpha values we set a smoothing value (epsilon = 1) and add to numerator and denominator as given in formula.\n",
    "alpha0 = []\n",
    "alpha0.append((np.sum(class0,axis = 0)+1)/ (len(class0)+1))\n",
    "print alpha0"
   ]
  },
  {
   "cell_type": "code",
   "execution_count": null,
   "metadata": {
    "collapsed": true
   },
   "outputs": [],
   "source": [
    "alpha1 = []\n",
    "alpha1.append((np.sum(class1,axis = 0)+1)/ (len(class1)+1))\n",
    "print alpha1"
   ]
  },
  {
   "cell_type": "code",
   "execution_count": null,
   "metadata": {
    "collapsed": true
   },
   "outputs": [],
   "source": [
    "prior0 = 0\n",
    "prior0 = float(len(class0))/float(len(x))\n",
    "print prior0"
   ]
  },
  {
   "cell_type": "code",
   "execution_count": null,
   "metadata": {
    "collapsed": true
   },
   "outputs": [],
   "source": [
    "prior1 = 0\n",
    "prior1 = float(len(class1))/float(len(x))\n",
    "print prior1"
   ]
  },
  {
   "cell_type": "code",
   "execution_count": null,
   "metadata": {
    "collapsed": true
   },
   "outputs": [],
   "source": [
    "def nCr(n,r):\n",
    "    f = factorial\n",
    "    return f(n) / f(r) / f(n-r)"
   ]
  },
  {
   "cell_type": "code",
   "execution_count": null,
   "metadata": {
    "collapsed": true
   },
   "outputs": [],
   "source": [
    "mem1 = []\n",
    "tot = np.sum(d) #Total number of words in data\n",
    "u = np.array(d)\n",
    "#print np.shape(u)\n",
    "for i in range(len(alpha0)):\n",
    "    for j in range(len(u)):\n",
    "        delim=0\n",
    "        for k in range(len(u[j])):\n",
    "            #print alpha0[i][k]\n",
    "            ncr1 = log(nCr(tot,u[j][k]))\n",
    "            x1 = u[j][k]*alpha0[i][k]\n",
    "            x2 = (tot-u[j][k])*(1-alpha0[i][k])\n",
    "            delim = delim+ncr1+x1+x2\n",
    "        delim = delim + log(prior0)\n",
    "        mem1.append(delim)"
   ]
  },
  {
   "cell_type": "code",
   "execution_count": null,
   "metadata": {
    "collapsed": true
   },
   "outputs": [],
   "source": [
    "mem2 = []\n",
    "tot = np.sum(x) #Total number of words in data\n",
    "v = np.array(x)\n",
    "#print np.shape(u)\n",
    "for i in range(len(alpha1)):\n",
    "    for j in range(len(v)):\n",
    "        delim1=0\n",
    "        for k in range(len(v[j])):\n",
    "            #print u[i][j]\n",
    "            ncr2 = log(nCr(tot,v[j][k]))\n",
    "            y1 = v[j][k]*alpha1[i][k]\n",
    "            y2 = (tot-v[j][k])*(1-alpha1[i][k])\n",
    "            delim1 = delim1+ncr2+y1+y2\n",
    "        delim1 = delim1 + log(prior1)\n",
    "        mem2.append(delim1)"
   ]
  },
  {
   "cell_type": "code",
   "execution_count": null,
   "metadata": {
    "collapsed": true
   },
   "outputs": [],
   "source": [
    "kf = KFold(len(Y), n_folds=10, shuffle = True)\n",
    "cm_fold = []"
   ]
  },
  {
   "cell_type": "code",
   "execution_count": null,
   "metadata": {
    "collapsed": true
   },
   "outputs": [],
   "source": [
    "for train_index, test_index in kf:\n",
    "    X_train, X_test = X[train_index], X[test_index]\n",
    "    Y_train, Y_test = Y[train_index], Y[test_index]\n",
    "    \n",
    "    #to obtain features that are 0 or 1.\n",
    "    x=[]\n",
    "    for listx in X:\n",
    "        for number in range(len(listx)):\n",
    "            if  listx[number]> 0.0:\n",
    "                listx[number] = 1.0\n",
    "        x.append(listx)\n",
    "    #print np.shape(x)\n",
    "    #taking the number and multiplying with a random number to help obtain frequency once class segregation is complete. \n",
    "    d=[]\n",
    "    rand=[np.random.randint(1,10) for i in range(len(x))]\n",
    "    for i in range(len(x)):\n",
    "        d.append(x[i]*rand[i])\n",
    "    #print list(d)    \n",
    "    class0 = []\n",
    "    class1 = []\n",
    "\n",
    "    for i in range(len(Y)):\n",
    "        if Y[i] == 0:\n",
    "            class0.append(d[i])\n",
    "        elif Y[i]==1:\n",
    "            class1.append(d[i])\n",
    "            \n",
    "    #while generating alpha values we set a smoothing value (epsilon = 1) and add to numerator and denominator as given in formula.\n",
    "    alpha0 = []\n",
    "    alpha0.append((np.sum(class0,axis = 0)+1)/ (len(class0)+1))\n",
    "    print alpha0\n",
    "\n",
    "    alpha1 = []\n",
    "    alpha1.append((np.sum(class1,axis = 0)+1)/ (len(class1)+1))\n",
    "    print alpha1\n",
    "\n",
    "    mem1 = []\n",
    "    tot = np.sum(d) #Total number of words in data\n",
    "    u = np.array(d)\n",
    "    #print np.shape(u)\n",
    "    for i in range(len(alpha0)):\n",
    "        for j in range(len(u)):\n",
    "            delim=0\n",
    "            for k in range(len(u[j])):\n",
    "                #print alpha0[i][k]\n",
    "                ncr1 = log(nCr(tot,u[j][k]))\n",
    "                x1 = u[j][k]*alpha0[i][k]\n",
    "                x2 = (tot-u[j][k])*(1-alpha0[i][k])\n",
    "                delim = delim+ncr1+x1+x2\n",
    "            delim = delim + log(prior0)\n",
    "            mem1.append(delim)\n",
    "\n",
    "    mem2 = []\n",
    "    tot = np.sum(x) #Total number of words in data\n",
    "    v = np.array(x)\n",
    "    #print np.shape(u)\n",
    "    for i in range(len(alpha1)):\n",
    "        for j in range(len(v)):\n",
    "            delim1=0\n",
    "            for k in range(len(v[j])):\n",
    "                #print u[i][j]\n",
    "                ncr2 = log(nCr(tot,v[j][k]))\n",
    "                y1 = v[j][k]*alpha1[i][k]\n",
    "                y2 = (tot-v[j][k])*(1-alpha1[i][k])\n",
    "                delim1 = delim1+ncr2+y1+y2\n",
    "            delim1 = delim1 + log(prior1)\n",
    "            mem2.append(delim1)\n",
    "        \n",
    "    predict_ts = []\n",
    "        for i,j in zip(mem1,mem2):\n",
    "            if i>j:\n",
    "                predict_ts.append(0)\n",
    "            else: predict_ts.append(1)\n",
    "            \n",
    "    clabels = [0,1]\n",
    "    cm_test= []\n",
    "    for i in clabels:\n",
    "        tmp =[0]*len(clabels)\n",
    "        for j in range(len(Y_test)):\n",
    "            if Y_test[j] == i and Y_test[j] == predict_ts[j]:\n",
    "                tmp[clabels.index(i)] += 1\n",
    "            elif Y_test[j] == i and Y_test[j] != predict_ts[j]:\n",
    "                tmp[clabels.index(predict_ts[j])] += 1\n",
    "        cm_test.append(tmp)\n",
    "    cm_fold.append(cm_test)"
   ]
  },
  {
   "cell_type": "code",
   "execution_count": null,
   "metadata": {
    "collapsed": true
   },
   "outputs": [],
   "source": [
    "cm_fold = np.array(cm_fold)\n",
    "print cm_fold"
   ]
  },
  {
   "cell_type": "code",
   "execution_count": null,
   "metadata": {
    "collapsed": true
   },
   "outputs": [],
   "source": [
    "prec = []\n",
    "for i in cm_fold:\n",
    "    i = np.array(i)\n",
    "    prec_tmp=[]\n",
    "    try:\n",
    "        prec_tmp.append(float(i[0,0])/np.sum(i,axis=0)[0])\n",
    "    except ZeroDivisionError:\n",
    "        prec_tmp.append(0)\n",
    "    try:\n",
    "        prec_tmp.append(float(i[1,1])/np.sum(i,axis=0)[1])\n",
    "    except ZeroDivisionError:\n",
    "        prec_tmp.append(0)   \n",
    "    prec.append(prec_tmp) \n",
    "    \n",
    "print prec\n",
    "np.mean(prec,axis=0)"
   ]
  },
  {
   "cell_type": "code",
   "execution_count": null,
   "metadata": {
    "collapsed": true
   },
   "outputs": [],
   "source": [
    "rec = []\n",
    "for i in cm_fold:\n",
    "    i = np.array(i)\n",
    "    rec_tmp=[]\n",
    "    try:\n",
    "        rec_tmp.append(float(i[0,0])/np.sum(i,axis=1)[0])\n",
    "    except ZeroDivisionError:\n",
    "        rec_tmp.append(0)\n",
    "    try:\n",
    "        rec_tmp.append(float(i[1,1])/np.sum(i,axis=1)[1])\n",
    "    except ZeroDivisionError:\n",
    "        rec_tmp.append(0) \n",
    "    rec.append(rec_tmp)     \n",
    "    \n",
    "print rec\n",
    "np.mean(rec,axis=0)"
   ]
  },
  {
   "cell_type": "code",
   "execution_count": null,
   "metadata": {
    "collapsed": true
   },
   "outputs": [],
   "source": [
    "F1 = [] #fmeasure\n",
    "for i in range(len(prec)):\n",
    "    tmp = []\n",
    "    try:\n",
    "        varr0 = 2*((prec[i][0]*rec[i][0])/(prec[i][0]+rec[i][0]))\n",
    "        #print varr0\n",
    "        tmp.append(varr0)\n",
    "    except ZeroDivisionError:\n",
    "        tmp.append(0)\n",
    "    try:\n",
    "        varr1 = 2*((prec[i][1]*rec[i][1])/(prec[i][1]+rec[i][1]))\n",
    "        #print varr1\n",
    "        tmp.append(varr1)\n",
    "    except ZeroDivisionError:\n",
    "        tmp.append(0)\n",
    "    F1.append(tmp)\n",
    "    \n",
    "print F1\n",
    "np.mean(F1,axis = 0)"
   ]
  },
  {
   "cell_type": "code",
   "execution_count": null,
   "metadata": {
    "collapsed": true
   },
   "outputs": [],
   "source": [
    "acc = []\n",
    "for i in range(len(cm_fold)):\n",
    "    acc1 = np.trace(cm_fold[i])*1.0/np.sum(cm_fold[i])\n",
    "    acc.append(acc1)\n",
    "print np.mean(acc)"
   ]
  }
 ],
 "metadata": {
  "kernelspec": {
   "display_name": "Python 2",
   "language": "python",
   "name": "python2"
  },
  "language_info": {
   "codemirror_mode": {
    "name": "ipython",
    "version": 2
   },
   "file_extension": ".py",
   "mimetype": "text/x-python",
   "name": "python",
   "nbconvert_exporter": "python",
   "pygments_lexer": "ipython2",
   "version": "2.7.10"
  }
 },
 "nbformat": 4,
 "nbformat_minor": 0
}
