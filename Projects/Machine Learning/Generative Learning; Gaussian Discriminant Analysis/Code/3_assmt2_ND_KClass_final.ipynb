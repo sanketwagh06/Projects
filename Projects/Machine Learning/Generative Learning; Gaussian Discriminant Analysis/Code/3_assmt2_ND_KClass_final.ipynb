{
 "cells": [
  {
   "cell_type": "code",
   "execution_count": 2,
   "metadata": {
    "collapsed": true
   },
   "outputs": [],
   "source": [
    "import matplotlib.pyplot as plt\n",
    "from sklearn import datasets\n",
    "import numpy as np\n",
    "import math\n",
    "from sklearn.cross_validation import KFold"
   ]
  },
  {
   "cell_type": "code",
   "execution_count": 3,
   "metadata": {
    "collapsed": true
   },
   "outputs": [],
   "source": [
    "iris = datasets.load_iris()"
   ]
  },
  {
   "cell_type": "code",
   "execution_count": 4,
   "metadata": {
    "collapsed": true
   },
   "outputs": [],
   "source": [
    "X = iris['data']\n",
    "Y = iris['target']"
   ]
  },
  {
   "cell_type": "code",
   "execution_count": 5,
   "metadata": {
    "collapsed": true
   },
   "outputs": [],
   "source": [
    "X = np.array(X) #Data\n",
    "Y = np.array(Y) #labels"
   ]
  },
  {
   "cell_type": "code",
   "execution_count": 6,
   "metadata": {
    "collapsed": true
   },
   "outputs": [],
   "source": [
    "count = [0,0,0]\n",
    "for i in Y:\n",
    "    if i == 0:\n",
    "        count[0] = count[0]+1\n",
    "    if i == 1:\n",
    "        count[1] = count[1]+1\n",
    "    if i == 2:\n",
    "        count[2] = count[2]+1"
   ]
  },
  {
   "cell_type": "code",
   "execution_count": 7,
   "metadata": {
    "collapsed": false
   },
   "outputs": [
    {
     "name": "stdout",
     "output_type": "stream",
     "text": [
      "[0.3333333333333333, 0.3333333333333333, 0.3333333333333333]\n"
     ]
    }
   ],
   "source": [
    "alpha = [] #no. of examples in a class/in the two classes chosen\n",
    "for i in count:\n",
    "    alpha.append(i * 1.0 / len(Y))\n",
    "\n",
    "print alpha"
   ]
  },
  {
   "cell_type": "code",
   "execution_count": 8,
   "metadata": {
    "collapsed": true
   },
   "outputs": [],
   "source": [
    "class0 = []\n",
    "class1 = []\n",
    "class2 = []\n",
    "\n",
    "for i in range(len(Y)):\n",
    "    if Y[i] == 0:\n",
    "        class0.append(X[i])\n",
    "    elif Y[i]==1:\n",
    "        class1.append(X[i])\n",
    "    elif Y[i]==2:\n",
    "        class2.append(X[i])    \n",
    "        \n",
    "class0 = np.array(class0)\n",
    "class1 = np.array(class1)\n",
    "class2 = np.array(class2)"
   ]
  },
  {
   "cell_type": "code",
   "execution_count": 9,
   "metadata": {
    "collapsed": false
   },
   "outputs": [
    {
     "name": "stdout",
     "output_type": "stream",
     "text": [
      "[ 5.006  3.418  1.464  0.244]\n"
     ]
    }
   ],
   "source": [
    "mean_set1 = np.mean(class0, axis = 0) #along the columns\n",
    "print mean_set1"
   ]
  },
  {
   "cell_type": "code",
   "execution_count": 10,
   "metadata": {
    "collapsed": false
   },
   "outputs": [
    {
     "name": "stdout",
     "output_type": "stream",
     "text": [
      "[ 5.936  2.77   4.26   1.326]\n"
     ]
    }
   ],
   "source": [
    "mean_set2 = np.mean(class1, axis = 0) #along the columns\n",
    "print mean_set2"
   ]
  },
  {
   "cell_type": "code",
   "execution_count": 11,
   "metadata": {
    "collapsed": false
   },
   "outputs": [
    {
     "name": "stdout",
     "output_type": "stream",
     "text": [
      "[ 6.588  2.974  5.552  2.026]\n"
     ]
    }
   ],
   "source": [
    "mean_set3 = np.mean(class2, axis = 0) #along the columns\n",
    "print mean_set3"
   ]
  },
  {
   "cell_type": "code",
   "execution_count": 12,
   "metadata": {
    "collapsed": true
   },
   "outputs": [],
   "source": [
    "tempClass0 = []\n",
    "for i in range(len(class0)):\n",
    "    tempClass0.append(class0[i] - mean_set1)\n",
    "\n",
    "tempClass0 = np.array(tempClass0)"
   ]
  },
  {
   "cell_type": "code",
   "execution_count": 13,
   "metadata": {
    "collapsed": true
   },
   "outputs": [],
   "source": [
    "tempClass1 = []\n",
    "for i in range(len(class1)):\n",
    "    tempClass1.append(class1[i] - mean_set2)\n",
    "    \n",
    "tempClass1 = np.array(tempClass1)"
   ]
  },
  {
   "cell_type": "code",
   "execution_count": 14,
   "metadata": {
    "collapsed": true
   },
   "outputs": [],
   "source": [
    "tempClass2 = []\n",
    "for i in range(len(class2)):\n",
    "    tempClass2.append(class2[i] - mean_set3)\n",
    "    \n",
    "tempClass2 = np.array(tempClass2)"
   ]
  },
  {
   "cell_type": "code",
   "execution_count": 15,
   "metadata": {
    "collapsed": false
   },
   "outputs": [
    {
     "name": "stdout",
     "output_type": "stream",
     "text": [
      "[[ 0.121764  0.098292  0.015816  0.010336]\n",
      " [ 0.098292  0.142276  0.011448  0.011208]\n",
      " [ 0.015816  0.011448  0.029504  0.005584]\n",
      " [ 0.010336  0.011208  0.005584  0.011264]]\n"
     ]
    }
   ],
   "source": [
    "sigma0 = np.dot(tempClass0.transpose(),tempClass0)/(1.0*len(tempClass0))\n",
    "print sigma0"
   ]
  },
  {
   "cell_type": "code",
   "execution_count": 16,
   "metadata": {
    "collapsed": false
   },
   "outputs": [
    {
     "name": "stdout",
     "output_type": "stream",
     "text": [
      "[[ 0.261104  0.08348   0.17924   0.054664]\n",
      " [ 0.08348   0.0965    0.081     0.04038 ]\n",
      " [ 0.17924   0.081     0.2164    0.07164 ]\n",
      " [ 0.054664  0.04038   0.07164   0.038324]]\n"
     ]
    }
   ],
   "source": [
    "sigma1 = np.dot(tempClass1.transpose(),tempClass1)/(1.0*len(tempClass1))\n",
    "print sigma1"
   ]
  },
  {
   "cell_type": "code",
   "execution_count": 17,
   "metadata": {
    "collapsed": false
   },
   "outputs": [
    {
     "name": "stdout",
     "output_type": "stream",
     "text": [
      "[[ 0.396256  0.091888  0.297224  0.048112]\n",
      " [ 0.091888  0.101924  0.069952  0.046676]\n",
      " [ 0.297224  0.069952  0.298496  0.047848]\n",
      " [ 0.048112  0.046676  0.047848  0.073924]]\n"
     ]
    }
   ],
   "source": [
    "sigma2 = np.dot(tempClass2.transpose(),tempClass2)/(1.0*len(tempClass2))\n",
    "print sigma2"
   ]
  },
  {
   "cell_type": "code",
   "execution_count": 18,
   "metadata": {
    "collapsed": true
   },
   "outputs": [],
   "source": [
    "mem1 = []\n",
    "for i in X:\n",
    "    determinant1 = np.linalg.det(sigma0)\n",
    "    var1 = np.dot((i-mean_set1).transpose(),np.linalg.inv(sigma0))\n",
    "    var2 = np.dot(var1,(i-mean_set1))\n",
    "    fin1 = math.log(alpha[0])-(math.log(determinant1))/float(2)- (var2)/float(2)\n",
    "    mem1.append(fin1)"
   ]
  },
  {
   "cell_type": "code",
   "execution_count": 19,
   "metadata": {
    "collapsed": false
   },
   "outputs": [],
   "source": [
    "mem2 = []\n",
    "for i in X:\n",
    "    determinant2 = np.linalg.det(sigma1)\n",
    "    var3 = np.dot((i-mean_set2).transpose(),np.linalg.inv(sigma1))\n",
    "    var4 = np.dot(var3,(i-mean_set2))\n",
    "    fin2 = math.log(alpha[1])-(math.log(determinant2))/float(2)- (var4)/float(2)\n",
    "    mem2.append(fin2)"
   ]
  },
  {
   "cell_type": "code",
   "execution_count": 20,
   "metadata": {
    "collapsed": true
   },
   "outputs": [],
   "source": [
    "mem3 = []\n",
    "for i in X:\n",
    "    determinant3 = np.linalg.det(sigma2)\n",
    "    var5 = np.dot((i-mean_set3).transpose(),np.linalg.inv(sigma2))\n",
    "    var6 = np.dot(var5,(i-mean_set3))\n",
    "    fin3 = math.log(alpha[2])-(math.log(determinant3))/float(2)- (var6)/float(2)\n",
    "    mem3.append(fin3)"
   ]
  },
  {
   "cell_type": "code",
   "execution_count": 21,
   "metadata": {
    "collapsed": true
   },
   "outputs": [],
   "source": [
    "predict =[]\n",
    "for i,j,k in zip(mem1,mem2,mem3):\n",
    "    #print i,j\n",
    "    if i>j and i>k:\n",
    "        predict.append(0)\n",
    "    elif j>i and j>k:\n",
    "        predict.append(1)\n",
    "    else: predict.append(2)"
   ]
  },
  {
   "cell_type": "code",
   "execution_count": 22,
   "metadata": {
    "collapsed": true
   },
   "outputs": [],
   "source": [
    "clabels = [0,1,2]\n",
    "cm= []\n",
    "for i in clabels:\n",
    "    tmp =[0]*len(clabels)\n",
    "    for j in range(len(Y)):\n",
    "        #print j\n",
    "        if Y[j] == i and Y[j] == predict[j]:\n",
    "            tmp[clabels.index(i)] += 1\n",
    "        elif Y[j] == i and Y[j] != predict[j]:\n",
    "            tmp[clabels.index(predict[j])] += 1\n",
    "    cm.append(tmp)"
   ]
  },
  {
   "cell_type": "code",
   "execution_count": 23,
   "metadata": {
    "collapsed": true
   },
   "outputs": [],
   "source": [
    "cm = np.matrix(cm)"
   ]
  },
  {
   "cell_type": "code",
   "execution_count": 24,
   "metadata": {
    "collapsed": false
   },
   "outputs": [
    {
     "name": "stdout",
     "output_type": "stream",
     "text": [
      "0.98\n"
     ]
    }
   ],
   "source": [
    "accuracy = np.trace(cm)*1.0/np.sum(cm)\n",
    "print accuracy"
   ]
  },
  {
   "cell_type": "code",
   "execution_count": 25,
   "metadata": {
    "collapsed": false
   },
   "outputs": [
    {
     "name": "stdout",
     "output_type": "stream",
     "text": [
      "1.0\n"
     ]
    }
   ],
   "source": [
    "precision1 = float(cm[0,0])/np.sum(cm[:,0])\n",
    "print precision1"
   ]
  },
  {
   "cell_type": "code",
   "execution_count": 26,
   "metadata": {
    "collapsed": false
   },
   "outputs": [
    {
     "name": "stdout",
     "output_type": "stream",
     "text": [
      "0.979591836735\n"
     ]
    }
   ],
   "source": [
    "precision2 = float(cm[1,1])/(np.sum(cm[:,1]))\n",
    "print precision2"
   ]
  },
  {
   "cell_type": "code",
   "execution_count": 27,
   "metadata": {
    "collapsed": false
   },
   "outputs": [
    {
     "name": "stdout",
     "output_type": "stream",
     "text": [
      "0.960784313725\n"
     ]
    }
   ],
   "source": [
    "precision3 = float(cm[2,2])/(np.sum(cm[:,2]))\n",
    "print precision3"
   ]
  },
  {
   "cell_type": "code",
   "execution_count": 28,
   "metadata": {
    "collapsed": false
   },
   "outputs": [
    {
     "name": "stdout",
     "output_type": "stream",
     "text": [
      "[[ 1.]]\n"
     ]
    }
   ],
   "source": [
    "recall1 = float(cm[0,0])/np.sum(cm,axis=1)[0]\n",
    "print recall1"
   ]
  },
  {
   "cell_type": "code",
   "execution_count": 29,
   "metadata": {
    "collapsed": false
   },
   "outputs": [
    {
     "name": "stdout",
     "output_type": "stream",
     "text": [
      "[[ 0.96]]\n"
     ]
    }
   ],
   "source": [
    "recall2 = float(cm[1,1])/np.sum(cm,axis=1)[1]\n",
    "print recall2"
   ]
  },
  {
   "cell_type": "code",
   "execution_count": 30,
   "metadata": {
    "collapsed": false
   },
   "outputs": [
    {
     "name": "stdout",
     "output_type": "stream",
     "text": [
      "[[ 0.98]]\n"
     ]
    }
   ],
   "source": [
    "recall3 = float(cm[2,2])/np.sum(cm,axis=1)[2]\n",
    "print recall3"
   ]
  },
  {
   "cell_type": "code",
   "execution_count": 31,
   "metadata": {
    "collapsed": true
   },
   "outputs": [],
   "source": [
    "fmeasure1 = 2*((precision1 * recall1)/(precision1 + recall1))"
   ]
  },
  {
   "cell_type": "code",
   "execution_count": 32,
   "metadata": {
    "collapsed": true
   },
   "outputs": [],
   "source": [
    "fmeasure2 = 2*((precision2 * recall2)/(precision2 + recall2))"
   ]
  },
  {
   "cell_type": "code",
   "execution_count": 33,
   "metadata": {
    "collapsed": true
   },
   "outputs": [],
   "source": [
    "fmeasure3 = 2*((precision3 * recall3)/(precision3 + recall3))"
   ]
  },
  {
   "cell_type": "code",
   "execution_count": 34,
   "metadata": {
    "collapsed": false
   },
   "outputs": [
    {
     "name": "stdout",
     "output_type": "stream",
     "text": [
      "[[ 1.]]\n",
      "[[ 0.96969697]]\n",
      "[[ 0.97029703]]\n"
     ]
    }
   ],
   "source": [
    "print fmeasure1\n",
    "print fmeasure2\n",
    "print fmeasure3"
   ]
  },
  {
   "cell_type": "code",
   "execution_count": 35,
   "metadata": {
    "collapsed": false
   },
   "outputs": [],
   "source": [
    "kf = KFold(len(Y), n_folds=10, shuffle = True)\n",
    "cm_fold = []"
   ]
  },
  {
   "cell_type": "code",
   "execution_count": 36,
   "metadata": {
    "collapsed": false
   },
   "outputs": [],
   "source": [
    "for train_index, test_index in kf:\n",
    "    X_train, X_test = X[train_index], X[test_index]\n",
    "    Y_train, Y_test = Y[train_index], Y[test_index]\n",
    "    \n",
    "    count_tr = [0,0,0]\n",
    "    for i in Y_train:\n",
    "        if i == 0:\n",
    "            count_tr[0] = count_tr[0]+1\n",
    "        if i == 1:\n",
    "            count_tr[1] = count_tr[1]+1\n",
    "        if i == 2:\n",
    "            count_tr[2] = count_tr[2]+1\n",
    "            \n",
    "    alpha_tr = [] \n",
    "    for i in count_tr:\n",
    "        alpha_tr.append(i * 1.0 / len(Y_train))\n",
    "\n",
    "    class_tr0 = []\n",
    "    class_tr1 = []\n",
    "    class_tr2 = []\n",
    "    for i in range(len(Y_train)):\n",
    "        if Y_train[i] == 0:\n",
    "            class_tr0.append(X_train[i])\n",
    "        elif Y_train[i]==1:\n",
    "            class_tr1.append(X_train[i])\n",
    "        elif Y_train[i]==2:\n",
    "            class_tr2.append(X_train[i])\n",
    "\n",
    "    class_tr0 = np.array(class_tr0)\n",
    "    class_tr1 = np.array(class_tr1)\n",
    "    class_tr2 = np.array(class_tr2)\n",
    "    \n",
    "    mean_set_tr0 = np.mean(class_tr0, axis = 0)\n",
    "    mean_set_tr1 = np.mean(class_tr1, axis = 0)\n",
    "    mean_set_tr2 = np.mean(class_tr2, axis = 0)\n",
    "    \n",
    "    tempClass_tr0 = []\n",
    "    for i in range(len(class_tr0)):\n",
    "        tempClass_tr0.append(class_tr0[i] - mean_set_tr0)\n",
    "    tempClass_tr1 = []\n",
    "    for i in range(len(class_tr1)):\n",
    "        tempClass_tr1.append(class_tr1[i] - mean_set_tr1)\n",
    "    tempClass_tr2 = []\n",
    "    for i in range(len(class_tr2)):\n",
    "        tempClass_tr2.append(class_tr2[i] - mean_set_tr2)\n",
    "    \n",
    "    tempClass_tr0 = np.array(tempClass_tr0)\n",
    "    tempClass_tr1 = np.array(tempClass_tr1)\n",
    "    tempClass_tr2 = np.array(tempClass_tr2)\n",
    "    \n",
    "    sigma_tr0 = np.dot(tempClass_tr0.transpose(),tempClass_tr0)/(1.0*len(tempClass_tr0))\n",
    "    sigma_tr1 = np.dot(tempClass_tr1.transpose(),tempClass_tr1)/(1.0*len(tempClass_tr1))\n",
    "    sigma_tr2 = np.dot(tempClass_tr2.transpose(),tempClass_tr2)/(1.0*len(tempClass_tr2))\n",
    "    \n",
    "    mem1_tr = []\n",
    "    for i in X_test:\n",
    "        determinant1_tr = np.linalg.det(sigma_tr0)\n",
    "        var1_tr = np.dot((i-mean_set_tr0).transpose(),np.linalg.pinv(sigma_tr0))\n",
    "        var2_tr = np.dot(var1_tr,i-mean_set_tr0)\n",
    "        #print \"alpha\", alpha_tr[0]\n",
    "        #print \"determinant1_tr\", determinant1_tr\n",
    "        fin1_tr = math.log(alpha_tr[0])-(math.log(determinant1_tr))/float(2)- (abs(var2_tr))/float(2)\n",
    "        mem1_tr.append(fin1_tr)\n",
    "\n",
    "    mem2_tr = []\n",
    "    for i in X_test:\n",
    "        determinant2_tr = np.linalg.det(sigma_tr1)\n",
    "        var3_tr = np.dot((i-mean_set_tr1).transpose(),np.linalg.inv(sigma_tr1))\n",
    "        var4_tr = np.dot(var3_tr,(i-mean_set_tr1))\n",
    "        fin2_tr = math.log(alpha_tr[1])-(math.log(determinant2_tr)/float(2))- (var4_tr)/float(2)\n",
    "        mem2_tr.append(fin2_tr)\n",
    "        \n",
    "    mem3_tr = []\n",
    "    for i in X_test:\n",
    "        determinant3_tr = np.linalg.det(sigma_tr2)\n",
    "        var5_tr = np.dot((i-mean_set_tr2).transpose(),np.linalg.inv(sigma_tr2))\n",
    "        var6_tr = np.dot(var5,(i-mean_set_tr2))\n",
    "        fin3_tr = math.log(alpha_tr[2])-(math.log(determinant3_tr))/float(2)- (var6_tr)/float(2)\n",
    "        mem3_tr.append(fin3_tr)\n",
    "        \n",
    "    clabels = [0,1,2]   \n",
    "    predict_tr =[]\n",
    "    for i,j,k in zip(mem1_tr,mem2_tr,mem3_tr):\n",
    "        #print i,j\n",
    "        #xx = max(i,j,k)\n",
    "        #predict_tr.append([i,j,k].index(xx))\n",
    "        if i>j and i>k:\n",
    "            predict_tr.append(0)\n",
    "        elif j>i and j>k:\n",
    "            predict_tr.append(1)\n",
    "        else:  predict_tr.append(2)\n",
    "    #for i,j,k in zip(mem1_tr,mem2_tr,mem3_tr):\n",
    "    #    print [i,j,k].index(max(i,j,k))\n",
    "    \n",
    "    cm1= []\n",
    "    for i in clabels:\n",
    "        tmp =[0]*len(clabels)\n",
    "        for j in range(len(Y_test)):\n",
    "            #print j\n",
    "            if Y_test[j] == i and Y_test[j] == predict_tr[j]:\n",
    "                tmp[clabels.index(i)] += 1\n",
    "            elif Y_test[j] == i and Y_test[j] != predict_tr[j]:\n",
    "                tmp[clabels.index(predict_tr[j])] += 1\n",
    "        cm1.append(tmp)\n",
    "    cm_fold.append(cm1)"
   ]
  },
  {
   "cell_type": "code",
   "execution_count": 37,
   "metadata": {
    "collapsed": false
   },
   "outputs": [],
   "source": [
    "cm_fold = np.array(cm_fold)"
   ]
  },
  {
   "cell_type": "code",
   "execution_count": 38,
   "metadata": {
    "collapsed": false
   },
   "outputs": [
    {
     "name": "stdout",
     "output_type": "stream",
     "text": [
      "[[[4 0 0]\n",
      "  [0 4 3]\n",
      "  [0 0 4]]\n",
      "\n",
      " [[6 0 1]\n",
      "  [0 2 4]\n",
      "  [0 0 2]]\n",
      "\n",
      " [[5 0 0]\n",
      "  [0 5 2]\n",
      "  [0 0 3]]\n",
      "\n",
      " [[2 0 0]\n",
      "  [0 5 1]\n",
      "  [0 0 7]]\n",
      "\n",
      " [[3 0 0]\n",
      "  [0 6 2]\n",
      "  [0 0 4]]\n",
      "\n",
      " [[6 0 0]\n",
      "  [0 0 3]\n",
      "  [0 0 6]]\n",
      "\n",
      " [[4 0 0]\n",
      "  [0 2 1]\n",
      "  [0 0 8]]\n",
      "\n",
      " [[6 0 2]\n",
      "  [0 2 2]\n",
      "  [0 0 3]]\n",
      "\n",
      " [[5 0 0]\n",
      "  [0 1 2]\n",
      "  [0 0 7]]\n",
      "\n",
      " [[5 0 1]\n",
      "  [0 1 2]\n",
      "  [0 0 6]]]\n"
     ]
    }
   ],
   "source": [
    "print cm_fold # 30 confusion matrices for 3 classes."
   ]
  },
  {
   "cell_type": "code",
   "execution_count": 39,
   "metadata": {
    "collapsed": false
   },
   "outputs": [],
   "source": [
    "prec = []\n",
    "for i in cm_fold:\n",
    "    i = np.array(i)\n",
    "    prec_tmp=[]\n",
    "    try:\n",
    "        prec_tmp.append(float(i[0,0])/np.sum(i,axis=0)[0])\n",
    "    except ZeroDivisionError:\n",
    "        prec_tmp.append(0)\n",
    "    try:\n",
    "        prec_tmp.append(float(i[1,1])/np.sum(i,axis=0)[1])\n",
    "    except ZeroDivisionError:\n",
    "        prec_tmp.append(0)\n",
    "    try:\n",
    "        prec_tmp.append(float(i[2,2])/np.sum(i,axis=0)[2])\n",
    "    except ZeroDivisionError:\n",
    "        prec_tmp.append(0)    \n",
    "    prec.append(prec_tmp)            "
   ]
  },
  {
   "cell_type": "code",
   "execution_count": 40,
   "metadata": {
    "collapsed": false
   },
   "outputs": [
    {
     "name": "stdout",
     "output_type": "stream",
     "text": [
      "[[1.0, 1.0, 0.5714285714285714], [1.0, 1.0, 0.2857142857142857], [1.0, 1.0, 0.6], [1.0, 1.0, 0.875], [1.0, 1.0, 0.6666666666666666], [1.0, 0, 0.6666666666666666], [1.0, 1.0, 0.8888888888888888], [1.0, 1.0, 0.42857142857142855], [1.0, 1.0, 0.7777777777777778], [1.0, 1.0, 0.6666666666666666]]\n"
     ]
    },
    {
     "data": {
      "text/plain": [
       "array([ 1.       ,  0.9      ,  0.6427381])"
      ]
     },
     "execution_count": 40,
     "metadata": {},
     "output_type": "execute_result"
    }
   ],
   "source": [
    "print prec\n",
    "np.mean(prec,axis=0)"
   ]
  },
  {
   "cell_type": "code",
   "execution_count": 41,
   "metadata": {
    "collapsed": true
   },
   "outputs": [],
   "source": [
    "rec = []\n",
    "for i in cm_fold:\n",
    "    i = np.array(i)\n",
    "    rec_tmp=[]\n",
    "    try:\n",
    "        rec_tmp.append(float(i[0,0])/np.sum(i,axis=1)[0])\n",
    "    except ZeroDivisionError:\n",
    "        rec_tmp.append(0)\n",
    "    try:\n",
    "        rec_tmp.append(float(i[1,1])/np.sum(i,axis=1)[1])\n",
    "    except ZeroDivisionError:\n",
    "        rec_tmp.append(0)\n",
    "    try:\n",
    "        rec_tmp.append(float(i[2,2])/np.sum(i,axis=1)[2])\n",
    "    except ZeroDivisionError:\n",
    "        rec_tmp.append(0)    \n",
    "    rec.append(rec_tmp)     "
   ]
  },
  {
   "cell_type": "code",
   "execution_count": 42,
   "metadata": {
    "collapsed": false
   },
   "outputs": [
    {
     "name": "stdout",
     "output_type": "stream",
     "text": [
      "[[1.0, 0.5714285714285714, 1.0], [0.8571428571428571, 0.3333333333333333, 1.0], [1.0, 0.7142857142857143, 1.0], [1.0, 0.8333333333333334, 1.0], [1.0, 0.75, 1.0], [1.0, 0.0, 1.0], [1.0, 0.6666666666666666, 1.0], [0.75, 0.5, 1.0], [1.0, 0.3333333333333333, 1.0], [0.8333333333333334, 0.3333333333333333, 1.0]]\n"
     ]
    },
    {
     "data": {
      "text/plain": [
       "array([ 0.94404762,  0.50357143,  1.        ])"
      ]
     },
     "execution_count": 42,
     "metadata": {},
     "output_type": "execute_result"
    }
   ],
   "source": [
    "print rec\n",
    "np.mean(rec,axis =0)"
   ]
  },
  {
   "cell_type": "code",
   "execution_count": 44,
   "metadata": {
    "collapsed": false
   },
   "outputs": [],
   "source": [
    "F1 = []\n",
    "for i in range(len(prec)):\n",
    "    tmp = []\n",
    "    try:\n",
    "        varr0 = 2*(prec[i][0]*rec[i][0]/prec[i][0]+rec[i][0])\n",
    "        tmp.append(varr0)\n",
    "    except ZeroDivisionError:\n",
    "        tmp.append(0)\n",
    "    try:\n",
    "        varr1 = 2*(prec[i][1]*rec[i][1]/prec[i][1]+rec[i][1])\n",
    "        tmp.append(varr1)\n",
    "    except ZeroDivisionError:\n",
    "        tmp.append(0)\n",
    "    try:\n",
    "        varr2 = 2*(prec[i][2]*rec[i][2]/prec[i][2]+rec[i][2])\n",
    "        tmp.append(varr2)\n",
    "    except ZeroDivisionError:\n",
    "        tmp.append(0)\n",
    "    F1.append(tmp)"
   ]
  },
  {
   "cell_type": "code",
   "execution_count": 45,
   "metadata": {
    "collapsed": false
   },
   "outputs": [
    {
     "name": "stdout",
     "output_type": "stream",
     "text": [
      "[[4.0, 2.2857142857142856, 4.0], [3.4285714285714284, 1.3333333333333333, 4.0], [4.0, 2.857142857142857, 4.0], [4.0, 3.3333333333333335, 4.0], [4.0, 3.0, 4.0], [4.0, 0, 4.0], [4.0, 2.6666666666666665, 4.0], [3.0, 2.0, 4.0], [4.0, 1.3333333333333333, 4.0], [3.3333333333333335, 1.3333333333333333, 4.0]]\n"
     ]
    },
    {
     "data": {
      "text/plain": [
       "array([ 3.77619048,  2.01428571,  4.        ])"
      ]
     },
     "execution_count": 45,
     "metadata": {},
     "output_type": "execute_result"
    }
   ],
   "source": [
    "print F1\n",
    "np.mean(F1,axis = 0)"
   ]
  },
  {
   "cell_type": "code",
   "execution_count": 140,
   "metadata": {
    "collapsed": false
   },
   "outputs": [
    {
     "name": "stdout",
     "output_type": "stream",
     "text": [
      "0.5\n",
      "0.555555555556\n",
      "0.75\n",
      "0.857142857143\n",
      "0.833333333333\n",
      "0.428571428571\n",
      "0.6\n",
      "0.777777777778\n",
      "0.777777777778\n",
      "0.5\n",
      "0.5\n",
      "0.555555555556\n",
      "0.75\n",
      "0.857142857143\n",
      "0.833333333333\n",
      "0.428571428571\n",
      "0.6\n",
      "0.777777777778\n",
      "0.777777777778\n",
      "0.5\n",
      "0.5\n",
      "0.555555555556\n",
      "0.75\n",
      "0.857142857143\n",
      "0.833333333333\n",
      "0.428571428571\n",
      "0.6\n",
      "0.777777777778\n",
      "0.777777777778\n",
      "0.5\n"
     ]
    }
   ],
   "source": [
    "accuracy = np.trace(cm)*1.0/np.sum(cm)\n",
    "print accuracy"
   ]
  },
  {
   "cell_type": "code",
   "execution_count": 58,
   "metadata": {
    "collapsed": false
   },
   "outputs": [
    {
     "name": "stdout",
     "output_type": "stream",
     "text": [
      "0.826666666667\n"
     ]
    }
   ],
   "source": [
    "acc = []\n",
    "for i in range(len(cm_fold)):\n",
    "    acc1 = np.trace(cm_fold[i])*1.0/np.sum(cm_fold[i])\n",
    "    acc.append(acc1)\n",
    "print np.mean(acc)"
   ]
  },
  {
   "cell_type": "code",
   "execution_count": null,
   "metadata": {
    "collapsed": true
   },
   "outputs": [],
   "source": []
  }
 ],
 "metadata": {
  "kernelspec": {
   "display_name": "Python 2",
   "language": "python",
   "name": "python2"
  },
  "language_info": {
   "codemirror_mode": {
    "name": "ipython",
    "version": 2
   },
   "file_extension": ".py",
   "mimetype": "text/x-python",
   "name": "python",
   "nbconvert_exporter": "python",
   "pygments_lexer": "ipython2",
   "version": "2.7.10"
  }
 },
 "nbformat": 4,
 "nbformat_minor": 0
}
