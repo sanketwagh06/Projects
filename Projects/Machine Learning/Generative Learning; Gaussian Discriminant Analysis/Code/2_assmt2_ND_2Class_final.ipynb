{
 "cells": [
  {
   "cell_type": "code",
   "execution_count": 57,
   "metadata": {
    "collapsed": true
   },
   "outputs": [],
   "source": [
    "import matplotlib.pyplot as plt\n",
    "from sklearn import datasets\n",
    "import numpy as np\n",
    "import math\n",
    "from sklearn.cross_validation import KFold\n",
    "%matplotlib inline"
   ]
  },
  {
   "cell_type": "code",
   "execution_count": 58,
   "metadata": {
    "collapsed": true
   },
   "outputs": [],
   "source": [
    "iris = datasets.load_iris()"
   ]
  },
  {
   "cell_type": "code",
   "execution_count": 59,
   "metadata": {
    "collapsed": true
   },
   "outputs": [],
   "source": [
    "y = iris['target']\n",
    "Y = y[:100] #two classes\n",
    "x = iris['data']\n",
    "X = x[:100]"
   ]
  },
  {
   "cell_type": "code",
   "execution_count": 60,
   "metadata": {
    "collapsed": true
   },
   "outputs": [],
   "source": [
    "X = np.array(X) #Data\n",
    "Y = np.array(Y) #labels"
   ]
  },
  {
   "cell_type": "code",
   "execution_count": 61,
   "metadata": {
    "collapsed": true
   },
   "outputs": [],
   "source": [
    "count = [0,0]\n",
    "for i in Y:\n",
    "    if i == 0:\n",
    "        count[0] = count[0]+1\n",
    "    if i == 1:\n",
    "        count[1] = count[1]+1"
   ]
  },
  {
   "cell_type": "code",
   "execution_count": 62,
   "metadata": {
    "collapsed": true
   },
   "outputs": [],
   "source": [
    "alpha = [] #no. of examples in a class/in the two classes chosen\n",
    "for i in count:\n",
    "    alpha.append(i * 1.0 / len(Y))"
   ]
  },
  {
   "cell_type": "code",
   "execution_count": 63,
   "metadata": {
    "collapsed": false
   },
   "outputs": [
    {
     "name": "stdout",
     "output_type": "stream",
     "text": [
      "[0.5, 0.5]\n"
     ]
    }
   ],
   "source": [
    "print alpha"
   ]
  },
  {
   "cell_type": "code",
   "execution_count": 64,
   "metadata": {
    "collapsed": true
   },
   "outputs": [],
   "source": [
    "#We must segregate the data based on the classes.\n",
    "class0 = []\n",
    "class1 = []\n",
    "\n",
    "for i in range(len(Y)):\n",
    "    if Y[i] == 0:\n",
    "        class0.append(X[i])\n",
    "    elif Y[i]==1:\n",
    "        class1.append(X[i])\n",
    "        \n",
    "#Data segregation complete.\n",
    "class0 = np.array(class0)\n",
    "class1 = np.array(class1)"
   ]
  },
  {
   "cell_type": "code",
   "execution_count": 65,
   "metadata": {
    "collapsed": false
   },
   "outputs": [
    {
     "name": "stdout",
     "output_type": "stream",
     "text": [
      "[ 5.006  3.418  1.464  0.244]\n"
     ]
    }
   ],
   "source": [
    "mean_set1 = np.mean(class0, axis = 0) #along the columns\n",
    "print mean_set1"
   ]
  },
  {
   "cell_type": "code",
   "execution_count": 66,
   "metadata": {
    "collapsed": false
   },
   "outputs": [
    {
     "name": "stdout",
     "output_type": "stream",
     "text": [
      "[ 5.936  2.77   4.26   1.326]\n"
     ]
    }
   ],
   "source": [
    "mean_set2 = np.mean(class1, axis = 0) #along the columns\n",
    "print mean_set2"
   ]
  },
  {
   "cell_type": "code",
   "execution_count": 67,
   "metadata": {
    "collapsed": true
   },
   "outputs": [],
   "source": [
    "tempClass0 = []\n",
    "for i in range(len(class0)):\n",
    "    tempClass0.append(class0[i] - mean_set1)"
   ]
  },
  {
   "cell_type": "code",
   "execution_count": 68,
   "metadata": {
    "collapsed": true
   },
   "outputs": [],
   "source": [
    "tempClass1 = []\n",
    "for i in range(len(class1)):\n",
    "    tempClass1.append(class1[i] - mean_set2)"
   ]
  },
  {
   "cell_type": "code",
   "execution_count": 69,
   "metadata": {
    "collapsed": true
   },
   "outputs": [],
   "source": [
    "tempClass0 = np.array(tempClass0)\n",
    "tempClass1 = np.array(tempClass1)"
   ]
  },
  {
   "cell_type": "code",
   "execution_count": 70,
   "metadata": {
    "collapsed": false
   },
   "outputs": [
    {
     "name": "stdout",
     "output_type": "stream",
     "text": [
      "[[ 0.121764  0.098292  0.015816  0.010336]\n",
      " [ 0.098292  0.142276  0.011448  0.011208]\n",
      " [ 0.015816  0.011448  0.029504  0.005584]\n",
      " [ 0.010336  0.011208  0.005584  0.011264]]\n"
     ]
    }
   ],
   "source": [
    "sigma0 = np.dot(tempClass0.transpose(),tempClass0)/(1.0*len(tempClass0))\n",
    "print sigma0"
   ]
  },
  {
   "cell_type": "code",
   "execution_count": 71,
   "metadata": {
    "collapsed": false
   },
   "outputs": [
    {
     "name": "stdout",
     "output_type": "stream",
     "text": [
      "[[ 0.261104  0.08348   0.17924   0.054664]\n",
      " [ 0.08348   0.0965    0.081     0.04038 ]\n",
      " [ 0.17924   0.081     0.2164    0.07164 ]\n",
      " [ 0.054664  0.04038   0.07164   0.038324]]\n"
     ]
    }
   ],
   "source": [
    "sigma1 = np.dot(tempClass1.transpose(), tempClass1)/(1.0*len(tempClass1))\n",
    "print sigma1"
   ]
  },
  {
   "cell_type": "code",
   "execution_count": 72,
   "metadata": {
    "collapsed": true
   },
   "outputs": [],
   "source": [
    "#Membership function for covariance matrix 1. (sigma1)\n",
    "mem1 = []\n",
    "for i in X:\n",
    "    determinant1 = np.linalg.det(sigma0)\n",
    "    var1 = np.dot((i-mean_set1).transpose(),np.linalg.inv(sigma0))\n",
    "    var2 = np.dot(var1,(i-mean_set1))\n",
    "    fin1 = math.log(alpha[0])-(math.log(determinant1))/float(2)- (var2)/float(2)\n",
    "    mem1.append(fin1)\n",
    "\n",
    "mem2 = []\n",
    "for i in X:\n",
    "    determinant2 = np.linalg.det(sigma1)\n",
    "    var3 = np.dot((i-mean_set2).transpose(),np.linalg.inv(sigma1))\n",
    "    var4 = np.dot(var3,(i-mean_set2))\n",
    "    fin2 = math.log(alpha[1])-(math.log(determinant2))/float(2)- (var4)/float(2)\n",
    "    mem2.append(fin2)"
   ]
  },
  {
   "cell_type": "code",
   "execution_count": 73,
   "metadata": {
    "collapsed": true
   },
   "outputs": [],
   "source": [
    "predict =[]\n",
    "for i,j in zip(mem1,mem2):\n",
    "    #print i,j\n",
    "    if i>j:\n",
    "        predict.append(0)\n",
    "    else: predict.append(1)\n",
    "#predict"
   ]
  },
  {
   "cell_type": "code",
   "execution_count": 74,
   "metadata": {
    "collapsed": true
   },
   "outputs": [],
   "source": [
    "kf = KFold(len(Y), n_folds=10, shuffle = True)\n",
    "cm_fold = []"
   ]
  },
  {
   "cell_type": "code",
   "execution_count": 75,
   "metadata": {
    "collapsed": false
   },
   "outputs": [],
   "source": [
    "for train_index, test_index in kf:\n",
    "    X_train, X_test = X[train_index], X[test_index]\n",
    "    Y_train, Y_test = Y[train_index], Y[test_index]\n",
    "    \n",
    "    count_tr = [0,0]\n",
    "    for i in Y_train:\n",
    "        if i == 0:\n",
    "            count_tr[0] = count_tr[0]+1\n",
    "        if i == 1:\n",
    "            count_tr[1] = count_tr[1]+1\n",
    "    \n",
    "    alpha_tr = [] \n",
    "    for i in count_tr:\n",
    "        alpha_tr.append(i * 1.0 / len(Y_train))\n",
    "    \n",
    "    class_tr0 = []\n",
    "    class_tr1 = []\n",
    "    for i in range(len(Y_train)):\n",
    "        if Y_train[i] == 0:\n",
    "            class_tr0.append(X_train[i])\n",
    "        elif Y_train[i]==1:\n",
    "            class_tr1.append(X_train[i])\n",
    "    class_tr0 = np.array(class_tr0)\n",
    "    class_tr1 = np.array(class_tr1)\n",
    "    \n",
    "    mean_set_tr0 = np.mean(class_tr0, axis = 0)\n",
    "    mean_set_tr1 = np.mean(class_tr0, axis = 0)\n",
    "    \n",
    "    tempClass_tr0 = []\n",
    "    for i in range(len(class_tr0)):\n",
    "        tempClass_tr0.append(class_tr0[i] - mean_set_tr0)\n",
    "    tempClass_tr1 = []\n",
    "    for i in range(len(class_tr1)):\n",
    "        tempClass_tr1.append(class_tr1[i] - mean_set_tr1)\n",
    "    \n",
    "    tempClass_tr0 = np.array(tempClass_tr0)\n",
    "    tempClass_tr1 = np.array(tempClass_tr1)\n",
    "    \n",
    "    sigma_tr0 = np.dot(tempClass_tr0.transpose(),tempClass_tr0)/(1.0*len(tempClass_tr0))\n",
    "    sigma_tr1 = np.dot(tempClass_tr1.transpose(),tempClass_tr1)/(1.0*len(tempClass_tr1))\n",
    "    \n",
    "    mem1_tr = []\n",
    "    for i in X_test:\n",
    "        determinant1_tr = np.linalg.det(sigma_tr0)\n",
    "        var1_tr = np.dot((i-mean_set_tr0).transpose(),np.linalg.inv(sigma_tr0))\n",
    "        var2_tr = np.dot(var1_tr,(i-mean_set_tr0))\n",
    "        fin1_tr = math.log(alpha_tr[0])-(math.log(determinant1_tr))/float(2)- (var2_tr)/float(2)\n",
    "        mem1_tr.append(fin1_tr)\n",
    "    \n",
    "    mem2_tr = []\n",
    "    for i in X_test:\n",
    "        determinant2_tr = np.linalg.det(sigma_tr1)\n",
    "        var3_tr = np.dot((i-mean_set_tr1).transpose(),np.linalg.inv(sigma_tr1))\n",
    "        var4_tr = np.dot(var3_tr,(i-mean_set_tr1))\n",
    "        fin2_tr = math.log(alpha_tr[1])-(math.log(determinant2_tr))/float(2)- (var4_tr)/float(2)\n",
    "        mem2_tr.append(fin2_tr)\n",
    "        \n",
    "    predict_tr =[]\n",
    "    for i,j in zip(mem1_tr,mem2_tr):\n",
    "        #print i,j\n",
    "        if i>j:\n",
    "            predict_tr.append(0)\n",
    "        else: predict_tr.append(1)\n",
    "    \n",
    "    clabels = [0,1]\n",
    "    cm_ts= []\n",
    "    for i in clabels:\n",
    "        tmp1 =[0]*len(clabels)\n",
    "        for j in range(len(Y_test)):\n",
    "            #print j\n",
    "            if Y_test[j] == i and Y_test[j] == predict_tr[j]:\n",
    "                tmp1[clabels.index(i)] += 1\n",
    "            elif Y_test[j] == i and Y_test[j] != predict_tr[j]:\n",
    "                tmp1[clabels.index(predict_tr[j])] += 1\n",
    "        cm_ts.append(tmp1)   \n",
    "    cm_fold.append(cm_ts)"
   ]
  },
  {
   "cell_type": "code",
   "execution_count": 76,
   "metadata": {
    "collapsed": false
   },
   "outputs": [
    {
     "name": "stdout",
     "output_type": "stream",
     "text": [
      "[[[6 0]\n",
      "  [0 4]]\n",
      "\n",
      " [[5 1]\n",
      "  [0 4]]\n",
      "\n",
      " [[5 2]\n",
      "  [0 3]]\n",
      "\n",
      " [[2 2]\n",
      "  [0 6]]\n",
      "\n",
      " [[3 0]\n",
      "  [0 7]]\n",
      "\n",
      " [[4 0]\n",
      "  [0 6]]\n",
      "\n",
      " [[5 0]\n",
      "  [0 5]]\n",
      "\n",
      " [[6 0]\n",
      "  [0 4]]\n",
      "\n",
      " [[2 0]\n",
      "  [0 8]]\n",
      "\n",
      " [[7 0]\n",
      "  [0 3]]]\n"
     ]
    }
   ],
   "source": [
    "cm_fold = np.array(cm_fold)\n",
    "print cm_fold"
   ]
  },
  {
   "cell_type": "code",
   "execution_count": 77,
   "metadata": {
    "collapsed": false
   },
   "outputs": [],
   "source": [
    "#cm_ts"
   ]
  },
  {
   "cell_type": "code",
   "execution_count": 78,
   "metadata": {
    "collapsed": true
   },
   "outputs": [],
   "source": [
    "cm= []\n",
    "for i in clabels:\n",
    "    tmp =[0]*len(clabels)\n",
    "    for j in range(len(Y)):\n",
    "        #print j\n",
    "        if Y[j] == i and Y[j] == predict[j]:\n",
    "            tmp[clabels.index(i)] += 1\n",
    "        elif Y[j] == i and Y[j] != predict[j]:\n",
    "            tmp[clabels.index(predict[j])] += 1\n",
    "    cm.append(tmp)"
   ]
  },
  {
   "cell_type": "code",
   "execution_count": 79,
   "metadata": {
    "collapsed": false
   },
   "outputs": [
    {
     "name": "stdout",
     "output_type": "stream",
     "text": [
      "[[50  0]\n",
      " [ 0 50]]\n"
     ]
    }
   ],
   "source": [
    "cm = np.array(cm)\n",
    "print cm"
   ]
  },
  {
   "cell_type": "code",
   "execution_count": 80,
   "metadata": {
    "collapsed": true
   },
   "outputs": [],
   "source": [
    "prec = []\n",
    "for i in cm_fold:\n",
    "    i = np.array(i)\n",
    "    prec_tmp=[]\n",
    "    try:\n",
    "        prec_tmp.append(float(i[0,0])/np.sum(i,axis=0)[0])\n",
    "    except ZeroDivisionError:\n",
    "        prec_tmp.append(0)\n",
    "    try:\n",
    "        prec_tmp.append(float(i[1,1])/np.sum(i,axis=0)[1])\n",
    "    except ZeroDivisionError:\n",
    "        prec_tmp.append(0)   \n",
    "    prec.append(prec_tmp) "
   ]
  },
  {
   "cell_type": "code",
   "execution_count": 81,
   "metadata": {
    "collapsed": false
   },
   "outputs": [
    {
     "name": "stdout",
     "output_type": "stream",
     "text": [
      "[[1.0, 1.0], [1.0, 0.8], [1.0, 0.6], [1.0, 0.75], [1.0, 1.0], [1.0, 1.0], [1.0, 1.0], [1.0, 1.0], [1.0, 1.0], [1.0, 1.0]]\n"
     ]
    },
    {
     "data": {
      "text/plain": [
       "array([ 1.   ,  0.915])"
      ]
     },
     "execution_count": 81,
     "metadata": {},
     "output_type": "execute_result"
    }
   ],
   "source": [
    "print prec\n",
    "np.mean(prec,axis=0)"
   ]
  },
  {
   "cell_type": "code",
   "execution_count": 82,
   "metadata": {
    "collapsed": true
   },
   "outputs": [],
   "source": [
    "rec = []\n",
    "for i in cm_fold:\n",
    "    i = np.array(i)\n",
    "    rec_tmp=[]\n",
    "    try:\n",
    "        rec_tmp.append(float(i[0,0])/np.sum(i,axis=1)[0])\n",
    "    except ZeroDivisionError:\n",
    "        rec_tmp.append(0)\n",
    "    try:\n",
    "        rec_tmp.append(float(i[1,1])/np.sum(i,axis=1)[1])\n",
    "    except ZeroDivisionError:\n",
    "        rec_tmp.append(0) \n",
    "    rec.append(rec_tmp)     "
   ]
  },
  {
   "cell_type": "code",
   "execution_count": 83,
   "metadata": {
    "collapsed": false
   },
   "outputs": [
    {
     "name": "stdout",
     "output_type": "stream",
     "text": [
      "[[1.0, 1.0], [0.8333333333333334, 1.0], [0.7142857142857143, 1.0], [0.5, 1.0], [1.0, 1.0], [1.0, 1.0], [1.0, 1.0], [1.0, 1.0], [1.0, 1.0], [1.0, 1.0]]\n"
     ]
    },
    {
     "data": {
      "text/plain": [
       "array([ 0.9047619,  1.       ])"
      ]
     },
     "execution_count": 83,
     "metadata": {},
     "output_type": "execute_result"
    }
   ],
   "source": [
    "print rec\n",
    "np.mean(rec,axis=0)"
   ]
  },
  {
   "cell_type": "code",
   "execution_count": 84,
   "metadata": {
    "collapsed": false
   },
   "outputs": [],
   "source": [
    "F1 = [] #fmeasure\n",
    "for i in range(len(prec)):\n",
    "    tmp = []\n",
    "    try:\n",
    "        varr0 = 2*((prec[i][0]*rec[i][0])/(prec[i][0]+rec[i][0]))\n",
    "        #print varr0\n",
    "        tmp.append(varr0)\n",
    "    except ZeroDivisionError:\n",
    "        tmp.append(0)\n",
    "    try:\n",
    "        varr1 = 2*((prec[i][1]*rec[i][1])/(prec[i][1]+rec[i][1]))\n",
    "        #print varr1\n",
    "        tmp.append(varr1)\n",
    "    except ZeroDivisionError:\n",
    "        tmp.append(0)\n",
    "    F1.append(tmp)"
   ]
  },
  {
   "cell_type": "code",
   "execution_count": 85,
   "metadata": {
    "collapsed": false
   },
   "outputs": [
    {
     "name": "stdout",
     "output_type": "stream",
     "text": [
      "[[1.0, 1.0], [0.9090909090909091, 0.888888888888889], [0.8333333333333333, 0.7499999999999999], [0.6666666666666666, 0.8571428571428571], [1.0, 1.0], [1.0, 1.0], [1.0, 1.0], [1.0, 1.0], [1.0, 1.0], [1.0, 1.0]]\n"
     ]
    },
    {
     "data": {
      "text/plain": [
       "array([ 0.94090909,  0.94960317])"
      ]
     },
     "execution_count": 85,
     "metadata": {},
     "output_type": "execute_result"
    }
   ],
   "source": [
    "print F1\n",
    "np.mean(F1,axis = 0)"
   ]
  },
  {
   "cell_type": "code",
   "execution_count": 86,
   "metadata": {
    "collapsed": false
   },
   "outputs": [
    {
     "name": "stdout",
     "output_type": "stream",
     "text": [
      "0.95\n"
     ]
    }
   ],
   "source": [
    "#final accuracy values\n",
    "acc = []\n",
    "for i in range(len(cm_fold)):\n",
    "    acc1 = np.trace(cm_fold[i])*1.0/np.sum(cm_fold[i])\n",
    "    acc.append(acc1)\n",
    "print np.mean(acc)"
   ]
  },
  {
   "cell_type": "code",
   "execution_count": 87,
   "metadata": {
    "collapsed": false
   },
   "outputs": [
    {
     "name": "stdout",
     "output_type": "stream",
     "text": [
      "[[1.0, 1.0], [1.0, 0.8], [1.0, 0.6], [1.0, 0.75], [1.0, 1.0], [1.0, 1.0], [1.0, 1.0], [1.0, 1.0], [1.0, 1.0], [1.0, 1.0]]\n",
      "[[1.0, 1.0], [0.8333333333333334, 1.0], [0.7142857142857143, 1.0], [0.5, 1.0], [1.0, 1.0], [1.0, 1.0], [1.0, 1.0], [1.0, 1.0], [1.0, 1.0], [1.0, 1.0]]\n"
     ]
    }
   ],
   "source": [
    "print prec\n",
    "print rec"
   ]
  },
  {
   "cell_type": "code",
   "execution_count": 88,
   "metadata": {
    "collapsed": false
   },
   "outputs": [
    {
     "name": "stdout",
     "output_type": "stream",
     "text": [
      "[1.0, 1.0, 1.0, 1.0, 1.0, 1.0, 1.0, 1.0, 1.0, 1.0]\n",
      "[ 0.5         0.71428571  0.83333333  1.          1.          1.          1.\n",
      "  1.          1.          1.        ]\n"
     ]
    },
    {
     "data": {
      "image/png": "[encoded data removed]",
      "text/plain": [
       "<matplotlib.figure.Figure at 0x17f9cf98>"
      ]
     },
     "metadata": {},
     "output_type": "display_data"
    }
   ],
   "source": [
    "precClass0 = []\n",
    "for i in prec:\n",
    "     precClass0.append(i[0])\n",
    "print precClass0\n",
    "\n",
    "recClass0 = []\n",
    "for j in rec:\n",
    "    recClass0.append(j[0])\n",
    "print np.sort(recClass0)\n",
    "\n",
    "plt.plot(precClass0, np.sort(recClass0), 'bo-')\n",
    "plt.xlabel(\"Precison\")\n",
    "plt.ylabel(\"Recall\")\n",
    "plt.show()"
   ]
  },
  {
   "cell_type": "code",
   "execution_count": 89,
   "metadata": {
    "collapsed": false
   },
   "outputs": [
    {
     "name": "stdout",
     "output_type": "stream",
     "text": [
      "[1.0, 0.8, 0.6, 0.75, 1.0, 1.0, 1.0, 1.0, 1.0, 1.0]\n",
      "[1.0, 1.0, 1.0, 1.0, 1.0, 1.0, 1.0, 1.0, 1.0, 1.0]\n"
     ]
    },
    {
     "data": {
      "image/png": "[encoded data removed]",
      "text/plain": [
       "<matplotlib.figure.Figure at 0x17b0a4a8>"
      ]
     },
     "metadata": {},
     "output_type": "display_data"
    }
   ],
   "source": [
    "precClass1 = []\n",
    "for i in prec:\n",
    "     precClass1.append(i[1])\n",
    "print precClass1\n",
    "\n",
    "recClass1 = []\n",
    "for j in rec:\n",
    "    recClass1.append(j[1])\n",
    "print recClass1\n",
    "\n",
    "plt.plot(precClass1, recClass1, 'bo-')\n",
    "plt.xlabel(\"Precison\")\n",
    "plt.ylabel(\"Recall\")\n",
    "plt.show()"
   ]
  },
  {
   "cell_type": "code",
   "execution_count": 91,
   "metadata": {
    "collapsed": false
   },
   "outputs": [
    {
     "data": {
      "image/png": "[encoded data removed]",
      "text/plain": [
       "<matplotlib.figure.Figure at 0x15c784a8>"
      ]
     },
     "metadata": {},
     "output_type": "display_data"
    }
   ],
   "source": [
    "plt.plot(np.sort(prec), np.sort(rec), 'bo-')\n",
    "plt.xlabel(\"Precison\")\n",
    "plt.ylabel(\"Recall\")\n",
    "plt.show()"
   ]
  },
  {
   "cell_type": "code",
   "execution_count": 92,
   "metadata": {
    "collapsed": false
   },
   "outputs": [
    {
     "data": {
      "image/png": "[encoded data removed]",
      "text/plain": [
       "<matplotlib.figure.Figure at 0x1654ceb8>"
      ]
     },
     "metadata": {},
     "output_type": "display_data"
    }
   ],
   "source": [
    "plt.plot(np.sort(prec), rec, 'bo-')\n",
    "plt.xlabel(\"Precison\")\n",
    "plt.ylabel(\"Recall\")\n",
    "plt.show()"
   ]
  },
  {
   "cell_type": "code",
   "execution_count": 95,
   "metadata": {
    "collapsed": false
   },
   "outputs": [
    {
     "data": {
      "text/plain": [
       "0.95749999999999991"
      ]
     },
     "execution_count": 95,
     "metadata": {},
     "output_type": "execute_result"
    }
   ],
   "source": [
    "#Area under the curve\n",
    "np.mean(prec)"
   ]
  },
  {
   "cell_type": "code",
   "execution_count": null,
   "metadata": {
    "collapsed": true
   },
   "outputs": [],
   "source": []
  }
 ],
 "metadata": {
  "kernelspec": {
   "display_name": "Python 2",
   "language": "python",
   "name": "python2"
  },
  "language_info": {
   "codemirror_mode": {
    "name": "ipython",
    "version": 2
   },
   "file_extension": ".py",
   "mimetype": "text/x-python",
   "name": "python",
   "nbconvert_exporter": "python",
   "pygments_lexer": "ipython2",
   "version": "2.7.10"
  }
 },
 "nbformat": 4,
 "nbformat_minor": 0
}
