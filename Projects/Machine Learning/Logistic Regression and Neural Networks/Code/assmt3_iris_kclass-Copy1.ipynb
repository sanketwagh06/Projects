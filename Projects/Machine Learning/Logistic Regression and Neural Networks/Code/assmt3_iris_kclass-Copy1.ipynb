{
 "cells": [
  {
   "cell_type": "code",
   "execution_count": 1,
   "metadata": {
    "collapsed": true
   },
   "outputs": [],
   "source": [
    "import matplotlib.pyplot as plt\n",
    "from sklearn import datasets\n",
    "from sklearn.metrics import accuracy_score\n",
    "from sklearn.preprocessing import PolynomialFeatures\n",
    "import numpy as np\n",
    "from math import exp\n",
    "import io\n",
    "from sklearn.cross_validation import train_test_split\n"
   ]
  },
  {
   "cell_type": "code",
   "execution_count": 2,
   "metadata": {
    "collapsed": true
   },
   "outputs": [],
   "source": [
    "filename = \"iris.data.txt\"\n",
    "r = io.open(filename, encoding='utf8').readlines()\n",
    "X = []\n",
    "Y = []\n",
    "for i in r[0:150]:\n",
    "    x = i.split(',')\n",
    "    X.append(map(float,x[0:len(x)-1]))\n",
    "    if x[-1] == \"Iris-setosa\\n\":\n",
    "        Y.append(0)\n",
    "    elif x[-1] == 'Iris-versicolor\\n':\n",
    "        Y.append(1)\n",
    "    elif x[-1] == 'Iris-virginica\\n':\n",
    "        Y.append(2)\n",
    "X = np.array(X)\n",
    "Y = np.array(Y)"
   ]
  },
  {
   "cell_type": "code",
   "execution_count": 3,
   "metadata": {
    "collapsed": false
   },
   "outputs": [],
   "source": [
    "def softmax_fn(x, theta):\n",
    "    y = np.unique(Y)\n",
    "    softmax = []\n",
    "    de = 0\n",
    "    for j in range(len(y)):\n",
    "        de = de + np.exp(np.dot(theta[j].transpose(),x))\n",
    "    for k in range(len(y)):\n",
    "        nu = np.exp(np.dot(theta[k].transpose(),x))\n",
    "        softmax.append(nu/de)\n",
    "    return softmax"
   ]
  },
  {
   "cell_type": "code",
   "execution_count": 4,
   "metadata": {
    "collapsed": false
   },
   "outputs": [
    {
     "name": "stdout",
     "output_type": "stream",
     "text": [
      "[0.33333707821384012, 0.33329809828368967, 0.33336482350247015]\n"
     ]
    }
   ],
   "source": [
    "s = softmax_fn(X[1],np.random.rand(3,4)/10000)\n",
    "print s"
   ]
  },
  {
   "cell_type": "code",
   "execution_count": 5,
   "metadata": {
    "collapsed": true
   },
   "outputs": [],
   "source": [
    "def iid(x):\n",
    "    if x:\n",
    "        return 1\n",
    "    else:\n",
    "        return 0"
   ]
  },
  {
   "cell_type": "code",
   "execution_count": 6,
   "metadata": {
    "collapsed": true
   },
   "outputs": [],
   "source": [
    "def decent(y,x,maxiterations = 800):\n",
    "    eta = 0.001\n",
    "    y1 = np.unique(Y)\n",
    "    k = len(y1)\n",
    "    v = 0\n",
    "    iterations = 0\n",
    "    m,n = np.shape(x)\n",
    "    Theta =  np.random.rand(k,n)/10000\n",
    "    while(iterations<maxiterations):\n",
    "        sumv = [[0]]*len(y1)\n",
    "        for j in range(len(y1)):\n",
    "            for i in range(x.shape[0]):\n",
    "                ii = iid(y[i]==j)\n",
    "                hypo = softmax_fn(x[i],Theta)\n",
    "                for l in range(len(hypo)):\n",
    "                    sumv[l] += ((hypo[l] - ii)*x[i])\n",
    "        for r in range(len(Theta)):\n",
    "            Theta[r] = Theta[r] - (eta * sumv[r])\n",
    "        iterations+=1\n",
    "    return Theta"
   ]
  },
  {
   "cell_type": "code",
   "execution_count": 7,
   "metadata": {
    "collapsed": false,
    "scrolled": false
   },
   "outputs": [],
   "source": [
    "softie = decent(Y,X)"
   ]
  },
  {
   "cell_type": "code",
   "execution_count": 8,
   "metadata": {
    "collapsed": false
   },
   "outputs": [
    {
     "name": "stdout",
     "output_type": "stream",
     "text": [
      "[[  4.93205376e-04   7.20545554e-04  -5.88284026e-04  -3.37878296e-04]\n",
      " [  8.81776465e-01   4.92397238e-01   4.90950770e-01   1.45731607e-01]\n",
      " [ -8.82092558e-01  -4.92973936e-01  -4.90173270e-01  -1.45335675e-01]]\n"
     ]
    }
   ],
   "source": [
    "print softie"
   ]
  },
  {
   "cell_type": "code",
   "execution_count": 9,
   "metadata": {
    "collapsed": false
   },
   "outputs": [],
   "source": [
    "def classify(theta,x):\n",
    "    soft_list =[]\n",
    "    #a = np.unique(Y)\n",
    "    #for i in range(len(a)):\n",
    "    ind = np.argmax(np.array(softmax_fn(x,theta)))\n",
    "    return ind\n",
    "        "
   ]
  },
  {
   "cell_type": "code",
   "execution_count": 10,
   "metadata": {
    "collapsed": false
   },
   "outputs": [
    {
     "name": "stdout",
     "output_type": "stream",
     "text": [
      "1\n"
     ]
    }
   ],
   "source": [
    "cc = classify(np.random.rand(3,4)/10000,X[0])\n",
    "print cc"
   ]
  },
  {
   "cell_type": "code",
   "execution_count": 11,
   "metadata": {
    "collapsed": true
   },
   "outputs": [],
   "source": [
    "def classifyAll(Y,X,X1):\n",
    "    classifier_predict =[]\n",
    "    ntheta = decent(Y,X)\n",
    "    for i in range(0,X1.shape[0]):\n",
    "        ind = classify(ntheta,X1[i])\n",
    "        classifier_predict.append(ind)\n",
    "    return classifier_predict"
   ]
  },
  {
   "cell_type": "code",
   "execution_count": 12,
   "metadata": {
    "collapsed": true
   },
   "outputs": [],
   "source": [
    "def accuracy(cm):\n",
    "    return np.trace(cm)*1.0/np.sum(cm)"
   ]
  },
  {
   "cell_type": "code",
   "execution_count": 13,
   "metadata": {
    "collapsed": true
   },
   "outputs": [],
   "source": [
    "def precision(cm):\n",
    "    prec = []\n",
    "    for i in range(len(cm)):\n",
    "        for j in range(len(cm)):\n",
    "            if i == j:\n",
    "                prec.append(cm[i][j]*1.0/np.sum(cm[i][j],axis=0))\n",
    "    return prec"
   ]
  },
  {
   "cell_type": "code",
   "execution_count": 14,
   "metadata": {
    "collapsed": true
   },
   "outputs": [],
   "source": [
    "def recall(cm):\n",
    "    rec = []\n",
    "    for i in range(len(cm)):\n",
    "        for j in range(len(cm)):\n",
    "            if i == j:\n",
    "                rec.append(cm[i][j]*1.0/np.sum(cm[i][j]))\n",
    "    return rec"
   ]
  },
  {
   "cell_type": "code",
   "execution_count": 15,
   "metadata": {
    "collapsed": true
   },
   "outputs": [],
   "source": [
    "def FM(prec,rec):\n",
    "    f1 = []\n",
    "    for i,j in zip(prec,rec):\n",
    "        f1.append(2.0*(i*j)/(i+j))\n",
    "    return f1"
   ]
  },
  {
   "cell_type": "code",
   "execution_count": 16,
   "metadata": {
    "collapsed": false
   },
   "outputs": [],
   "source": [
    "def confusionmatrix(y,classifier_pred):\n",
    "    clabels = [0,1,2]\n",
    "    cm_fold = []\n",
    "    for i in clabels:\n",
    "        tmp =[0]*len(clabels)\n",
    "        for j in range(len(y)):\n",
    "            #print j\n",
    "            if y[j] == i and y[j] == classifier_pred[j]:\n",
    "                tmp[clabels.index(i)] += 1\n",
    "            elif y[j] == i and y[j] != classifier_pred[j]:\n",
    "                tmp[clabels.index(classifier_pred[j])] += 1\n",
    "        cm_fold.append(tmp)\n",
    "    return cm_fold"
   ]
  },
  {
   "cell_type": "code",
   "execution_count": 17,
   "metadata": {
    "collapsed": false
   },
   "outputs": [
    {
     "name": "stdout",
     "output_type": "stream",
     "text": [
      "[[19, 0, 0], [15, 0, 0], [16, 0, 0]]\n",
      "0.38\n"
     ]
    }
   ],
   "source": [
    "X_train, X_test, y_train, y_test = train_test_split(X, Y, test_size=0.33, random_state=42)\n",
    "\n",
    "labels = classifyAll(y_train,X_train,X_test)\n",
    "\n",
    "#classes = np.unique(Y)\n",
    "cm = confusionmatrix(y_test,labels)\n",
    "\n",
    "acc = accuracy(cm)\n",
    "\n",
    "print cm\n",
    "\n",
    "print acc"
   ]
  },
  {
   "cell_type": "code",
   "execution_count": 20,
   "metadata": {
    "collapsed": false
   },
   "outputs": [
    {
     "name": "stdout",
     "output_type": "stream",
     "text": [
      "[[0, 15, 0], [0, 0, 0], [0, 0, 0]]\n",
      "0.0\n",
      "[[0, 15, 0], [0, 0, 0], [0, 0, 0]]\n",
      "0.0\n",
      "[[15, 0, 0], [0, 0, 0], [0, 0, 0]]\n",
      "1.0\n",
      "[[0, 5, 0], [0, 10, 0], [0, 0, 0]]\n",
      "0.666666666667\n",
      "[[0, 0, 0], [0, 0, 15], [0, 0, 0]]\n",
      "0.0\n",
      "[[0, 0, 0], [0, 0, 15], [0, 0, 0]]\n",
      "0.0\n",
      "[[0, 0, 0], [0, 10, 0], [0, 5, 0]]\n",
      "0.666666666667\n",
      "[[0, 0, 0], [0, 0, 0], [0, 0, 15]]\n",
      "1.0\n",
      "[[0, 0, 0], [0, 0, 0], [0, 15, 0]]\n",
      "0.0\n",
      "[[0, 0, 0], [0, 0, 0], [0, 0, 15]]\n",
      "1.0\n"
     ]
    }
   ],
   "source": [
    "kf = KFold(len(Y), n_folds=10, shuffle = False)\n",
    "for train_index, test_index in kf:\n",
    "    X_train, X_test = X[train_index], X[test_index]\n",
    "    Y_train, Y_test = Y[train_index], Y[test_index]\n",
    "    \n",
    "    labels = classifyAll(Y_train,X_train,X_test)\n",
    "\n",
    "    cm = confusionmatrix(Y_test,labels)\n",
    "\n",
    "\n",
    "    acc = accuracy(cm)\n",
    "    \n",
    "    print cm\n",
    "    print acc"
   ]
  },
  {
   "cell_type": "code",
   "execution_count": null,
   "metadata": {
    "collapsed": true
   },
   "outputs": [],
   "source": []
  }
 ],
 "metadata": {
  "kernelspec": {
   "display_name": "Python 2",
   "language": "python",
   "name": "python2"
  },
  "language_info": {
   "codemirror_mode": {
    "name": "ipython",
    "version": 2
   },
   "file_extension": ".py",
   "mimetype": "text/x-python",
   "name": "python",
   "nbconvert_exporter": "python",
   "pygments_lexer": "ipython2",
   "version": "2.7.10"
  }
 },
 "nbformat": 4,
 "nbformat_minor": 0
}
