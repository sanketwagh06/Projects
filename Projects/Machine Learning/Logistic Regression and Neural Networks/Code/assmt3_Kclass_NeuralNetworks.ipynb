{
 "cells": [
  {
   "cell_type": "code",
   "execution_count": 1,
   "metadata": {
    "collapsed": true
   },
   "outputs": [],
   "source": [
    "import matplotlib.pyplot as plt\n",
    "from sklearn import datasets\n",
    "from sklearn.metrics import accuracy_score\n",
    "from sklearn.preprocessing import PolynomialFeatures\n",
    "import numpy as np\n",
    "from math import exp\n",
    "import io\n",
    "from sklearn.cross_validation import train_test_split\n",
    "from sklearn.cross_validation import KFold"
   ]
  },
  {
   "cell_type": "code",
   "execution_count": 2,
   "metadata": {
    "collapsed": true
   },
   "outputs": [],
   "source": [
    "filename = \"iris.data.txt\"\n",
    "r = io.open(filename, encoding='utf8').readlines()\n",
    "X = []\n",
    "Y = []\n",
    "for i in r[0:150]:\n",
    "    x = i.split(',')\n",
    "    X.append(map(float,x[0:len(x)-1]))\n",
    "    if x[-1] == \"Iris-setosa\\n\":\n",
    "        Y.append(0)\n",
    "    elif x[-1] == 'Iris-versicolor\\n':\n",
    "        Y.append(1)\n",
    "    elif x[-1] == 'Iris-virginica\\n':\n",
    "        Y.append(2)\n",
    "Y = np.array(Y)"
   ]
  },
  {
   "cell_type": "code",
   "execution_count": 3,
   "metadata": {
    "collapsed": false
   },
   "outputs": [],
   "source": [
    "#to determine hidden layer weights we must have no. of features + 1 columumns\n",
    "for i in X:\n",
    "    i.insert(0,1)\n",
    "X = np.array(X)"
   ]
  },
  {
   "cell_type": "code",
   "execution_count": 4,
   "metadata": {
    "collapsed": true
   },
   "outputs": [],
   "source": [
    "def hiddenWeights(h,x):\n",
    "    w = np.random.rand(h,x.shape[1])/100000\n",
    "    return w"
   ]
  },
  {
   "cell_type": "code",
   "execution_count": 5,
   "metadata": {
    "collapsed": false
   },
   "outputs": [],
   "source": [
    "def findZ(w,x):\n",
    "    z = np.ones([len(x),len(w)+1])\n",
    "    for i in range(len(w)):\n",
    "        for j in range(len(x)):\n",
    "            z[j][i+1] = np.dot(w[i].T,x[j])\n",
    "            \n",
    "    return z"
   ]
  },
  {
   "cell_type": "code",
   "execution_count": 6,
   "metadata": {
    "collapsed": true
   },
   "outputs": [],
   "source": [
    "def outputWeights(h,y):\n",
    "    k = len(np.unique(y))\n",
    "    v = np.random.rand(k,h+1)/100000\n",
    "    return v\n",
    "            "
   ]
  },
  {
   "cell_type": "code",
   "execution_count": 7,
   "metadata": {
    "collapsed": false
   },
   "outputs": [],
   "source": [
    "def ycap(v,z):\n",
    "    yc = [[0]*len(v)]*len(z)\n",
    "    for i in range(len(z)):\n",
    "        de = 0\n",
    "        for j in range(len(v)):\n",
    "            de = de + np.exp(np.dot(v[j].T,z[i]))\n",
    "        for k in range(len(v)):\n",
    "            nu = np.exp(np.dot(v[k].T,z[i]))\n",
    "            yc[i][k] = nu/de\n",
    "    return np.array(yc)"
   ]
  },
  {
   "cell_type": "code",
   "execution_count": 8,
   "metadata": {
    "collapsed": true
   },
   "outputs": [],
   "source": [
    "def find_indicator(yy):\n",
    "    k = np.unique(yy)\n",
    "    ind = np.zeros([len(yy),len(k)])\n",
    "    for i in range(len(k)):\n",
    "        for j in range(len(yy)):\n",
    "            if k[i] == yy[j]:\n",
    "                ind[j][i] = 1\n",
    "    return ind\n",
    "            "
   ]
  },
  {
   "cell_type": "code",
   "execution_count": 9,
   "metadata": {
    "collapsed": false
   },
   "outputs": [],
   "source": [
    "def descent(data,y,h,rate,count):\n",
    "    W = hiddenWeights(h,data)\n",
    "    V = outputWeights(h,y)\n",
    "    indy = find_indicator(y)\n",
    "    for i in range(count):\n",
    "        Z = findZ(W,data)\n",
    "        yh = ycap(V,Z)\n",
    "        tmp = yh-indy\n",
    "        for k in range(tmp.shape[1]):\n",
    "            sumz = 0\n",
    "            for j in range(len(Z)):\n",
    "                sumz = sumz + tmp[j][k]*Z[j]\n",
    "            V[k] = V[k] - rate*sumz\n",
    "        for m in range(len(W)):\n",
    "            sumw = 0\n",
    "            for n in range(len(data)):\n",
    "                sumv = 0 \n",
    "                for l in range(tmp.shape[1]):\n",
    "                    sumv = sumv + tmp[n][l]*V[l][m+1]\n",
    "                sumw = sumw + (sumv*Z[n][m+1]*(1-Z[n][m+1])*data[n])\n",
    "            W[m] = W[m] - rate*sumw\n",
    "    return V,W"
   ]
  },
  {
   "cell_type": "code",
   "execution_count": 10,
   "metadata": {
    "collapsed": true
   },
   "outputs": [],
   "source": [
    "def classify(v,w,data):\n",
    "    p = []\n",
    "    zc = findZ(w,data)\n",
    "    yc = ycap(v,zc)\n",
    "    for i in yc:\n",
    "        p.append([np.argmax(i)])\n",
    "    return np.array(p)"
   ]
  },
  {
   "cell_type": "code",
   "execution_count": 11,
   "metadata": {
    "collapsed": true
   },
   "outputs": [],
   "source": [
    "def accuracy(cm):\n",
    "    return np.trace(cm)*1.0/np.sum(cm)"
   ]
  },
  {
   "cell_type": "code",
   "execution_count": 14,
   "metadata": {
    "collapsed": true
   },
   "outputs": [],
   "source": [
    "def confusionmatrix(y,classifier_pred):\n",
    "    clabels = [0,1,2]\n",
    "    cm_fold = []\n",
    "    for i in clabels:\n",
    "        tmp =[0]*len(clabels)\n",
    "        for j in range(len(y)):\n",
    "            #print j\n",
    "            if y[j] == i and y[j] == classifier_pred[j]:\n",
    "                tmp[clabels.index(i)] += 1\n",
    "            elif y[j] == i and y[j] != classifier_pred[j]:\n",
    "                tmp[clabels.index(classifier_pred[j])] += 1\n",
    "        cm_fold.append(tmp)\n",
    "    return cm_fold"
   ]
  },
  {
   "cell_type": "code",
   "execution_count": 15,
   "metadata": {
    "collapsed": false
   },
   "outputs": [
    {
     "data": {
      "text/plain": [
       "array([0], dtype=int64)"
      ]
     },
     "execution_count": 15,
     "metadata": {},
     "output_type": "execute_result"
    }
   ],
   "source": [
    "Vf,Wf = descent(X,Y,4,0.00008451,800)\n",
    "classified = classify(Vf,Wf,X)\n",
    "np.unique(classified)"
   ]
  },
  {
   "cell_type": "code",
   "execution_count": 16,
   "metadata": {
    "collapsed": false
   },
   "outputs": [
    {
     "name": "stdout",
     "output_type": "stream",
     "text": [
      "[[0, 19, 0], [0, 15, 0], [0, 16, 0]]\n",
      "0.3\n"
     ]
    }
   ],
   "source": [
    "X_train, X_test, y_train, y_test = train_test_split(X, Y, test_size=0.33, random_state=42)\n",
    "Vf,Wf = descent(X_train,y_train,4,0.00008451,800)\n",
    "classified = classify(Vf,Wf,X_test)\n",
    "np.unique(classified)\n",
    "\n",
    "cm = confusionmatrix(y_test,classified)\n",
    "acc = accuracy(cm)\n",
    "\n",
    "print cm\n",
    "print acc\n"
   ]
  }
 ],
 "metadata": {
  "kernelspec": {
   "display_name": "Python 2",
   "language": "python",
   "name": "python2"
  },
  "language_info": {
   "codemirror_mode": {
    "name": "ipython",
    "version": 2
   },
   "file_extension": ".py",
   "mimetype": "text/x-python",
   "name": "python",
   "nbconvert_exporter": "python",
   "pygments_lexer": "ipython2",
   "version": "2.7.10"
  }
 },
 "nbformat": 4,
 "nbformat_minor": 0
}
