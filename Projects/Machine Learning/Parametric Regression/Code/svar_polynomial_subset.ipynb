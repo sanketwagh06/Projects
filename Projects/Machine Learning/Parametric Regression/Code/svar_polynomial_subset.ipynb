{
 "cells": [
  {
   "cell_type": "code",
   "execution_count": 1,
   "metadata": {},
   "outputs": [],
   "source": [
    "import io\n",
    "import numpy as np\n",
    "import matplotlib.pyplot as plt\n",
    "from sklearn import linear_model\n",
    "from sklearn.linear_model import LinearRegression\n",
    "from sklearn.preprocessing import PolynomialFeatures\n",
    "#from sympy.solvers import solve\n",
    "%matplotlib inline\n",
    "filename = \"svar-set2.dat.txt\"\n",
    "X = []\n",
    "Y = []\n",
    "for line in open(filename):\n",
    "    li=line.strip()\n",
    "    if not li.startswith(\"#\"):\n",
    "        var = line.split()\n",
    "        Y.append([float(var[-1])])\n",
    "        X.append([float(i) for i in var[0:len(var)-1]])"
   ]
  },
  {
   "cell_type": "code",
   "execution_count": 2,
   "metadata": {},
   "outputs": [
    {
     "data": {
      "image/png": "[encoded data removed]"
     },
     "output_type": "display_data",
     "metadata": {}
    }
   ],
   "source": [
    "plt.plot(X,Y, 'bo')\n",
    "plt.xlabel(\"X\")\n",
    "plt.ylabel(\"Y\")\n",
    "plt.show()"
   ]
  },
  {
   "cell_type": "code",
   "execution_count": 3,
   "metadata": {},
   "outputs": [],
   "source": [
    "Z = []\n",
    "Z = X\n",
    "for i in Z:\n",
    "    i.insert(0,1)"
   ]
  },
  {
   "cell_type": "code",
   "execution_count": 4,
   "metadata": {},
   "outputs": [],
   "source": [
    "'''To predict with polynomial = 3'''\n",
    "poly = PolynomialFeatures(3)\n",
    "newZ =poly.fit_transform(Z)"
   ]
  },
  {
   "cell_type": "code",
   "execution_count": 5,
   "metadata": {},
   "outputs": [
    {
     "name": "stdout",
     "output_type": "stream",
     "text": [
      "[[ 0.24962549]\n",
      " [ 0.24962549]\n",
      " [-0.35189275]\n",
      " [ 0.24962549]\n",
      " [-0.35189275]\n",
      " [ 0.15842316]\n",
      " [ 0.24962549]\n",
      " [-0.35189275]\n",
      " [ 0.15842316]\n",
      " [-0.02845795]]\n"
     ]
    }
   ],
   "source": [
    "theta_simple = np.dot(np.linalg.pinv(np.array(newZ)),np.array(Y)) #this theta value is for the single paramter single polynomial data.\n",
    "print theta_simple"
   ]
  },
  {
   "cell_type": "code",
   "execution_count": 6,
   "metadata": {},
   "outputs": [
    {
     "name": "stdout",
     "output_type": "stream",
     "text": [
      "[[  0.00000000e+00  -3.92257074e-17  -3.51892753e-01   6.38227373e-17\n",
      "   -3.51892753e-01   1.58423163e-01  -4.14449672e-45  -3.51892753e-01\n",
      "    1.58423163e-01  -2.84579505e-02]]\n"
     ]
    }
   ],
   "source": [
    "LP = LinearRegression()\n",
    "LP1 = LinearRegression() #for in built functions.\n",
    "LP.fit(np.array(newZ),np.array(Y)) #fitting the data using in-built functions.\n",
    "print LP.coef_ #co-efficient of actual feature and not one in 1st column of Z.\n",
    "#Conclusion: The values are the approximately the same as obtained using manual method."
   ]
  },
  {
   "cell_type": "code",
   "execution_count": 7,
   "metadata": {},
   "outputs": [],
   "source": [
    "zlen = len(newZ) #size of data given.\n",
    "k_folds = 10 #number of folds to be used.\n",
    "tmp_list = [] #This list will contain the floor values obtained.\n",
    "indices = [] #Using the floor values we are going to determine the indices that are going to be used for cross validation.\n",
    "for i in range(k_folds):\n",
    "    floor = zlen//k_folds\n",
    "    tmp_list.append(floor)\n",
    "ini =0 #initial value\n",
    "for i in tmp_list:\n",
    "    fin = ini + i #final value, final value will be used as intial value for the successive record.\n",
    "    indices.append((ini,fin))\n",
    "    ini = fin\n",
    "#print indices"
   ]
  },
  {
   "cell_type": "code",
   "execution_count": 8,
   "metadata": {},
   "outputs": [],
   "source": [
    "Zt = np.ndarray([]) #train\n",
    "Ztst = [] #test\n",
    "Yt = np.ndarray([])\n",
    "Ytst = []\n",
    "theta_cv = {}\n",
    "Y_train_dict = {}\n",
    "Z_train_dict = {}\n",
    "Y_dict = {} # Contains Ytst in the form of a dictionary, for being able to handle it better with Keys.\n",
    "Z_dict ={}  #Same as Y_dict{}\n",
    "key =1\n",
    "for i in indices:\n",
    "    Ztst = newZ[i[0]:i[1]] #using the Z with polynomials with degree three\n",
    "    Z_dict[key] = Ztst\n",
    "    Ytst = Y[i[0]:i[1]]\n",
    "    Y_dict[key] = Ytst\n",
    "    for j in indices:\n",
    "            if i != j:\n",
    "                Zt = Zt + newZ[j[0]:j[1]]\n",
    "                Z_train_dict[key] = Zt\n",
    "                Yt = Yt + Y[j[0]:j[1]]\n",
    "                Y_train_dict[key] = Yt\n",
    "    theta_cv[key] = np.dot(np.linalg.pinv(Zt),Yt)\n",
    "    key = key +1"
   ]
  },
  {
   "cell_type": "code",
   "execution_count": 9,
   "metadata": {},
   "outputs": [],
   "source": [
    "#Predicting the values. Comparing the values obtained using theta_cv vs y_dict\n",
    "predict ={}\n",
    "for i in theta_cv:\n",
    "    t_list = []\n",
    "    for j in Z_dict[i]:\n",
    "        t_list.append(np.dot(np.array(theta_cv[i]).transpose(),np.array(j)))\n",
    "    predict[i] = t_list"
   ]
  },
  {
   "cell_type": "code",
   "execution_count": 10,
   "metadata": {},
   "outputs": [],
   "source": [
    "predict_train = {}\n",
    "for i in theta_cv:\n",
    "    t_list = []\n",
    "    for j in Z_train_dict[i]:\n",
    "        t_list.append(np.dot(np.array(theta_cv[i]).transpose(),np.array(j)))\n",
    "    predict_train[i] = t_list"
   ]
  },
  {
   "cell_type": "code",
   "execution_count": 11,
   "metadata": {},
   "outputs": [],
   "source": [
    "MSE_test = {}\n",
    "for i in Y_dict:\n",
    "    sumd = 0\n",
    "    for m,n in zip(predict[i],Y_dict[i]):\n",
    "        sumd = sumd + (m[0]-n[0])**2\n",
    "    MSE_test[i] = sumd/len(predict[i])"
   ]
  },
  {
   "cell_type": "code",
   "execution_count": 12,
   "metadata": {},
   "outputs": [],
   "source": [
    "MSE_train = {}\n",
    "for i in Y_dict:\n",
    "    sumd = 0\n",
    "    for m,n in zip(predict_train[i],Y_train_dict[i]):\n",
    "        sumd = sumd + (m[0]-n[0])**2\n",
    "    MSE_train[i] = sumd/len(predict_train[i])"
   ]
  },
  {
   "cell_type": "code",
   "execution_count": 13,
   "metadata": {},
   "outputs": [
    {
     "name": "stdout",
     "output_type": "stream",
     "text": [
      "[array([ 0.43641378]), array([-0.00551135]), array([ 0.06879197]), array([ 0.07430659]), array([ 0.07162869]), array([-0.10836999]), array([-0.33334701]), array([ 0.05600398]), array([ 0.05940246]), array([-0.01365833]), array([ 0.0498794]), array([ 1.02174156]), array([ 0.46093933]), array([ 0.3667015]), array([ 0.08131408]), array([ 0.09005007]), array([ 0.08698259]), array([-0.11019354]), array([-0.01445727]), array([ 0.7120838])] \n",
      "\n",
      "[[0.3281640823970478], [-0.01318636434710183], [0.1312429212494962], [0.01440296550640596], [0.05434596097022962], [0.0591919910690206], [0.0579754374806327], [0.07324981691943128], [0.00548481963279009], [-0.1942255335845428], [-0.03925344756055267], [1.060532837817737], [0.3128823923967042], [0.2121746853914799], [0.05373187805811879], [-0.007168802987235975], [0.0913074516583969], [0.05937938955747971], [-0.06247720776741519], [0.7277765971247848]]\n"
     ]
    }
   ],
   "source": [
    "print predict[1] ,'\\n'\n",
    "print Y_dict[1]"
   ]
  },
  {
   "cell_type": "code",
   "execution_count": 14,
   "metadata": {},
   "outputs": [
    {
     "name": "stdout",
     "output_type": "stream",
     "text": [
      "{1: 0.15270381576392836, 2: 0.48407398308727395, 3: 1.0797546733819177, 4: 2.0493739885792399, 5: 3.3259026041589772, 6: 4.6296961267727541, 7: 6.3525139967388977, 8: 7.8798654975232321, 9: 9.8322815077540788, 10: 12.236288727917252} \n",
      "\n",
      "{1: 0.01666852235110167, 2: 0.026569899562506171, 3: 0.030248755504994063, 4: 0.034062107060351912, 5: 0.022228907273040853, 6: 0.03735564021661985, 7: 0.021690740024318114, 8: 0.034666040228301345, 9: 0.030981508807014967, 10: 0.026995930939542955}\n"
     ]
    }
   ],
   "source": [
    "print MSE_train,'\\n'\n",
    "print MSE_test"
   ]
  },
  {
   "cell_type": "code",
   "execution_count": 15,
   "metadata": {},
   "outputs": [
    {
     "name": "stdout",
     "output_type": "stream",
     "text": [
      "4.80224549217\n",
      "0.0281468051968\n"
     ]
    }
   ],
   "source": [
    "print np.mean(MSE_train.values())\n",
    "print np.mean(MSE_test.values())"
   ]
  },
  {
   "cell_type": "code",
   "execution_count": 16,
   "metadata": {},
   "outputs": [],
   "source": [
    "''' To predict with polynomial with degree = 4'''\n",
    "poly = PolynomialFeatures(4)\n",
    "newZ =poly.fit_transform(Z)\n",
    "\n",
    "theta_simple = np.dot(np.linalg.pinv(np.array(Z)),np.array(Y)) #this theta value is for the single paramter single polynomial data.\n",
    "#print theta_simple\n",
    "\n",
    "#LP = LinearRegression()\n",
    "#LP1 = LinearRegression() #for in built functions.\n",
    "#LP.fit(np.array(Z),np.array(Y)) #fitting the data using in-built functions.\n",
    "#print LP.coef_ #co-efficient of actual feature and not one in 1st column of Z.\n",
    "\n",
    "zlen = len(newZ) #size of data given.\n",
    "k_folds = 10 #number of folds to be used.\n",
    "tmp_list = [] #This list will contain the floor values obtained.\n",
    "indices = [] #Using the floor values we are going to determine the indices that are going to be used for cross validation.\n",
    "for i in range(k_folds):\n",
    "    floor = zlen//k_folds\n",
    "    tmp_list.append(floor)\n",
    "ini =0 #initial value\n",
    "for i in tmp_list:\n",
    "    fin = ini + i #final value, final value will be used as intial value for the successive record.\n",
    "    indices.append((ini,fin))\n",
    "    ini = fin\n",
    "#print indices\n",
    "\n",
    "Zt = np.ndarray([]) #train\n",
    "Ztst = [] #test\n",
    "Yt = np.ndarray([])\n",
    "Ytst = []\n",
    "theta_cv = {}\n",
    "Y_train_dict = {}\n",
    "Z_train_dict = {}\n",
    "Y_dict = {} # Contains Ytst in the form of a dictionary, for being able to handle it better with Keys.\n",
    "Z_dict ={}  #Same as Y_dict{}\n",
    "key =1\n",
    "for i in indices:\n",
    "    Ztst = newZ[i[0]:i[1]] #using the Z with polynomials\n",
    "    Z_dict[key] = Ztst\n",
    "    Ytst = Y[i[0]:i[1]]\n",
    "    Y_dict[key] = Ytst\n",
    "    for j in indices:\n",
    "            if i != j:\n",
    "                Zt = Zt + newZ[j[0]:j[1]]\n",
    "                Z_train_dict[key] = Zt\n",
    "                Yt = Yt + Y[j[0]:j[1]]\n",
    "                Y_train_dict[key] = Yt\n",
    "    theta_cv[key] = np.dot(np.linalg.pinv(Zt),Yt)\n",
    "    key = key +1"
   ]
  },
  {
   "cell_type": "code",
   "execution_count": 17,
   "metadata": {},
   "outputs": [],
   "source": [
    "#Predicting the values. Comparing the values obtained using theta_cv vs y_dict\n",
    "predict ={}\n",
    "for i in theta_cv:\n",
    "    t_list = []\n",
    "    for j in Z_dict[i]:\n",
    "        t_list.append(np.dot(np.array(theta_cv[i]).transpose(),np.array(j)))\n",
    "    predict[i] = t_list"
   ]
  },
  {
   "cell_type": "code",
   "execution_count": 18,
   "metadata": {},
   "outputs": [],
   "source": [
    "predict_train = {}\n",
    "for i in theta_cv:\n",
    "    t_list = []\n",
    "    for j in Z_train_dict[i]:\n",
    "        t_list.append(np.dot(np.array(theta_cv[i]).transpose(),np.array(j)))\n",
    "    predict_train[i] = t_list"
   ]
  },
  {
   "cell_type": "code",
   "execution_count": 19,
   "metadata": {},
   "outputs": [],
   "source": [
    "MSE_test = {}\n",
    "for i in Y_dict:\n",
    "    sumd = 0\n",
    "    for m,n in zip(predict[i],Y_dict[i]):\n",
    "        sumd = sumd + (m[0]-n[0])**2\n",
    "    MSE_test[i] = sumd/len(predict[i])"
   ]
  },
  {
   "cell_type": "code",
   "execution_count": 20,
   "metadata": {},
   "outputs": [],
   "source": [
    "MSE_train = {}\n",
    "for i in Y_dict:\n",
    "    sumd = 0\n",
    "    for m,n in zip(predict_train[i],Y_train_dict[i]):\n",
    "        sumd = sumd + (m[0]-n[0])**2\n",
    "    MSE_train[i] = sumd/len(predict_train[i])"
   ]
  },
  {
   "cell_type": "code",
   "execution_count": 21,
   "metadata": {},
   "outputs": [
    {
     "name": "stdout",
     "output_type": "stream",
     "text": [
      "{1: 0.096457719284747348, 2: 0.3247792393432597, 3: 0.67844698382840707, 4: 1.2439499623208254, 5: 1.9730054231507501, 6: 2.744601587785493, 7: 3.727668243226772, 8: 4.7820443423792067, 9: 5.941135760735067, 10: 7.3472437620662587} \n",
      "\n",
      "{1: 0.0056838601364318318, 2: 0.012282662112038437, 3: 0.01851740305200569, 4: 0.012919922575245144, 5: 0.011431254324390416, 6: 0.028279469432509606, 7: 0.011191732137179802, 8: 0.014292914277511712, 9: 0.020992415470229918, 10: 0.006829816018128182}\n"
     ]
    }
   ],
   "source": [
    "print MSE_train,'\\n'\n",
    "print MSE_test"
   ]
  },
  {
   "cell_type": "code",
   "execution_count": 22,
   "metadata": {},
   "outputs": [
    {
     "name": "stdout",
     "output_type": "stream",
     "text": [
      "2.88593330241\n",
      "0.0142421449536\n"
     ]
    }
   ],
   "source": [
    "print np.mean(MSE_train.values())\n",
    "print np.mean(MSE_test.values())"
   ]
  },
  {
   "cell_type": "code",
   "execution_count": 23,
   "metadata": {},
   "outputs": [],
   "source": [
    "'''To predict with polynomial = 3 with subset of  data'''\n",
    "poly = PolynomialFeatures(3)\n",
    "newZ1 = poly.fit_transform(Z[0:100])\n",
    "Y_chunk = Y[0:100]\n",
    "\n",
    "zlen = len(newZ1) #size of data given.\n",
    "k_folds = 10 #number of folds to be used.\n",
    "tmp_list = [] #This list will contain the floor values obtained.\n",
    "indices = [] #Using the floor values we are going to determine the indices that are going to be used for cross validation.\n",
    "for i in range(k_folds):\n",
    "    floor = zlen//k_folds\n",
    "    tmp_list.append(floor)\n",
    "ini =0 #initial value\n",
    "for i in tmp_list:\n",
    "    fin = ini + i #final value, final value will be used as intial value for the successive record.\n",
    "    indices.append((ini,fin))\n",
    "    ini = fin\n",
    "#print indices\n",
    "\n",
    "Zt = np.ndarray([]) #train\n",
    "Ztst = [] #test\n",
    "Yt = np.ndarray([])\n",
    "Ytst = []\n",
    "theta_cv = {}\n",
    "Y_train_dict = {}\n",
    "Z_train_dict = {}\n",
    "Y_dict = {} # Contains Ytst in the form of a dictionary, for being able to handle it better with Keys.\n",
    "Z_dict ={}  #Same as Y_dict{}\n",
    "key =1\n",
    "for i in indices:\n",
    "    Ztst = newZ1[i[0]:i[1]] #using the Z with polynomials with degree three\n",
    "    Z_dict[key] = Ztst\n",
    "    Ytst = Y_chunk[i[0]:i[1]]\n",
    "    Y_dict[key] = Ytst\n",
    "    for j in indices:\n",
    "            if i != j:\n",
    "                #print Zt.shape\n",
    "                Zt = Zt + newZ1[j[0]:j[1]]\n",
    "                Z_train_dict[key] = Zt\n",
    "                Yt = Yt + Y_chunk[j[0]:j[1]]\n",
    "                Y_train_dict[key] = Yt\n",
    "    theta_cv[key] = np.dot(np.linalg.pinv(Zt),Yt)\n",
    "    key = key +1"
   ]
  },
  {
   "cell_type": "code",
   "execution_count": 24,
   "metadata": {},
   "outputs": [],
   "source": [
    "#Predicting the values. Comparing the values obtained using theta_cv vs y_dict\n",
    "predict ={}\n",
    "for i in theta_cv:\n",
    "    t_list = []\n",
    "    for j in Z_dict[i]:\n",
    "        t_list.append(np.dot(np.array(theta_cv[i]).transpose(),np.array(j)))\n",
    "    predict[i] = t_list\n",
    "    \n",
    "predict_train = {}\n",
    "for i in theta_cv:\n",
    "    t_list = []\n",
    "    for j in Z_train_dict[i]:\n",
    "        t_list.append(np.dot(np.array(theta_cv[i]).transpose(),np.array(j)))\n",
    "    predict_train[i] = t_list"
   ]
  },
  {
   "cell_type": "code",
   "execution_count": 25,
   "metadata": {},
   "outputs": [],
   "source": [
    "MSE_test = {}\n",
    "for i in Y_dict:\n",
    "    sumd = 0\n",
    "    for m,n in zip(predict[i],Y_dict[i]):\n",
    "        sumd = sumd + (m[0]-n[0])**2\n",
    "    MSE_test[i] = sumd/len(predict[i])\n",
    "\n",
    "MSE_train = {}\n",
    "for i in Y_dict:\n",
    "    sumd = 0\n",
    "    for m,n in zip(predict_train[i],Y_train_dict[i]):\n",
    "        sumd = sumd + (m[0]-n[0])**2\n",
    "    MSE_train[i] = sumd/len(predict_train[i])"
   ]
  },
  {
   "cell_type": "code",
   "execution_count": 26,
   "metadata": {},
   "outputs": [
    {
     "name": "stdout",
     "output_type": "stream",
     "text": [
      "{1: 0.12452043699759116, 2: 0.41567713912295207, 3: 0.72239881854306454, 4: 1.0265787230439405, 5: 1.7221547908755883, 6: 2.5283477738432225, 7: 3.8357207608641231, 8: 4.9991986374030954, 9: 6.4874438116771556, 10: 8.1821916033029378} \n",
      "\n",
      "{1: 0.014543948334030193, 2: 0.011601498224693616, 3: 0.024547730270623257, 4: 0.034917244760384276, 5: 0.02756576064454529, 6: 0.035921421924778034, 7: 0.021219121790208725, 8: 0.033898239602073631, 9: 0.021666129138839595, 10: 0.0048436229210579431}\n"
     ]
    }
   ],
   "source": [
    "print MSE_train,'\\n'\n",
    "print MSE_test"
   ]
  },
  {
   "cell_type": "code",
   "execution_count": 27,
   "metadata": {},
   "outputs": [
    {
     "name": "stdout",
     "output_type": "stream",
     "text": [
      "3.00442324957\n",
      "0.0230724717611\n"
     ]
    }
   ],
   "source": [
    "print np.mean(MSE_train.values())\n",
    "print np.mean(MSE_test.values())"
   ]
  },
  {
   "cell_type": "code",
   "execution_count": 28,
   "metadata": {},
   "outputs": [],
   "source": [
    "'''To predict with polynomial with degree 4 with subset of original data'''\n",
    "poly = PolynomialFeatures(4)\n",
    "newZ2 = poly.fit_transform(Z[0:100])\n",
    "Y_chunk = Y[0:100]\n",
    "\n",
    "zlen = len(newZ2) #size of data given.\n",
    "k_folds = 10 #number of folds to be used.\n",
    "tmp_list = [] #This list will contain the floor values obtained.\n",
    "indices = [] #Using the floor values we are going to determine the indices that are going to be used for cross validation.\n",
    "for i in range(k_folds):\n",
    "    floor = zlen//k_folds\n",
    "    tmp_list.append(floor)\n",
    "ini =0 #initial value\n",
    "for i in tmp_list:\n",
    "    fin = ini + i #final value, final value will be used as intial value for the successive record.\n",
    "    indices.append((ini,fin))\n",
    "    ini = fin\n",
    "#print indices\n",
    "\n",
    "Zt = np.ndarray([]) #train\n",
    "Ztst = [] #test\n",
    "Yt = np.ndarray([])\n",
    "Ytst = []\n",
    "theta_cv = {}\n",
    "Y_train_dict = {}\n",
    "Z_train_dict = {}\n",
    "Y_dict = {} # Contains Ytst in the form of a dictionary, for being able to handle it better with Keys.\n",
    "Z_dict ={}  #Same as Y_dict{}\n",
    "key =1\n",
    "for i in indices:\n",
    "    Ztst = newZ2[i[0]:i[1]] #using the Z with polynomials with degree three\n",
    "    Z_dict[key] = Ztst\n",
    "    Ytst = Y_chunk[i[0]:i[1]]\n",
    "    Y_dict[key] = Ytst\n",
    "    for j in indices:\n",
    "            if i != j:\n",
    "                #print Zt.shape\n",
    "                Zt = Zt + newZ2[j[0]:j[1]]\n",
    "                Z_train_dict[key] = Zt\n",
    "                Yt = Yt + Y_chunk[j[0]:j[1]]\n",
    "                Y_train_dict[key] = Yt\n",
    "    theta_cv[key] = np.dot(np.linalg.pinv(Zt),Yt)\n",
    "    key = key +1\n",
    "    \n",
    "#Predicting the values. Comparing the values obtained using theta_cv vs y_dict\n",
    "predict ={}\n",
    "for i in theta_cv:\n",
    "    t_list = []\n",
    "    for j in Z_dict[i]:\n",
    "        t_list.append(np.dot(np.array(theta_cv[i]).transpose(),np.array(j)))\n",
    "    predict[i] = t_list\n",
    "    \n",
    "predict_train = {}\n",
    "for i in theta_cv:\n",
    "    t_list = []\n",
    "    for j in Z_train_dict[i]:\n",
    "        t_list.append(np.dot(np.array(theta_cv[i]).transpose(),np.array(j)))\n",
    "    predict_train[i] = t_list\n",
    "    \n",
    "#Finding MSE train and Test errors.\n",
    "MSE_test = {}\n",
    "for i in Y_dict:\n",
    "    sumd = 0\n",
    "    for m,n in zip(predict[i],Y_dict[i]):\n",
    "        sumd = sumd + (m[0]-n[0])**2\n",
    "    MSE_test[i] = sumd/len(predict[i])\n",
    "\n",
    "MSE_train = {}\n",
    "for i in Y_dict:\n",
    "    sumd = 0\n",
    "    for m,n in zip(predict_train[i],Y_train_dict[i]):\n",
    "        sumd = sumd + (m[0]-n[0])**2\n",
    "    MSE_train[i] = sumd/len(predict_train[i])"
   ]
  },
  {
   "cell_type": "code",
   "execution_count": 29,
   "metadata": {},
   "outputs": [
    {
     "name": "stdout",
     "output_type": "stream",
     "text": [
      "{1: 0.062420198460228983, 2: 0.25532757881086698, 3: 0.49840904614714321, 4: 0.76216453382367444, 5: 1.2336445917229493, 6: 1.6758677021888311, 7: 2.3646808666658763, 8: 2.9229614304273706, 9: 3.5838458461314957, 10: 4.6041954042208282} \n",
      "\n",
      "{1: 0.0059045323838426162, 2: 0.0099297672723102429, 3: 0.0094321147955755327, 4: 0.017169084233459735, 5: 0.014045239639018681, 6: 0.020379406337653921, 7: 0.0082972813423571965, 8: 0.018643799436305793, 9: 0.0094844861131009404, 10: 0.014245249374061342}\n"
     ]
    }
   ],
   "source": [
    "print MSE_train,'\\n'\n",
    "print MSE_test"
   ]
  },
  {
   "cell_type": "code",
   "execution_count": 30,
   "metadata": {},
   "outputs": [
    {
     "name": "stdout",
     "output_type": "stream",
     "text": [
      "1.79635171986\n",
      "0.0127530960928\n"
     ]
    }
   ],
   "source": [
    "print np.mean(MSE_train.values())\n",
    "print np.mean(MSE_test.values())"
   ]
  },
  {
   "cell_type": "code",
   "execution_count": null,
   "metadata": {},
   "outputs": [],
   "source": [
    ""
   ]
  }
 ],
 "metadata": {
  "kernelspec": {
   "display_name": "Python 2",
   "language": "python",
   "name": "python2"
  },
  "language_info": {
   "codemirror_mode": {
    "name": "ipython",
    "version": 2.0
   },
   "file_extension": ".py",
   "mimetype": "text/x-python",
   "name": "python",
   "nbconvert_exporter": "python",
   "pygments_lexer": "ipython2",
   "version": "2.7.10"
  }
 },
 "nbformat": 4,
 "nbformat_minor": 0
}